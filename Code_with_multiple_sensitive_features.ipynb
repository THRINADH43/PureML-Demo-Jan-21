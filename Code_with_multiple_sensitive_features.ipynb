{
 "cells": [
  {
   "cell_type": "code",
   "execution_count": null,
   "metadata": {},
   "outputs": [],
   "source": [
    "# %pip install --index-url https://test.pypi.org/simple/ --extra-index-url https://pypi.org/simple pureml-evaluate\n",
    "# %pip install --index-url https://test.pypi.org/simple/ --extra-index-url https://pypi.org/simple pureml\n",
    "# %pip install --index-url https://test.pypi.org/simple/ --extra-index-url https://pypi.org/simple pureml-policy\n",
    "# %pip install lightgbm"
   ]
  },
  {
   "cell_type": "code",
   "execution_count": 1,
   "metadata": {},
   "outputs": [],
   "source": [
    "# Import all the required files\n",
    "import pureml\n",
    "from pureml.decorators import load_data,transformer,dataset,model\n",
    "import numpy as np\n",
    "import pandas as pd\n",
    "import lightgbm as lgb\n",
    "from sklearn.pipeline import Pipeline\n",
    "from sklearn.preprocessing import StandardScaler\n",
    "from sklearn.model_selection import train_test_split\n",
    "import warnings\n",
    "import random\n",
    "\n",
    "warnings.simplefilter(\"ignore\")\n",
    "rand_seed = 1234\n",
    "np.random.seed(rand_seed)"
   ]
  },
  {
   "cell_type": "code",
   "execution_count": 2,
   "metadata": {},
   "outputs": [],
   "source": [
    "@load_data()\n",
    "def load_dataset():\n",
    "    df = pd.read_csv('default of credit card clients.csv', header=1)\n",
    "\n",
    "    return df"
   ]
  },
  {
   "cell_type": "code",
   "execution_count": 3,
   "metadata": {},
   "outputs": [],
   "source": [
    "@transformer()\n",
    "def remove_columns(df):\n",
    "    return df.drop(['ID'],axis =1)"
   ]
  },
  {
   "cell_type": "code",
   "execution_count": 4,
   "metadata": {},
   "outputs": [],
   "source": [
    "@transformer()\n",
    "def rename_columns(df):\n",
    "    return df.rename(columns={\"PAY_0\": \"PAY_1\",\"default payment next month\":\"default\", \"SEX\":\"sex\"})    "
   ]
  },
  {
   "cell_type": "code",
   "execution_count": 5,
   "metadata": {},
   "outputs": [],
   "source": [
    "@transformer()\n",
    "def dataset_imbalances(df):\n",
    "    categorical_features = [\"sex\", \"EDUCATION\", \"MARRIAGE\"]\n",
    "\n",
    "    for col_name in categorical_features:\n",
    "        df[col_name] = df[col_name].astype(\"category\")\n",
    "\n",
    "    Y, A = df.loc[:, \"default\"], df.loc[:, \"sex\"]\n",
    "    X = pd.get_dummies(df.drop(columns=[\"default\", \"sex\"]))\n",
    "\n",
    "\n",
    "    A_str = A.map({1: \"male\", 2: \"female\"})\n",
    "\n",
    "    A_str.value_counts(normalize=True)\n",
    "    Y.value_counts(normalize=True)\n",
    "    \n",
    "    # Generate \"Interest\" column as a DataFrame\n",
    "    interest_values = np.random.normal(loc=2 * Y, scale=A)\n",
    "    interest_column = pd.DataFrame(interest_values, columns=[\"Interest\"])\n",
    "\n",
    "    # Concatenate \"Interest\" column with X DataFrame\n",
    "    X = pd.concat([X, interest_column], axis=1)\n",
    "\n",
    "    return {'X':X,'Y':Y,'A_str':A_str}\n"
   ]
  },
  {
   "cell_type": "code",
   "execution_count": 6,
   "metadata": {},
   "outputs": [],
   "source": [
    "@transformer()\n",
    "def resample_training_data(X_train, Y_train, A_train):\n",
    "   \n",
    "    negative_ids = Y_train[Y_train == 0].index\n",
    "    positive_ids = Y_train[Y_train == 1].index\n",
    "    balanced_ids = positive_ids.union(\n",
    "        np.random.choice(a=negative_ids, size=len(positive_ids)))\n",
    "\n",
    "    X_train = X_train.loc[balanced_ids, :]\n",
    "    Y_train = Y_train.loc[balanced_ids]\n",
    "    A_train = A_train.loc[balanced_ids]\n",
    "    return  {\"X_train\": X_train, \"Y_train\":Y_train, \"A_train\": A_train}\n",
    "\n"
   ]
  },
  {
   "cell_type": "code",
   "execution_count": 7,
   "metadata": {},
   "outputs": [],
   "source": [
    "\n",
    "@transformer()\n",
    "def add_new_column(sensitive_features):\n",
    "    values = ['Indian', 'African', 'American']\n",
    "\n",
    "    list_length = sensitive_features.shape[0]\n",
    "    full_list = values * (list_length // len(values))\n",
    "    full_list += values[:list_length % len(values)]\n",
    "    random.shuffle(full_list)\n",
    "\n",
    "    full_list = np.array(full_list)\n",
    "\n",
    "    s_feat = pd.concat([sensitive_features.reset_index(drop=True), pd.DataFrame(full_list, columns=['race'])], axis=1)\n",
    "\n",
    "    return s_feat"
   ]
  },
  {
   "cell_type": "code",
   "execution_count": 9,
   "metadata": {},
   "outputs": [
    {
     "data": {
      "text/html": [
       "<pre style=\"white-space:pre;overflow-x:auto;line-height:normal;font-family:Menlo,'DejaVu Sans Mono',consolas,'Courier New',monospace\"><span style=\"color: #808000; text-decoration-color: #808000\">Dataset details have not been found</span>\n",
       "</pre>\n"
      ],
      "text/plain": [
       "\u001b[33mDataset details have not been found\u001b[0m\n"
      ]
     },
     "metadata": {},
     "output_type": "display_data"
    },
    {
     "data": {
      "text/html": [
       "<pre style=\"white-space:pre;overflow-x:auto;line-height:normal;font-family:Menlo,'DejaVu Sans Mono',consolas,'Courier New',monospace\"><span style=\"color: #008000; text-decoration-color: #008000\">Dataset has been created!</span>\n",
       "</pre>\n"
      ],
      "text/plain": [
       "\u001b[32mDataset has been created!\u001b[0m\n"
      ]
     },
     "metadata": {},
     "output_type": "display_data"
    },
    {
     "data": {
      "text/html": [
       "<pre style=\"white-space:pre;overflow-x:auto;line-height:normal;font-family:Menlo,'DejaVu Sans Mono',consolas,'Courier New',monospace\">Dataset version:  v1\n",
       "</pre>\n"
      ],
      "text/plain": [
       "Dataset version:  v1\n"
      ]
     },
     "metadata": {},
     "output_type": "display_data"
    },
    {
     "data": {
      "text/html": [
       "<pre style=\"white-space:pre;overflow-x:auto;line-height:normal;font-family:Menlo,'DejaVu Sans Mono',consolas,'Courier New',monospace\">Dataset label:  credit_example_dataset_demo4:v1\n",
       "</pre>\n"
      ],
      "text/plain": [
       "Dataset label:  credit_example_dataset_demo4:v1\n"
      ]
     },
     "metadata": {},
     "output_type": "display_data"
    },
    {
     "data": {
      "text/html": [
       "<pre style=\"white-space:pre;overflow-x:auto;line-height:normal;font-family:Menlo,'DejaVu Sans Mono',consolas,'Courier New',monospace\"><span style=\"color: #008000; text-decoration-color: #008000\">Dataset and lineage have been registered!</span>\n",
       "</pre>\n"
      ],
      "text/plain": [
       "\u001b[32mDataset and lineage have been registered!\u001b[0m\n"
      ]
     },
     "metadata": {},
     "output_type": "display_data"
    }
   ],
   "source": [
    "@dataset(label='credit_example_dataset_demo4',upload=True)\n",
    "def create_dataset():\n",
    "    df = load_dataset()\n",
    "    df = remove_columns(df)\n",
    "    df = rename_columns(df)\n",
    "    data  = dataset_imbalances(df)\n",
    "    X,Y,A_str = data['X'],data['Y'],data['A_str']\n",
    "    X_train, X_test, y_train, y_test, A_train, A_test = train_test_split(X, Y, A_str, test_size=0.35, stratify=Y)\n",
    "    data = resample_training_data(X_train, y_train, A_train)\n",
    "    X_train, y_train, A_train = data['X_train'],data['Y_train'],data['A_train']\n",
    "\n",
    "    A_test = add_new_column(sensitive_features=A_test)\n",
    "\n",
    "    return {\"x_train\":X_train,\"y_train\":y_train.to_numpy(),\"x_test\":X_test,\"y_test\":y_test.to_numpy(),\"sensitive_features\" : A_test}\n",
    "\n",
    "\n",
    "data_created = create_dataset()"
   ]
  },
  {
   "cell_type": "code",
   "execution_count": 10,
   "metadata": {},
   "outputs": [
    {
     "name": "stdout",
     "output_type": "stream",
     "text": [
      "[LightGBM] [Info] Number of positive: 4313, number of negative: 4313\n",
      "[LightGBM] [Info] Auto-choosing row-wise multi-threading, the overhead of testing was 0.002283 seconds.\n",
      "You can set `force_row_wise=true` to remove the overhead.\n",
      "And if memory is not enough, you can set `force_col_wise=true`.\n",
      "[LightGBM] [Info] Total Bins 3514\n",
      "[LightGBM] [Info] Number of data points in the train set: 8626, number of used features: 29\n",
      "[LightGBM] [Info] [binary:BoostFromScore]: pavg=0.500000 -> initscore=0.000000\n",
      "[LightGBM] [Warning] No further splits with positive gain, best gain: -inf\n",
      "[LightGBM] [Warning] No further splits with positive gain, best gain: -inf\n",
      "[LightGBM] [Warning] No further splits with positive gain, best gain: -inf\n",
      "[LightGBM] [Warning] No further splits with positive gain, best gain: -inf\n",
      "[LightGBM] [Warning] No further splits with positive gain, best gain: -inf\n",
      "[LightGBM] [Warning] No further splits with positive gain, best gain: -inf\n",
      "[LightGBM] [Warning] No further splits with positive gain, best gain: -inf\n",
      "[LightGBM] [Warning] No further splits with positive gain, best gain: -inf\n",
      "[LightGBM] [Warning] No further splits with positive gain, best gain: -inf\n",
      "[LightGBM] [Warning] No further splits with positive gain, best gain: -inf\n",
      "[LightGBM] [Warning] No further splits with positive gain, best gain: -inf\n",
      "[LightGBM] [Warning] No further splits with positive gain, best gain: -inf\n",
      "[LightGBM] [Warning] No further splits with positive gain, best gain: -inf\n",
      "[LightGBM] [Warning] No further splits with positive gain, best gain: -inf\n",
      "[LightGBM] [Warning] No further splits with positive gain, best gain: -inf\n",
      "[LightGBM] [Warning] No further splits with positive gain, best gain: -inf\n",
      "[LightGBM] [Warning] No further splits with positive gain, best gain: -inf\n",
      "[LightGBM] [Warning] No further splits with positive gain, best gain: -inf\n",
      "[LightGBM] [Warning] No further splits with positive gain, best gain: -inf\n",
      "[LightGBM] [Warning] No further splits with positive gain, best gain: -inf\n",
      "[LightGBM] [Warning] No further splits with positive gain, best gain: -inf\n",
      "[LightGBM] [Warning] No further splits with positive gain, best gain: -inf\n",
      "[LightGBM] [Warning] No further splits with positive gain, best gain: -inf\n",
      "[LightGBM] [Warning] No further splits with positive gain, best gain: -inf\n",
      "[LightGBM] [Warning] No further splits with positive gain, best gain: -inf\n",
      "[LightGBM] [Warning] No further splits with positive gain, best gain: -inf\n",
      "[LightGBM] [Warning] No further splits with positive gain, best gain: -inf\n",
      "[LightGBM] [Warning] No further splits with positive gain, best gain: -inf\n",
      "[LightGBM] [Warning] No further splits with positive gain, best gain: -inf\n",
      "[LightGBM] [Warning] No further splits with positive gain, best gain: -inf\n",
      "[LightGBM] [Warning] No further splits with positive gain, best gain: -inf\n",
      "[LightGBM] [Warning] No further splits with positive gain, best gain: -inf\n",
      "[LightGBM] [Warning] No further splits with positive gain, best gain: -inf\n",
      "[LightGBM] [Warning] No further splits with positive gain, best gain: -inf\n",
      "[LightGBM] [Warning] No further splits with positive gain, best gain: -inf\n",
      "[LightGBM] [Warning] No further splits with positive gain, best gain: -inf\n",
      "[LightGBM] [Warning] No further splits with positive gain, best gain: -inf\n",
      "[LightGBM] [Warning] No further splits with positive gain, best gain: -inf\n",
      "[LightGBM] [Warning] No further splits with positive gain, best gain: -inf\n",
      "[LightGBM] [Warning] No further splits with positive gain, best gain: -inf\n",
      "[LightGBM] [Warning] No further splits with positive gain, best gain: -inf\n",
      "[LightGBM] [Warning] No further splits with positive gain, best gain: -inf\n",
      "[LightGBM] [Warning] No further splits with positive gain, best gain: -inf\n",
      "[LightGBM] [Warning] No further splits with positive gain, best gain: -inf\n",
      "[LightGBM] [Warning] No further splits with positive gain, best gain: -inf\n"
     ]
    },
    {
     "data": {
      "text/html": [
       "<pre style=\"white-space:pre;overflow-x:auto;line-height:normal;font-family:Menlo,'DejaVu Sans Mono',consolas,'Courier New',monospace\">Model details have not been found\n",
       "</pre>\n"
      ],
      "text/plain": [
       "Model details have not been found\n"
      ]
     },
     "metadata": {},
     "output_type": "display_data"
    },
    {
     "data": {
      "text/html": [
       "<pre style=\"white-space:pre;overflow-x:auto;line-height:normal;font-family:Menlo,'DejaVu Sans Mono',consolas,'Courier New',monospace\"><span style=\"color: #008000; text-decoration-color: #008000\">Model has been created!</span>\n",
       "</pre>\n"
      ],
      "text/plain": [
       "\u001b[32mModel has been created!\u001b[0m\n"
      ]
     },
     "metadata": {},
     "output_type": "display_data"
    },
    {
     "data": {
      "text/html": [
       "<pre style=\"white-space:pre;overflow-x:auto;line-height:normal;font-family:Menlo,'DejaVu Sans Mono',consolas,'Courier New',monospace\"><span style=\"color: #008000; text-decoration-color: #008000\">Model has been registered!</span>\n",
       "</pre>\n"
      ],
      "text/plain": [
       "\u001b[32mModel has been registered!\u001b[0m\n"
      ]
     },
     "metadata": {},
     "output_type": "display_data"
    },
    {
     "data": {
      "text/html": [
       "<pre style=\"white-space:pre;overflow-x:auto;line-height:normal;font-family:Menlo,'DejaVu Sans Mono',consolas,'Courier New',monospace\">Model version:  v1\n",
       "</pre>\n"
      ],
      "text/plain": [
       "Model version:  v1\n"
      ]
     },
     "metadata": {},
     "output_type": "display_data"
    },
    {
     "data": {
      "text/html": [
       "<pre style=\"white-space:pre;overflow-x:auto;line-height:normal;font-family:Menlo,'DejaVu Sans Mono',consolas,'Courier New',monospace\">Model label:  credit_example_model_demo4:v1\n",
       "</pre>\n"
      ],
      "text/plain": [
       "Model label:  credit_example_model_demo4:v1\n"
      ]
     },
     "metadata": {},
     "output_type": "display_data"
    },
    {
     "name": "stdout",
     "output_type": "stream",
     "text": [
      "No metrics are found in config\n"
     ]
    },
    {
     "data": {
      "text/html": [
       "<pre style=\"white-space:pre;overflow-x:auto;line-height:normal;font-family:Menlo,'DejaVu Sans Mono',consolas,'Courier New',monospace\"><span style=\"color: #008000; text-decoration-color: #008000\">Params have been registered!</span>\n",
       "</pre>\n"
      ],
      "text/plain": [
       "\u001b[32mParams have been registered!\u001b[0m\n"
      ]
     },
     "metadata": {},
     "output_type": "display_data"
    },
    {
     "name": "stdout",
     "output_type": "stream",
     "text": [
      "No figures are found in config\n"
     ]
    }
   ],
   "source": [
    "@model(label='credit_example_model_demo4')\n",
    "def create_model():\n",
    "    data = pureml.dataset.fetch('credit_example_dataset_demo4:v1')\n",
    "    x_train = data['x_train']\n",
    "    y_train = data['y_train']\n",
    "    lgb_params = {\n",
    "    \"objective\": \"binary\",\n",
    "    \"metric\": \"auc\",\n",
    "    \"learning_rate\": 0.412,\n",
    "    \"num_leaves\": 10,\n",
    "    \"max_depth\": 3,\n",
    "    \"random_state\": rand_seed,\n",
    "    \"n_jobs\": 1,}\n",
    "\n",
    "    pureml.log(params=lgb_params)\n",
    "    estimator = Pipeline(\n",
    "        steps=[\n",
    "            (\"preprocessing\", StandardScaler()),\n",
    "            (\"classifier\", lgb.LGBMClassifier(**lgb_params)),\n",
    "        ]\n",
    "    )\n",
    "\n",
    "    estimator.fit(x_train, y_train)\n",
    "    return estimator\n",
    "\n",
    "model_lgb = create_model()"
   ]
  },
  {
   "cell_type": "code",
   "execution_count": 12,
   "metadata": {},
   "outputs": [
    {
     "data": {
      "text/html": [
       "<pre style=\"white-space:pre;overflow-x:auto;line-height:normal;font-family:Menlo,'DejaVu Sans Mono',consolas,'Courier New',monospace\"><span style=\"color: #008000; text-decoration-color: #008000\">Predict Function has been registered!</span>\n",
       "</pre>\n"
      ],
      "text/plain": [
       "\u001b[32mPredict Function has been registered!\u001b[0m\n"
      ]
     },
     "metadata": {},
     "output_type": "display_data"
    }
   ],
   "source": [
    "pureml.predict.add(label='credit_example_model_demo4:v1',paths={'predict':'predict.py'})"
   ]
  },
  {
   "cell_type": "markdown",
   "metadata": {},
   "source": [
    "NYC 144"
   ]
  },
  {
   "cell_type": "code",
   "execution_count": 13,
   "metadata": {},
   "outputs": [
    {
     "data": {
      "text/html": [
       "<pre style=\"white-space:pre;overflow-x:auto;line-height:normal;font-family:Menlo,'DejaVu Sans Mono',consolas,'Courier New',monospace\"><span style=\"color: #008000; text-decoration-color: #008000; font-weight: bold\"> Succesfully fetched the dataset</span>\n",
       "</pre>\n"
      ],
      "text/plain": [
       "\u001b[1;32m Succesfully fetched the dataset\u001b[0m\n"
      ]
     },
     "metadata": {},
     "output_type": "display_data"
    },
    {
     "data": {
      "text/html": [
       "<pre style=\"white-space:pre;overflow-x:auto;line-height:normal;font-family:Menlo,'DejaVu Sans Mono',consolas,'Courier New',monospace\"><span style=\"color: #008000; text-decoration-color: #008000; font-weight: bold\"> Succesfully fetched the predictor</span>\n",
       "</pre>\n"
      ],
      "text/plain": [
       "\u001b[1;32m Succesfully fetched the predictor\u001b[0m\n"
      ]
     },
     "metadata": {},
     "output_type": "display_data"
    },
    {
     "data": {
      "text/html": [
       "<pre style=\"white-space:pre;overflow-x:auto;line-height:normal;font-family:Menlo,'DejaVu Sans Mono',consolas,'Courier New',monospace\"><span style=\"color: #008000; text-decoration-color: #008000; font-weight: bold\"> Succesfully fetched the model</span>\n",
       "</pre>\n"
      ],
      "text/plain": [
       "\u001b[1;32m Succesfully fetched the model\u001b[0m\n"
      ]
     },
     "metadata": {},
     "output_type": "display_data"
    },
    {
     "data": {
      "text/html": [
       "<pre style=\"white-space:pre;overflow-x:auto;line-height:normal;font-family:Menlo,'DejaVu Sans Mono',consolas,'Courier New',monospace\"><span style=\"color: #008000; text-decoration-color: #008000\">Succesfully fetched the framework details</span>\n",
       "</pre>\n"
      ],
      "text/plain": [
       "\u001b[32mSuccesfully fetched the framework details\u001b[0m\n"
      ]
     },
     "metadata": {},
     "output_type": "display_data"
    },
    {
     "data": {
      "text/html": [
       "<pre style=\"white-space:pre;overflow-x:auto;line-height:normal;font-family:Menlo,'DejaVu Sans Mono',consolas,'Courier New',monospace\">Framework assigned to model\n",
       "</pre>\n"
      ],
      "text/plain": [
       "Framework assigned to model\n"
      ]
     },
     "metadata": {},
     "output_type": "display_data"
    },
    {
     "data": {
      "text/html": [
       "<pre style=\"white-space:pre;overflow-x:auto;line-height:normal;font-family:Menlo,'DejaVu Sans Mono',consolas,'Courier New',monospace\">Fetched the assignments\n",
       "</pre>\n"
      ],
      "text/plain": [
       "Fetched the assignments\n"
      ]
     },
     "metadata": {},
     "output_type": "display_data"
    },
    {
     "data": {
      "text/html": [
       "<pre style=\"white-space:pre;overflow-x:auto;line-height:normal;font-family:Menlo,'DejaVu Sans Mono',consolas,'Courier New',monospace\"><span style=\"color: #008000; text-decoration-color: #008000\">Succesfully fetched the framework details</span>\n",
       "</pre>\n"
      ],
      "text/plain": [
       "\u001b[32mSuccesfully fetched the framework details\u001b[0m\n"
      ]
     },
     "metadata": {},
     "output_type": "display_data"
    },
    {
     "name": "stdout",
     "output_type": "stream",
     "text": [
      "'disparate_impact'\n",
      "argument of type 'NoneType' is not iterable\n",
      "'balanced_accuracy'\n",
      "argument of type 'NoneType' is not iterable\n",
      "Unable to compute balanced_accuracy\n",
      "got an unexpected keyword argument 'sensitive_features'\n",
      "Exception : list indices must be integers or slices, not str\n",
      "'demographic_parity_difference'\n",
      "argument of type 'NoneType' is not iterable\n",
      "'balanced_acc_error'\n",
      "argument of type 'NoneType' is not iterable\n"
     ]
    },
    {
     "data": {
      "text/html": [
       "<pre style=\"white-space:pre;overflow-x:auto;line-height:normal;font-family:Menlo,'DejaVu Sans Mono',consolas,'Courier New',monospace\"><span style=\"color: #008000; text-decoration-color: #008000\">Succesfully fetched the framework details</span>\n",
       "</pre>\n"
      ],
      "text/plain": [
       "\u001b[32mSuccesfully fetched the framework details\u001b[0m\n"
      ]
     },
     "metadata": {},
     "output_type": "display_data"
    },
    {
     "name": "stdout",
     "output_type": "stream",
     "text": [
      "'disparate_impact'\n",
      "argument of type 'NoneType' is not iterable\n",
      "'balanced_accuracy'\n",
      "argument of type 'NoneType' is not iterable\n",
      "Unable to compute balanced_accuracy\n",
      "got an unexpected keyword argument 'sensitive_features'\n",
      "Exception : list indices must be integers or slices, not str\n",
      "'demographic_parity_difference'\n",
      "argument of type 'NoneType' is not iterable\n",
      "Unable to compute demographic_parity_difference\n",
      "Feature lists must be of scalar types\n",
      "Exception : list indices must be integers or slices, not str\n",
      "'balanced_acc_error'\n",
      "argument of type 'NoneType' is not iterable\n"
     ]
    },
    {
     "data": {
      "text/html": [
       "<pre style=\"white-space:pre;overflow-x:auto;line-height:normal;font-family:Menlo,'DejaVu Sans Mono',consolas,'Courier New',monospace\"><span style=\"color: #008000; text-decoration-color: #008000\">Succesfully fetched the framework details</span>\n",
       "</pre>\n"
      ],
      "text/plain": [
       "\u001b[32mSuccesfully fetched the framework details\u001b[0m\n"
      ]
     },
     "metadata": {},
     "output_type": "display_data"
    },
    {
     "name": "stdout",
     "output_type": "stream",
     "text": [
      "'disparate_impact'\n",
      "argument of type 'NoneType' is not iterable\n",
      "'balanced_accuracy'\n",
      "argument of type 'NoneType' is not iterable\n",
      "Unable to compute balanced_accuracy\n",
      "got an unexpected keyword argument 'sensitive_features'\n",
      "Exception : list indices must be integers or slices, not str\n",
      "'demographic_parity_difference'\n",
      "argument of type 'NoneType' is not iterable\n",
      "Unable to compute demographic_parity_difference\n",
      "Feature lists must be of scalar types\n",
      "Exception : list indices must be integers or slices, not str\n",
      "'balanced_acc_error'\n",
      "argument of type 'NoneType' is not iterable\n"
     ]
    },
    {
     "data": {
      "text/html": [
       "<pre style=\"white-space:pre;overflow-x:auto;line-height:normal;font-family:Menlo,'DejaVu Sans Mono',consolas,'Courier New',monospace\"><span style=\"color: #008000; text-decoration-color: #008000\">Succesfully fetched the framework details</span>\n",
       "</pre>\n"
      ],
      "text/plain": [
       "\u001b[32mSuccesfully fetched the framework details\u001b[0m\n"
      ]
     },
     "metadata": {},
     "output_type": "display_data"
    },
    {
     "name": "stdout",
     "output_type": "stream",
     "text": [
      "'disparate_impact'\n",
      "argument of type 'NoneType' is not iterable\n",
      "'balanced_accuracy'\n",
      "argument of type 'NoneType' is not iterable\n",
      "Unable to compute balanced_accuracy\n",
      "got an unexpected keyword argument 'sensitive_features'\n",
      "Exception : list indices must be integers or slices, not str\n",
      "'demographic_parity_difference'\n",
      "argument of type 'NoneType' is not iterable\n",
      "Unable to compute demographic_parity_difference\n",
      "Feature lists must be of scalar types\n",
      "Exception : list indices must be integers or slices, not str\n",
      "'balanced_acc_error'\n",
      "argument of type 'NoneType' is not iterable\n"
     ]
    },
    {
     "data": {
      "text/html": [
       "<pre style=\"white-space:pre;overflow-x:auto;line-height:normal;font-family:Menlo,'DejaVu Sans Mono',consolas,'Courier New',monospace\"><span style=\"color: #008000; text-decoration-color: #008000\">Succesfully fetched the framework details</span>\n",
       "</pre>\n"
      ],
      "text/plain": [
       "\u001b[32mSuccesfully fetched the framework details\u001b[0m\n"
      ]
     },
     "metadata": {},
     "output_type": "display_data"
    },
    {
     "name": "stdout",
     "output_type": "stream",
     "text": [
      "'disparate_impact'\n",
      "argument of type 'NoneType' is not iterable\n",
      "'balanced_accuracy'\n",
      "argument of type 'NoneType' is not iterable\n",
      "Unable to compute balanced_accuracy\n",
      "got an unexpected keyword argument 'sensitive_features'\n",
      "Exception : list indices must be integers or slices, not str\n",
      "'demographic_parity_difference'\n",
      "argument of type 'NoneType' is not iterable\n",
      "Unable to compute demographic_parity_difference\n",
      "Feature lists must be of scalar types\n",
      "Exception : list indices must be integers or slices, not str\n",
      "'balanced_acc_error'\n",
      "argument of type 'NoneType' is not iterable\n"
     ]
    },
    {
     "data": {
      "text/html": [
       "<pre style=\"white-space:pre;overflow-x:auto;line-height:normal;font-family:Menlo,'DejaVu Sans Mono',consolas,'Courier New',monospace\"><span style=\"color: #008000; text-decoration-color: #008000\">Succesfully fetched the framework details</span>\n",
       "</pre>\n"
      ],
      "text/plain": [
       "\u001b[32mSuccesfully fetched the framework details\u001b[0m\n"
      ]
     },
     "metadata": {},
     "output_type": "display_data"
    },
    {
     "name": "stdout",
     "output_type": "stream",
     "text": [
      "'disparate_impact'\n",
      "argument of type 'NoneType' is not iterable\n",
      "'balanced_accuracy'\n",
      "argument of type 'NoneType' is not iterable\n",
      "Unable to compute balanced_accuracy\n",
      "got an unexpected keyword argument 'sensitive_features'\n",
      "Exception : list indices must be integers or slices, not str\n",
      "'demographic_parity_difference'\n",
      "argument of type 'NoneType' is not iterable\n",
      "Unable to compute demographic_parity_difference\n",
      "Feature lists must be of scalar types\n",
      "Exception : list indices must be integers or slices, not str\n",
      "'balanced_acc_error'\n",
      "argument of type 'NoneType' is not iterable\n"
     ]
    },
    {
     "data": {
      "text/html": [
       "<pre style=\"white-space:pre;overflow-x:auto;line-height:normal;font-family:Menlo,'DejaVu Sans Mono',consolas,'Courier New',monospace\"><span style=\"color: #008000; text-decoration-color: #008000\">Succesfully fetched the framework details</span>\n",
       "</pre>\n"
      ],
      "text/plain": [
       "\u001b[32mSuccesfully fetched the framework details\u001b[0m\n"
      ]
     },
     "metadata": {},
     "output_type": "display_data"
    },
    {
     "name": "stdout",
     "output_type": "stream",
     "text": [
      "'disparate_impact'\n",
      "argument of type 'NoneType' is not iterable\n",
      "'balanced_accuracy'\n",
      "argument of type 'NoneType' is not iterable\n",
      "Unable to compute balanced_accuracy\n",
      "got an unexpected keyword argument 'sensitive_features'\n",
      "Exception : list indices must be integers or slices, not str\n",
      "'demographic_parity_difference'\n",
      "argument of type 'NoneType' is not iterable\n",
      "Unable to compute demographic_parity_difference\n",
      "Feature lists must be of scalar types\n",
      "Exception : list indices must be integers or slices, not str\n",
      "'balanced_acc_error'\n",
      "argument of type 'NoneType' is not iterable\n"
     ]
    },
    {
     "data": {
      "text/html": [
       "<pre style=\"white-space:pre;overflow-x:auto;line-height:normal;font-family:Menlo,'DejaVu Sans Mono',consolas,'Courier New',monospace\">Fetched the assignments\n",
       "</pre>\n"
      ],
      "text/plain": [
       "Fetched the assignments\n"
      ]
     },
     "metadata": {},
     "output_type": "display_data"
    },
    {
     "data": {
      "text/html": [
       "<pre style=\"white-space:pre;overflow-x:auto;line-height:normal;font-family:Menlo,'DejaVu Sans Mono',consolas,'Courier New',monospace\"><span style=\"color: #008080; text-decoration-color: #008080; font-weight: bold\">500</span>\n",
       "</pre>\n"
      ],
      "text/plain": [
       "\u001b[1;36m500\u001b[0m\n"
      ]
     },
     "metadata": {},
     "output_type": "display_data"
    },
    {
     "data": {
      "text/html": [
       "<pre style=\"white-space:pre;overflow-x:auto;line-height:normal;font-family:Menlo,'DejaVu Sans Mono',consolas,'Courier New',monospace\">Could not update the assignments\n",
       "</pre>\n"
      ],
      "text/plain": [
       "Could not update the assignments\n"
      ]
     },
     "metadata": {},
     "output_type": "display_data"
    },
    {
     "data": {
      "text/html": [
       "<pre style=\"white-space:pre;overflow-x:auto;line-height:normal;font-family:Menlo,'DejaVu Sans Mono',consolas,'Courier New',monospace\"><span style=\"color: #008000; text-decoration-color: #008000\">Succesfully fetched the framework details</span>\n",
       "</pre>\n"
      ],
      "text/plain": [
       "\u001b[32mSuccesfully fetched the framework details\u001b[0m\n"
      ]
     },
     "metadata": {},
     "output_type": "display_data"
    },
    {
     "data": {
      "text/html": [
       "<pre style=\"white-space:pre;overflow-x:auto;line-height:normal;font-family:Menlo,'DejaVu Sans Mono',consolas,'Courier New',monospace\">Report Generated\n",
       "</pre>\n"
      ],
      "text/plain": [
       "Report Generated\n"
      ]
     },
     "metadata": {},
     "output_type": "display_data"
    },
    {
     "data": {
      "text/html": [
       "<pre style=\"white-space:pre;overflow-x:auto;line-height:normal;font-family:Menlo,'DejaVu Sans Mono',consolas,'Courier New',monospace\">Use this URL to view Report: \n",
       "<span style=\"color: #0000ff; text-decoration-color: #0000ff; text-decoration: underline\">https://pub-cc8d623e43954c8fa75380adfd3bb762.r2.dev/reports/credit_example_model_demo4_report_cpm58q0h.html</span>\n",
       "</pre>\n"
      ],
      "text/plain": [
       "Use this URL to view Report: \n",
       "\u001b[4;94mhttps://pub-cc8d623e43954c8fa75380adfd3bb762.r2.dev/reports/credit_example_model_demo4_report_cpm58q0h.html\u001b[0m\n"
      ]
     },
     "metadata": {},
     "output_type": "display_data"
    },
    {
     "data": {
      "text/html": [
       "<pre style=\"white-space:pre;overflow-x:auto;line-height:normal;font-family:Menlo,'DejaVu Sans Mono',consolas,'Courier New',monospace\">Reports Fetched\n",
       "</pre>\n"
      ],
      "text/plain": [
       "Reports Fetched\n"
      ]
     },
     "metadata": {},
     "output_type": "display_data"
    }
   ],
   "source": [
    "from pureml_policy import policy_eval\n",
    "#policy = faircredit\n",
    "results = policy_eval.eval(framework_name  = \"nyc144\",\n",
    "            label_model='credit_example_model_demo4:v1',\n",
    "            label_dataset='credit_example_dataset_demo4:v1')"
   ]
  },
  {
   "cell_type": "code",
   "execution_count": 14,
   "metadata": {},
   "outputs": [
    {
     "data": {
      "text/plain": [
       "{'framework_details': {'name': 'nyc144'},\n",
       " 'model_details': {'name': 'credit_example_model_demo4', 'version': 'v1'},\n",
       " 'dataset_details': {'name': 'credit_example_dataset_demo4', 'version': 'v1'},\n",
       " 'sensitive_columns': ['sex', 'race'],\n",
       " 'policies': {'complete': [{'name': 'recall',\n",
       "    'category': 'operational',\n",
       "    'value': '0.5187360178970917',\n",
       "    'status': 'fail',\n",
       "    'threshold': '0.8',\n",
       "    'columns_sensitive': None},\n",
       "   {'name': 'f1',\n",
       "    'category': 'operational',\n",
       "    'value': '0.628920155958637',\n",
       "    'status': 'fail',\n",
       "    'threshold': '0.7',\n",
       "    'columns_sensitive': None},\n",
       "   {'name': 'accuracy',\n",
       "    'category': 'operational',\n",
       "    'value': '0.7915238095238095',\n",
       "    'status': 'pass',\n",
       "    'threshold': '0.7',\n",
       "    'columns_sensitive': None},\n",
       "   {'name': 'precision',\n",
       "    'category': 'operational',\n",
       "    'value': '0.7985363753766681',\n",
       "    'status': 'fail',\n",
       "    'threshold': '0.8',\n",
       "    'columns_sensitive': None},\n",
       "   {'name': 'disparate_impact',\n",
       "    'category': 'fairness',\n",
       "    'value': '0.9508341505488144',\n",
       "    'status': 'pass',\n",
       "    'threshold': '0.8',\n",
       "    'columns_sensitive': None},\n",
       "   {'name': 'demographic_parity_difference',\n",
       "    'category': 'fairness',\n",
       "    'value': '0.0902114880838285',\n",
       "    'status': 'fail',\n",
       "    'threshold': '0.8',\n",
       "    'columns_sensitive': None},\n",
       "   {'name': 'balanced_acc_error',\n",
       "    'category': 'fairness',\n",
       "    'value': '0.009275138335659057',\n",
       "    'status': 'fail',\n",
       "    'threshold': '0.7',\n",
       "    'columns_sensitive': None}],\n",
       "  'subsets': [{'column': [{'name': 'sex', 'value': 'female'},\n",
       "     {'name': 'race', 'value': 'American'}],\n",
       "    'policy': [{'name': 'recall',\n",
       "      'category': 'operational',\n",
       "      'value': '0.4197218710493047',\n",
       "      'status': 'fail',\n",
       "      'threshold': '0.8',\n",
       "      'columns_sensitive': [{'name': 'sex', 'value': 'female'},\n",
       "       {'name': 'race', 'value': 'American'}]},\n",
       "     {'name': 'f1',\n",
       "      'category': 'operational',\n",
       "      'value': '0.5438165438165438',\n",
       "      'status': 'fail',\n",
       "      'threshold': '0.7',\n",
       "      'columns_sensitive': [{'name': 'sex', 'value': 'female'},\n",
       "       {'name': 'race', 'value': 'American'}]},\n",
       "     {'name': 'accuracy',\n",
       "      'category': 'operational',\n",
       "      'value': '0.7366430260047281',\n",
       "      'status': 'pass',\n",
       "      'threshold': '0.7',\n",
       "      'columns_sensitive': [{'name': 'sex', 'value': 'female'},\n",
       "       {'name': 'race', 'value': 'American'}]},\n",
       "     {'name': 'precision',\n",
       "      'category': 'operational',\n",
       "      'value': '0.772093023255814',\n",
       "      'status': 'fail',\n",
       "      'threshold': '0.8',\n",
       "      'columns_sensitive': [{'name': 'sex', 'value': 'female'},\n",
       "       {'name': 'race', 'value': 'American'}]},\n",
       "     {'name': 'balanced_acc_error',\n",
       "      'category': 'fairness',\n",
       "      'value': '0.022494103326737826',\n",
       "      'status': 'fail',\n",
       "      'threshold': '0.7',\n",
       "      'columns_sensitive': [{'name': 'sex', 'value': 'female'},\n",
       "       {'name': 'race', 'value': 'American'}]},\n",
       "     {'name': 'disparate_impact',\n",
       "      'category': 'fairness',\n",
       "      'value': '1.0',\n",
       "      'status': 'pass',\n",
       "      'threshold': '0.8',\n",
       "      'columns_sensitive': [{'name': 'sex', 'value': 'female'},\n",
       "       {'name': 'race', 'value': 'American'}]}]},\n",
       "   {'column': [{'name': 'sex', 'value': 'male'},\n",
       "     {'name': 'race', 'value': 'American'}],\n",
       "    'policy': [{'name': 'recall',\n",
       "      'category': 'operational',\n",
       "      'value': '0.6526806526806527',\n",
       "      'status': 'fail',\n",
       "      'threshold': '0.8',\n",
       "      'columns_sensitive': [{'name': 'sex', 'value': 'male'},\n",
       "       {'name': 'race', 'value': 'American'}]},\n",
       "     {'name': 'f1',\n",
       "      'category': 'operational',\n",
       "      'value': '0.7387862796833773',\n",
       "      'status': 'pass',\n",
       "      'threshold': '0.7',\n",
       "      'columns_sensitive': [{'name': 'sex', 'value': 'male'},\n",
       "       {'name': 'race', 'value': 'American'}]},\n",
       "     {'name': 'accuracy',\n",
       "      'category': 'operational',\n",
       "      'value': '0.8570397111913357',\n",
       "      'status': 'pass',\n",
       "      'threshold': '0.7',\n",
       "      'columns_sensitive': [{'name': 'sex', 'value': 'male'},\n",
       "       {'name': 'race', 'value': 'American'}]},\n",
       "     {'name': 'precision',\n",
       "      'category': 'operational',\n",
       "      'value': '0.851063829787234',\n",
       "      'status': 'pass',\n",
       "      'threshold': '0.8',\n",
       "      'columns_sensitive': [{'name': 'sex', 'value': 'male'},\n",
       "       {'name': 'race', 'value': 'American'}]},\n",
       "     {'name': 'balanced_acc_error',\n",
       "      'category': 'fairness',\n",
       "      'value': '0.02191421258648147',\n",
       "      'status': 'fail',\n",
       "      'threshold': '0.7',\n",
       "      'columns_sensitive': [{'name': 'sex', 'value': 'male'},\n",
       "       {'name': 'race', 'value': 'American'}]},\n",
       "     {'name': 'disparate_impact',\n",
       "      'category': 'fairness',\n",
       "      'value': '0.8282117869351505',\n",
       "      'status': 'pass',\n",
       "      'threshold': '0.8',\n",
       "      'columns_sensitive': [{'name': 'sex', 'value': 'male'},\n",
       "       {'name': 'race', 'value': 'American'}]}]},\n",
       "   {'column': [{'name': 'sex', 'value': 'female'},\n",
       "     {'name': 'race', 'value': 'African'}],\n",
       "    'policy': [{'name': 'recall',\n",
       "      'category': 'operational',\n",
       "      'value': '0.42706964520367935',\n",
       "      'status': 'fail',\n",
       "      'threshold': '0.8',\n",
       "      'columns_sensitive': [{'name': 'sex', 'value': 'female'},\n",
       "       {'name': 'race', 'value': 'African'}]},\n",
       "     {'name': 'f1',\n",
       "      'category': 'operational',\n",
       "      'value': '0.5448449287510477',\n",
       "      'status': 'fail',\n",
       "      'threshold': '0.7',\n",
       "      'columns_sensitive': [{'name': 'sex', 'value': 'female'},\n",
       "       {'name': 'race', 'value': 'African'}]},\n",
       "     {'name': 'accuracy',\n",
       "      'category': 'operational',\n",
       "      'value': '0.7462616822429906',\n",
       "      'status': 'pass',\n",
       "      'threshold': '0.7',\n",
       "      'columns_sensitive': [{'name': 'sex', 'value': 'female'},\n",
       "       {'name': 'race', 'value': 'African'}]},\n",
       "     {'name': 'precision',\n",
       "      'category': 'operational',\n",
       "      'value': '0.7523148148148148',\n",
       "      'status': 'fail',\n",
       "      'threshold': '0.8',\n",
       "      'columns_sensitive': [{'name': 'sex', 'value': 'female'},\n",
       "       {'name': 'race', 'value': 'African'}]},\n",
       "     {'name': 'balanced_acc_error',\n",
       "      'category': 'fairness',\n",
       "      'value': '0.02282874173327485',\n",
       "      'status': 'fail',\n",
       "      'threshold': '0.7',\n",
       "      'columns_sensitive': [{'name': 'sex', 'value': 'female'},\n",
       "       {'name': 'race', 'value': 'African'}]},\n",
       "     {'name': 'disparate_impact',\n",
       "      'category': 'fairness',\n",
       "      'value': '0.9508341505488144',\n",
       "      'status': 'pass',\n",
       "      'threshold': '0.8',\n",
       "      'columns_sensitive': [{'name': 'sex', 'value': 'female'},\n",
       "       {'name': 'race', 'value': 'African'}]}]},\n",
       "   {'column': [{'name': 'sex', 'value': 'female'},\n",
       "     {'name': 'race', 'value': 'Indian'}],\n",
       "    'policy': [{'name': 'recall',\n",
       "      'category': 'operational',\n",
       "      'value': '0.48081841432225064',\n",
       "      'status': 'fail',\n",
       "      'threshold': '0.8',\n",
       "      'columns_sensitive': [{'name': 'sex', 'value': 'female'},\n",
       "       {'name': 'race', 'value': 'Indian'}]},\n",
       "     {'name': 'f1',\n",
       "      'category': 'operational',\n",
       "      'value': '0.5949367088607594',\n",
       "      'status': 'fail',\n",
       "      'threshold': '0.7',\n",
       "      'columns_sensitive': [{'name': 'sex', 'value': 'female'},\n",
       "       {'name': 'race', 'value': 'Indian'}]},\n",
       "     {'name': 'accuracy',\n",
       "      'category': 'operational',\n",
       "      'value': '0.7554918815663801',\n",
       "      'status': 'pass',\n",
       "      'threshold': '0.7',\n",
       "      'columns_sensitive': [{'name': 'sex', 'value': 'female'},\n",
       "       {'name': 'race', 'value': 'Indian'}]},\n",
       "     {'name': 'precision',\n",
       "      'category': 'operational',\n",
       "      'value': '0.7800829875518672',\n",
       "      'status': 'fail',\n",
       "      'threshold': '0.8',\n",
       "      'columns_sensitive': [{'name': 'sex', 'value': 'female'},\n",
       "       {'name': 'race', 'value': 'Indian'}]},\n",
       "     {'name': 'balanced_acc_error',\n",
       "      'category': 'fairness',\n",
       "      'value': '0.021309319757919835',\n",
       "      'status': 'fail',\n",
       "      'threshold': '0.7',\n",
       "      'columns_sensitive': [{'name': 'sex', 'value': 'female'},\n",
       "       {'name': 'race', 'value': 'Indian'}]},\n",
       "     {'name': 'disparate_impact',\n",
       "      'category': 'fairness',\n",
       "      'value': '0.9985365447241351',\n",
       "      'status': 'pass',\n",
       "      'threshold': '0.8',\n",
       "      'columns_sensitive': [{'name': 'sex', 'value': 'female'},\n",
       "       {'name': 'race', 'value': 'Indian'}]}]},\n",
       "   {'column': [{'name': 'sex', 'value': 'male'},\n",
       "     {'name': 'race', 'value': 'Indian'}],\n",
       "    'policy': [{'name': 'recall',\n",
       "      'category': 'operational',\n",
       "      'value': '0.6842105263157895',\n",
       "      'status': 'fail',\n",
       "      'threshold': '0.8',\n",
       "      'columns_sensitive': [{'name': 'sex', 'value': 'male'},\n",
       "       {'name': 'race', 'value': 'Indian'}]},\n",
       "     {'name': 'f1',\n",
       "      'category': 'operational',\n",
       "      'value': '0.7541436464088398',\n",
       "      'status': 'pass',\n",
       "      'threshold': '0.7',\n",
       "      'columns_sensitive': [{'name': 'sex', 'value': 'male'},\n",
       "       {'name': 'race', 'value': 'Indian'}]},\n",
       "     {'name': 'accuracy',\n",
       "      'category': 'operational',\n",
       "      'value': '0.8733997155049786',\n",
       "      'status': 'pass',\n",
       "      'threshold': '0.7',\n",
       "      'columns_sensitive': [{'name': 'sex', 'value': 'male'},\n",
       "       {'name': 'race', 'value': 'Indian'}]},\n",
       "     {'name': 'precision',\n",
       "      'category': 'operational',\n",
       "      'value': '0.84',\n",
       "      'status': 'pass',\n",
       "      'threshold': '0.8',\n",
       "      'columns_sensitive': [{'name': 'sex', 'value': 'male'},\n",
       "       {'name': 'race', 'value': 'Indian'}]},\n",
       "     {'name': 'balanced_acc_error',\n",
       "      'category': 'fairness',\n",
       "      'value': '0.022105364678548806',\n",
       "      'status': 'fail',\n",
       "      'threshold': '0.7',\n",
       "      'columns_sensitive': [{'name': 'sex', 'value': 'male'},\n",
       "       {'name': 'race', 'value': 'Indian'}]},\n",
       "     {'name': 'disparate_impact',\n",
       "      'category': 'fairness',\n",
       "      'value': '0.758789763214542',\n",
       "      'status': 'fail',\n",
       "      'threshold': '0.8',\n",
       "      'columns_sensitive': [{'name': 'sex', 'value': 'male'},\n",
       "       {'name': 'race', 'value': 'Indian'}]}]},\n",
       "   {'column': [{'name': 'sex', 'value': 'male'},\n",
       "     {'name': 'race', 'value': 'African'}],\n",
       "    'policy': [{'name': 'recall',\n",
       "      'category': 'operational',\n",
       "      'value': '0.6497584541062802',\n",
       "      'status': 'fail',\n",
       "      'threshold': '0.8',\n",
       "      'columns_sensitive': [{'name': 'sex', 'value': 'male'},\n",
       "       {'name': 'race', 'value': 'African'}]},\n",
       "     {'name': 'f1',\n",
       "      'category': 'operational',\n",
       "      'value': '0.7280108254397835',\n",
       "      'status': 'pass',\n",
       "      'threshold': '0.7',\n",
       "      'columns_sensitive': [{'name': 'sex', 'value': 'male'},\n",
       "       {'name': 'race', 'value': 'African'}]},\n",
       "     {'name': 'accuracy',\n",
       "      'category': 'operational',\n",
       "      'value': '0.8522058823529411',\n",
       "      'status': 'pass',\n",
       "      'threshold': '0.7',\n",
       "      'columns_sensitive': [{'name': 'sex', 'value': 'male'},\n",
       "       {'name': 'race', 'value': 'African'}]},\n",
       "     {'name': 'precision',\n",
       "      'category': 'operational',\n",
       "      'value': '0.8276923076923077',\n",
       "      'status': 'pass',\n",
       "      'threshold': '0.8',\n",
       "      'columns_sensitive': [{'name': 'sex', 'value': 'male'},\n",
       "       {'name': 'race', 'value': 'African'}]},\n",
       "     {'name': 'balanced_acc_error',\n",
       "      'category': 'fairness',\n",
       "      'value': '0.02309183540604419',\n",
       "      'status': 'fail',\n",
       "      'threshold': '0.7',\n",
       "      'columns_sensitive': [{'name': 'sex', 'value': 'male'},\n",
       "       {'name': 'race', 'value': 'African'}]},\n",
       "     {'name': 'disparate_impact',\n",
       "      'category': 'fairness',\n",
       "      'value': '0.8139454897003049',\n",
       "      'status': 'pass',\n",
       "      'threshold': '0.8',\n",
       "      'columns_sensitive': [{'name': 'sex', 'value': 'male'},\n",
       "       {'name': 'race', 'value': 'African'}]}]}]},\n",
       " 'ethical_considerations': ' ',\n",
       " 'Caveats_and_recommendations': ' '}"
      ]
     },
     "execution_count": 14,
     "metadata": {},
     "output_type": "execute_result"
    }
   ],
   "source": [
    "results"
   ]
  },
  {
   "cell_type": "markdown",
   "metadata": {},
   "source": [
    "NIST"
   ]
  },
  {
   "cell_type": "code",
   "execution_count": 17,
   "metadata": {},
   "outputs": [
    {
     "data": {
      "text/html": [
       "<pre style=\"white-space:pre;overflow-x:auto;line-height:normal;font-family:Menlo,'DejaVu Sans Mono',consolas,'Courier New',monospace\"><span style=\"color: #008000; text-decoration-color: #008000; font-weight: bold\"> Succesfully fetched the dataset</span>\n",
       "</pre>\n"
      ],
      "text/plain": [
       "\u001b[1;32m Succesfully fetched the dataset\u001b[0m\n"
      ]
     },
     "metadata": {},
     "output_type": "display_data"
    },
    {
     "data": {
      "text/html": [
       "<pre style=\"white-space:pre;overflow-x:auto;line-height:normal;font-family:Menlo,'DejaVu Sans Mono',consolas,'Courier New',monospace\"><span style=\"color: #008000; text-decoration-color: #008000; font-weight: bold\"> Succesfully fetched the predictor</span>\n",
       "</pre>\n"
      ],
      "text/plain": [
       "\u001b[1;32m Succesfully fetched the predictor\u001b[0m\n"
      ]
     },
     "metadata": {},
     "output_type": "display_data"
    },
    {
     "data": {
      "text/html": [
       "<pre style=\"white-space:pre;overflow-x:auto;line-height:normal;font-family:Menlo,'DejaVu Sans Mono',consolas,'Courier New',monospace\"><span style=\"color: #008000; text-decoration-color: #008000; font-weight: bold\"> Succesfully fetched the model</span>\n",
       "</pre>\n"
      ],
      "text/plain": [
       "\u001b[1;32m Succesfully fetched the model\u001b[0m\n"
      ]
     },
     "metadata": {},
     "output_type": "display_data"
    },
    {
     "data": {
      "text/html": [
       "<pre style=\"white-space:pre;overflow-x:auto;line-height:normal;font-family:Menlo,'DejaVu Sans Mono',consolas,'Courier New',monospace\"><span style=\"color: #008000; text-decoration-color: #008000\">Succesfully fetched the framework details</span>\n",
       "</pre>\n"
      ],
      "text/plain": [
       "\u001b[32mSuccesfully fetched the framework details\u001b[0m\n"
      ]
     },
     "metadata": {},
     "output_type": "display_data"
    },
    {
     "data": {
      "text/html": [
       "<pre style=\"white-space:pre;overflow-x:auto;line-height:normal;font-family:Menlo,'DejaVu Sans Mono',consolas,'Courier New',monospace\">Framework assigned to model\n",
       "</pre>\n"
      ],
      "text/plain": [
       "Framework assigned to model\n"
      ]
     },
     "metadata": {},
     "output_type": "display_data"
    },
    {
     "data": {
      "text/html": [
       "<pre style=\"white-space:pre;overflow-x:auto;line-height:normal;font-family:Menlo,'DejaVu Sans Mono',consolas,'Courier New',monospace\">Fetched the assignments\n",
       "</pre>\n"
      ],
      "text/plain": [
       "Fetched the assignments\n"
      ]
     },
     "metadata": {},
     "output_type": "display_data"
    },
    {
     "data": {
      "text/html": [
       "<pre style=\"white-space:pre;overflow-x:auto;line-height:normal;font-family:Menlo,'DejaVu Sans Mono',consolas,'Courier New',monospace\"><span style=\"color: #008000; text-decoration-color: #008000\">Succesfully fetched the framework details</span>\n",
       "</pre>\n"
      ],
      "text/plain": [
       "\u001b[32mSuccesfully fetched the framework details\u001b[0m\n"
      ]
     },
     "metadata": {},
     "output_type": "display_data"
    },
    {
     "name": "stdout",
     "output_type": "stream",
     "text": [
      "'predictive_value_parity'\n",
      "argument of type 'NoneType' is not iterable\n",
      "'false_positive_parity'\n",
      "argument of type 'NoneType' is not iterable\n",
      "'equal_opportunity'\n",
      "argument of type 'NoneType' is not iterable\n",
      "'true_positive_parity'\n",
      "argument of type 'NoneType' is not iterable\n"
     ]
    },
    {
     "data": {
      "text/html": [
       "<pre style=\"white-space:pre;overflow-x:auto;line-height:normal;font-family:Menlo,'DejaVu Sans Mono',consolas,'Courier New',monospace\"><span style=\"color: #008000; text-decoration-color: #008000\">Succesfully fetched the framework details</span>\n",
       "</pre>\n"
      ],
      "text/plain": [
       "\u001b[32mSuccesfully fetched the framework details\u001b[0m\n"
      ]
     },
     "metadata": {},
     "output_type": "display_data"
    },
    {
     "name": "stdout",
     "output_type": "stream",
     "text": [
      "'predictive_value_parity'\n",
      "argument of type 'NoneType' is not iterable\n",
      "'false_positive_parity'\n",
      "argument of type 'NoneType' is not iterable\n",
      "'equal_opportunity'\n",
      "argument of type 'NoneType' is not iterable\n",
      "'true_positive_parity'\n",
      "argument of type 'NoneType' is not iterable\n"
     ]
    },
    {
     "data": {
      "text/html": [
       "<pre style=\"white-space:pre;overflow-x:auto;line-height:normal;font-family:Menlo,'DejaVu Sans Mono',consolas,'Courier New',monospace\"><span style=\"color: #008000; text-decoration-color: #008000\">Succesfully fetched the framework details</span>\n",
       "</pre>\n"
      ],
      "text/plain": [
       "\u001b[32mSuccesfully fetched the framework details\u001b[0m\n"
      ]
     },
     "metadata": {},
     "output_type": "display_data"
    },
    {
     "name": "stdout",
     "output_type": "stream",
     "text": [
      "'predictive_value_parity'\n",
      "argument of type 'NoneType' is not iterable\n",
      "'false_positive_parity'\n",
      "argument of type 'NoneType' is not iterable\n",
      "'equal_opportunity'\n",
      "argument of type 'NoneType' is not iterable\n",
      "'true_positive_parity'\n",
      "argument of type 'NoneType' is not iterable\n"
     ]
    },
    {
     "data": {
      "text/html": [
       "<pre style=\"white-space:pre;overflow-x:auto;line-height:normal;font-family:Menlo,'DejaVu Sans Mono',consolas,'Courier New',monospace\"><span style=\"color: #008000; text-decoration-color: #008000\">Succesfully fetched the framework details</span>\n",
       "</pre>\n"
      ],
      "text/plain": [
       "\u001b[32mSuccesfully fetched the framework details\u001b[0m\n"
      ]
     },
     "metadata": {},
     "output_type": "display_data"
    },
    {
     "name": "stdout",
     "output_type": "stream",
     "text": [
      "'predictive_value_parity'\n",
      "argument of type 'NoneType' is not iterable\n",
      "'false_positive_parity'\n",
      "argument of type 'NoneType' is not iterable\n",
      "'equal_opportunity'\n",
      "argument of type 'NoneType' is not iterable\n",
      "'true_positive_parity'\n",
      "argument of type 'NoneType' is not iterable\n"
     ]
    },
    {
     "data": {
      "text/html": [
       "<pre style=\"white-space:pre;overflow-x:auto;line-height:normal;font-family:Menlo,'DejaVu Sans Mono',consolas,'Courier New',monospace\"><span style=\"color: #008000; text-decoration-color: #008000\">Succesfully fetched the framework details</span>\n",
       "</pre>\n"
      ],
      "text/plain": [
       "\u001b[32mSuccesfully fetched the framework details\u001b[0m\n"
      ]
     },
     "metadata": {},
     "output_type": "display_data"
    },
    {
     "name": "stdout",
     "output_type": "stream",
     "text": [
      "'predictive_value_parity'\n",
      "argument of type 'NoneType' is not iterable\n",
      "'false_positive_parity'\n",
      "argument of type 'NoneType' is not iterable\n",
      "'equal_opportunity'\n",
      "argument of type 'NoneType' is not iterable\n",
      "'true_positive_parity'\n",
      "argument of type 'NoneType' is not iterable\n"
     ]
    },
    {
     "data": {
      "text/html": [
       "<pre style=\"white-space:pre;overflow-x:auto;line-height:normal;font-family:Menlo,'DejaVu Sans Mono',consolas,'Courier New',monospace\"><span style=\"color: #008000; text-decoration-color: #008000\">Succesfully fetched the framework details</span>\n",
       "</pre>\n"
      ],
      "text/plain": [
       "\u001b[32mSuccesfully fetched the framework details\u001b[0m\n"
      ]
     },
     "metadata": {},
     "output_type": "display_data"
    },
    {
     "name": "stdout",
     "output_type": "stream",
     "text": [
      "'predictive_value_parity'\n",
      "argument of type 'NoneType' is not iterable\n",
      "'false_positive_parity'\n",
      "argument of type 'NoneType' is not iterable\n",
      "'equal_opportunity'\n",
      "argument of type 'NoneType' is not iterable\n",
      "'true_positive_parity'\n",
      "argument of type 'NoneType' is not iterable\n"
     ]
    },
    {
     "data": {
      "text/html": [
       "<pre style=\"white-space:pre;overflow-x:auto;line-height:normal;font-family:Menlo,'DejaVu Sans Mono',consolas,'Courier New',monospace\"><span style=\"color: #008000; text-decoration-color: #008000\">Succesfully fetched the framework details</span>\n",
       "</pre>\n"
      ],
      "text/plain": [
       "\u001b[32mSuccesfully fetched the framework details\u001b[0m\n"
      ]
     },
     "metadata": {},
     "output_type": "display_data"
    },
    {
     "name": "stdout",
     "output_type": "stream",
     "text": [
      "'predictive_value_parity'\n",
      "argument of type 'NoneType' is not iterable\n",
      "'false_positive_parity'\n",
      "argument of type 'NoneType' is not iterable\n",
      "'equal_opportunity'\n",
      "argument of type 'NoneType' is not iterable\n",
      "'true_positive_parity'\n",
      "argument of type 'NoneType' is not iterable\n"
     ]
    },
    {
     "data": {
      "text/html": [
       "<pre style=\"white-space:pre;overflow-x:auto;line-height:normal;font-family:Menlo,'DejaVu Sans Mono',consolas,'Courier New',monospace\">Fetched the assignments\n",
       "</pre>\n"
      ],
      "text/plain": [
       "Fetched the assignments\n"
      ]
     },
     "metadata": {},
     "output_type": "display_data"
    },
    {
     "data": {
      "text/html": [
       "<pre style=\"white-space:pre;overflow-x:auto;line-height:normal;font-family:Menlo,'DejaVu Sans Mono',consolas,'Courier New',monospace\"><span style=\"color: #008080; text-decoration-color: #008080; font-weight: bold\">200</span>\n",
       "</pre>\n"
      ],
      "text/plain": [
       "\u001b[1;36m200\u001b[0m\n"
      ]
     },
     "metadata": {},
     "output_type": "display_data"
    },
    {
     "data": {
      "text/html": [
       "<pre style=\"white-space:pre;overflow-x:auto;line-height:normal;font-family:Menlo,'DejaVu Sans Mono',consolas,'Courier New',monospace\">Updated the assignments\n",
       "</pre>\n"
      ],
      "text/plain": [
       "Updated the assignments\n"
      ]
     },
     "metadata": {},
     "output_type": "display_data"
    },
    {
     "data": {
      "text/html": [
       "<pre style=\"white-space:pre;overflow-x:auto;line-height:normal;font-family:Menlo,'DejaVu Sans Mono',consolas,'Courier New',monospace\">Updated the Assignments\n",
       "</pre>\n"
      ],
      "text/plain": [
       "Updated the Assignments\n"
      ]
     },
     "metadata": {},
     "output_type": "display_data"
    },
    {
     "data": {
      "text/html": [
       "<pre style=\"white-space:pre;overflow-x:auto;line-height:normal;font-family:Menlo,'DejaVu Sans Mono',consolas,'Courier New',monospace\"><span style=\"color: #008000; text-decoration-color: #008000\">Succesfully fetched the framework details</span>\n",
       "</pre>\n"
      ],
      "text/plain": [
       "\u001b[32mSuccesfully fetched the framework details\u001b[0m\n"
      ]
     },
     "metadata": {},
     "output_type": "display_data"
    },
    {
     "data": {
      "text/html": [
       "<pre style=\"white-space:pre;overflow-x:auto;line-height:normal;font-family:Menlo,'DejaVu Sans Mono',consolas,'Courier New',monospace\">Report Generated\n",
       "</pre>\n"
      ],
      "text/plain": [
       "Report Generated\n"
      ]
     },
     "metadata": {},
     "output_type": "display_data"
    },
    {
     "data": {
      "text/html": [
       "<pre style=\"white-space:pre;overflow-x:auto;line-height:normal;font-family:Menlo,'DejaVu Sans Mono',consolas,'Courier New',monospace\">Use this URL to view Report: \n",
       "<span style=\"color: #0000ff; text-decoration-color: #0000ff; text-decoration: underline\">https://pub-cc8d623e43954c8fa75380adfd3bb762.r2.dev/reports/credit_example_model_demo4_report_krgt59jm.html</span>\n",
       "</pre>\n"
      ],
      "text/plain": [
       "Use this URL to view Report: \n",
       "\u001b[4;94mhttps://pub-cc8d623e43954c8fa75380adfd3bb762.r2.dev/reports/credit_example_model_demo4_report_krgt59jm.html\u001b[0m\n"
      ]
     },
     "metadata": {},
     "output_type": "display_data"
    },
    {
     "data": {
      "text/html": [
       "<pre style=\"white-space:pre;overflow-x:auto;line-height:normal;font-family:Menlo,'DejaVu Sans Mono',consolas,'Courier New',monospace\">Reports Fetched\n",
       "</pre>\n"
      ],
      "text/plain": [
       "Reports Fetched\n"
      ]
     },
     "metadata": {},
     "output_type": "display_data"
    }
   ],
   "source": [
    "from pureml_policy import policy_eval\n",
    "#policy = faircredit\n",
    "results = policy_eval.eval(framework_name  = \"NIST\",\n",
    "            label_model='credit_example_model_demo4:v1',\n",
    "            label_dataset='credit_example_dataset_demo4:v1')"
   ]
  },
  {
   "cell_type": "code",
   "execution_count": 18,
   "metadata": {},
   "outputs": [
    {
     "data": {
      "text/plain": [
       "{'framework_details': {'name': 'NIST'},\n",
       " 'model_details': {'name': 'credit_example_model_demo4', 'version': 'v1'},\n",
       " 'dataset_details': {'name': 'credit_example_dataset_demo4', 'version': 'v1'},\n",
       " 'sensitive_columns': ['sex', 'race'],\n",
       " 'policies': {'complete': [{'name': 'accuracy',\n",
       "    'category': 'operational',\n",
       "    'value': '0.7915238095238095',\n",
       "    'status': 'pass',\n",
       "    'threshold': '0.7',\n",
       "    'columns_sensitive': None},\n",
       "   {'name': 'recall',\n",
       "    'category': 'operational',\n",
       "    'value': '0.5187360178970917',\n",
       "    'status': 'fail',\n",
       "    'threshold': '0.8',\n",
       "    'columns_sensitive': None},\n",
       "   {'name': 'predictive_value_parity',\n",
       "    'category': 'fairness',\n",
       "    'value': '0.4197218710493047',\n",
       "    'status': 'fail',\n",
       "    'threshold': '0.8',\n",
       "    'columns_sensitive': None},\n",
       "   {'name': 'false_positive_parity',\n",
       "    'category': 'fairness',\n",
       "    'value': '0.27240356083086054',\n",
       "    'status': 'fail',\n",
       "    'threshold': '0.8',\n",
       "    'columns_sensitive': None},\n",
       "   {'name': 'equal_opportunity',\n",
       "    'category': 'fairness',\n",
       "    'value': '0.772093023255814',\n",
       "    'status': 'fail',\n",
       "    'threshold': '0.8',\n",
       "    'columns_sensitive': None},\n",
       "   {'name': 'true_positive_parity',\n",
       "    'category': 'fairness',\n",
       "    'value': '0.772093023255814',\n",
       "    'status': 'fail',\n",
       "    'threshold': '0.8',\n",
       "    'columns_sensitive': None}],\n",
       "  'subsets': [{'column': [{'name': 'sex', 'value': 'female'},\n",
       "     {'name': 'race', 'value': 'American'}],\n",
       "    'policy': [{'name': 'accuracy',\n",
       "      'category': 'operational',\n",
       "      'value': '0.7366430260047281',\n",
       "      'status': 'pass',\n",
       "      'threshold': '0.7',\n",
       "      'columns_sensitive': [{'name': 'sex', 'value': 'female'},\n",
       "       {'name': 'race', 'value': 'American'}]},\n",
       "     {'name': 'recall',\n",
       "      'category': 'operational',\n",
       "      'value': '0.4197218710493047',\n",
       "      'status': 'fail',\n",
       "      'threshold': '0.8',\n",
       "      'columns_sensitive': [{'name': 'sex', 'value': 'female'},\n",
       "       {'name': 'race', 'value': 'American'}]},\n",
       "     {'name': 'predictive_value_parity',\n",
       "      'category': 'fairness',\n",
       "      'value': '0.4197218710493047',\n",
       "      'status': 'fail',\n",
       "      'threshold': '0.8',\n",
       "      'columns_sensitive': [{'name': 'sex', 'value': 'female'},\n",
       "       {'name': 'race', 'value': 'American'}]},\n",
       "     {'name': 'false_positive_parity',\n",
       "      'category': 'fairness',\n",
       "      'value': '0.27240356083086054',\n",
       "      'status': 'fail',\n",
       "      'threshold': '0.8',\n",
       "      'columns_sensitive': [{'name': 'sex', 'value': 'female'},\n",
       "       {'name': 'race', 'value': 'American'}]},\n",
       "     {'name': 'equal_opportunity',\n",
       "      'category': 'fairness',\n",
       "      'value': '0.772093023255814',\n",
       "      'status': 'fail',\n",
       "      'threshold': '0.8',\n",
       "      'columns_sensitive': [{'name': 'sex', 'value': 'female'},\n",
       "       {'name': 'race', 'value': 'American'}]},\n",
       "     {'name': 'true_positive_parity',\n",
       "      'category': 'fairness',\n",
       "      'value': '0.772093023255814',\n",
       "      'status': 'fail',\n",
       "      'threshold': '0.8',\n",
       "      'columns_sensitive': [{'name': 'sex', 'value': 'female'},\n",
       "       {'name': 'race', 'value': 'American'}]}]},\n",
       "   {'column': [{'name': 'sex', 'value': 'male'},\n",
       "     {'name': 'race', 'value': 'American'}],\n",
       "    'policy': [{'name': 'accuracy',\n",
       "      'category': 'operational',\n",
       "      'value': '0.8570397111913357',\n",
       "      'status': 'pass',\n",
       "      'threshold': '0.7',\n",
       "      'columns_sensitive': [{'name': 'sex', 'value': 'male'},\n",
       "       {'name': 'race', 'value': 'American'}]},\n",
       "     {'name': 'recall',\n",
       "      'category': 'operational',\n",
       "      'value': '0.6526806526806527',\n",
       "      'status': 'fail',\n",
       "      'threshold': '0.8',\n",
       "      'columns_sensitive': [{'name': 'sex', 'value': 'male'},\n",
       "       {'name': 'race', 'value': 'American'}]},\n",
       "     {'name': 'predictive_value_parity',\n",
       "      'category': 'fairness',\n",
       "      'value': '0.6526806526806527',\n",
       "      'status': 'fail',\n",
       "      'threshold': '0.8',\n",
       "      'columns_sensitive': [{'name': 'sex', 'value': 'male'},\n",
       "       {'name': 'race', 'value': 'American'}]},\n",
       "     {'name': 'false_positive_parity',\n",
       "      'category': 'fairness',\n",
       "      'value': '0.14109848484848486',\n",
       "      'status': 'fail',\n",
       "      'threshold': '0.8',\n",
       "      'columns_sensitive': [{'name': 'sex', 'value': 'male'},\n",
       "       {'name': 'race', 'value': 'American'}]},\n",
       "     {'name': 'equal_opportunity',\n",
       "      'category': 'fairness',\n",
       "      'value': '0.851063829787234',\n",
       "      'status': 'pass',\n",
       "      'threshold': '0.8',\n",
       "      'columns_sensitive': [{'name': 'sex', 'value': 'male'},\n",
       "       {'name': 'race', 'value': 'American'}]},\n",
       "     {'name': 'true_positive_parity',\n",
       "      'category': 'fairness',\n",
       "      'value': '0.851063829787234',\n",
       "      'status': 'pass',\n",
       "      'threshold': '0.8',\n",
       "      'columns_sensitive': [{'name': 'sex', 'value': 'male'},\n",
       "       {'name': 'race', 'value': 'American'}]}]},\n",
       "   {'column': [{'name': 'sex', 'value': 'female'},\n",
       "     {'name': 'race', 'value': 'African'}],\n",
       "    'policy': [{'name': 'accuracy',\n",
       "      'category': 'operational',\n",
       "      'value': '0.7462616822429906',\n",
       "      'status': 'pass',\n",
       "      'threshold': '0.7',\n",
       "      'columns_sensitive': [{'name': 'sex', 'value': 'female'},\n",
       "       {'name': 'race', 'value': 'African'}]},\n",
       "     {'name': 'recall',\n",
       "      'category': 'operational',\n",
       "      'value': '0.42706964520367935',\n",
       "      'status': 'fail',\n",
       "      'threshold': '0.8',\n",
       "      'columns_sensitive': [{'name': 'sex', 'value': 'female'},\n",
       "       {'name': 'race', 'value': 'African'}]},\n",
       "     {'name': 'predictive_value_parity',\n",
       "      'category': 'fairness',\n",
       "      'value': '0.42706964520367935',\n",
       "      'status': 'fail',\n",
       "      'threshold': '0.8',\n",
       "      'columns_sensitive': [{'name': 'sex', 'value': 'female'},\n",
       "       {'name': 'race', 'value': 'African'}]},\n",
       "     {'name': 'false_positive_parity',\n",
       "      'category': 'fairness',\n",
       "      'value': '0.25526932084309134',\n",
       "      'status': 'fail',\n",
       "      'threshold': '0.8',\n",
       "      'columns_sensitive': [{'name': 'sex', 'value': 'female'},\n",
       "       {'name': 'race', 'value': 'African'}]},\n",
       "     {'name': 'equal_opportunity',\n",
       "      'category': 'fairness',\n",
       "      'value': '0.7523148148148148',\n",
       "      'status': 'fail',\n",
       "      'threshold': '0.8',\n",
       "      'columns_sensitive': [{'name': 'sex', 'value': 'female'},\n",
       "       {'name': 'race', 'value': 'African'}]},\n",
       "     {'name': 'true_positive_parity',\n",
       "      'category': 'fairness',\n",
       "      'value': '0.7523148148148148',\n",
       "      'status': 'fail',\n",
       "      'threshold': '0.8',\n",
       "      'columns_sensitive': [{'name': 'sex', 'value': 'female'},\n",
       "       {'name': 'race', 'value': 'African'}]}]},\n",
       "   {'column': [{'name': 'sex', 'value': 'female'},\n",
       "     {'name': 'race', 'value': 'Indian'}],\n",
       "    'policy': [{'name': 'accuracy',\n",
       "      'category': 'operational',\n",
       "      'value': '0.7554918815663801',\n",
       "      'status': 'pass',\n",
       "      'threshold': '0.7',\n",
       "      'columns_sensitive': [{'name': 'sex', 'value': 'female'},\n",
       "       {'name': 'race', 'value': 'Indian'}]},\n",
       "     {'name': 'recall',\n",
       "      'category': 'operational',\n",
       "      'value': '0.48081841432225064',\n",
       "      'status': 'fail',\n",
       "      'threshold': '0.8',\n",
       "      'columns_sensitive': [{'name': 'sex', 'value': 'female'},\n",
       "       {'name': 'race', 'value': 'Indian'}]},\n",
       "     {'name': 'predictive_value_parity',\n",
       "      'category': 'fairness',\n",
       "      'value': '0.48081841432225064',\n",
       "      'status': 'fail',\n",
       "      'threshold': '0.8',\n",
       "      'columns_sensitive': [{'name': 'sex', 'value': 'female'},\n",
       "       {'name': 'race', 'value': 'Indian'}]},\n",
       "     {'name': 'false_positive_parity',\n",
       "      'category': 'fairness',\n",
       "      'value': '0.2518610421836228',\n",
       "      'status': 'fail',\n",
       "      'threshold': '0.8',\n",
       "      'columns_sensitive': [{'name': 'sex', 'value': 'female'},\n",
       "       {'name': 'race', 'value': 'Indian'}]},\n",
       "     {'name': 'equal_opportunity',\n",
       "      'category': 'fairness',\n",
       "      'value': '0.7800829875518672',\n",
       "      'status': 'fail',\n",
       "      'threshold': '0.8',\n",
       "      'columns_sensitive': [{'name': 'sex', 'value': 'female'},\n",
       "       {'name': 'race', 'value': 'Indian'}]},\n",
       "     {'name': 'true_positive_parity',\n",
       "      'category': 'fairness',\n",
       "      'value': '0.7800829875518672',\n",
       "      'status': 'fail',\n",
       "      'threshold': '0.8',\n",
       "      'columns_sensitive': [{'name': 'sex', 'value': 'female'},\n",
       "       {'name': 'race', 'value': 'Indian'}]}]},\n",
       "   {'column': [{'name': 'sex', 'value': 'male'},\n",
       "     {'name': 'race', 'value': 'Indian'}],\n",
       "    'policy': [{'name': 'accuracy',\n",
       "      'category': 'operational',\n",
       "      'value': '0.8733997155049786',\n",
       "      'status': 'pass',\n",
       "      'threshold': '0.7',\n",
       "      'columns_sensitive': [{'name': 'sex', 'value': 'male'},\n",
       "       {'name': 'race', 'value': 'Indian'}]},\n",
       "     {'name': 'recall',\n",
       "      'category': 'operational',\n",
       "      'value': '0.6842105263157895',\n",
       "      'status': 'fail',\n",
       "      'threshold': '0.8',\n",
       "      'columns_sensitive': [{'name': 'sex', 'value': 'male'},\n",
       "       {'name': 'race', 'value': 'Indian'}]},\n",
       "     {'name': 'predictive_value_parity',\n",
       "      'category': 'fairness',\n",
       "      'value': '0.6842105263157895',\n",
       "      'status': 'fail',\n",
       "      'threshold': '0.8',\n",
       "      'columns_sensitive': [{'name': 'sex', 'value': 'male'},\n",
       "       {'name': 'race', 'value': 'Indian'}]},\n",
       "     {'name': 'false_positive_parity',\n",
       "      'category': 'fairness',\n",
       "      'value': '0.11655874190564293',\n",
       "      'status': 'fail',\n",
       "      'threshold': '0.8',\n",
       "      'columns_sensitive': [{'name': 'sex', 'value': 'male'},\n",
       "       {'name': 'race', 'value': 'Indian'}]},\n",
       "     {'name': 'equal_opportunity',\n",
       "      'category': 'fairness',\n",
       "      'value': '0.84',\n",
       "      'status': 'pass',\n",
       "      'threshold': '0.8',\n",
       "      'columns_sensitive': [{'name': 'sex', 'value': 'male'},\n",
       "       {'name': 'race', 'value': 'Indian'}]},\n",
       "     {'name': 'true_positive_parity',\n",
       "      'category': 'fairness',\n",
       "      'value': '0.84',\n",
       "      'status': 'pass',\n",
       "      'threshold': '0.8',\n",
       "      'columns_sensitive': [{'name': 'sex', 'value': 'male'},\n",
       "       {'name': 'race', 'value': 'Indian'}]}]},\n",
       "   {'column': [{'name': 'sex', 'value': 'male'},\n",
       "     {'name': 'race', 'value': 'African'}],\n",
       "    'policy': [{'name': 'accuracy',\n",
       "      'category': 'operational',\n",
       "      'value': '0.8522058823529411',\n",
       "      'status': 'pass',\n",
       "      'threshold': '0.7',\n",
       "      'columns_sensitive': [{'name': 'sex', 'value': 'male'},\n",
       "       {'name': 'race', 'value': 'African'}]},\n",
       "     {'name': 'recall',\n",
       "      'category': 'operational',\n",
       "      'value': '0.6497584541062802',\n",
       "      'status': 'fail',\n",
       "      'threshold': '0.8',\n",
       "      'columns_sensitive': [{'name': 'sex', 'value': 'male'},\n",
       "       {'name': 'race', 'value': 'African'}]},\n",
       "     {'name': 'predictive_value_parity',\n",
       "      'category': 'fairness',\n",
       "      'value': '0.6497584541062802',\n",
       "      'status': 'fail',\n",
       "      'threshold': '0.8',\n",
       "      'columns_sensitive': [{'name': 'sex', 'value': 'male'},\n",
       "       {'name': 'race', 'value': 'African'}]},\n",
       "     {'name': 'false_positive_parity',\n",
       "      'category': 'fairness',\n",
       "      'value': '0.14009661835748793',\n",
       "      'status': 'fail',\n",
       "      'threshold': '0.8',\n",
       "      'columns_sensitive': [{'name': 'sex', 'value': 'male'},\n",
       "       {'name': 'race', 'value': 'African'}]},\n",
       "     {'name': 'equal_opportunity',\n",
       "      'category': 'fairness',\n",
       "      'value': '0.8276923076923077',\n",
       "      'status': 'pass',\n",
       "      'threshold': '0.8',\n",
       "      'columns_sensitive': [{'name': 'sex', 'value': 'male'},\n",
       "       {'name': 'race', 'value': 'African'}]},\n",
       "     {'name': 'true_positive_parity',\n",
       "      'category': 'fairness',\n",
       "      'value': '0.8276923076923077',\n",
       "      'status': 'pass',\n",
       "      'threshold': '0.8',\n",
       "      'columns_sensitive': [{'name': 'sex', 'value': 'male'},\n",
       "       {'name': 'race', 'value': 'African'}]}]}]},\n",
       " 'ethical_considerations': ' ',\n",
       " 'Caveats_and_recommendations': ' '}"
      ]
     },
     "execution_count": 18,
     "metadata": {},
     "output_type": "execute_result"
    }
   ],
   "source": [
    "results"
   ]
  },
  {
   "cell_type": "code",
   "execution_count": null,
   "metadata": {},
   "outputs": [],
   "source": []
  }
 ],
 "metadata": {
  "kernelspec": {
   "display_name": "Python 3",
   "language": "python",
   "name": "python3"
  },
  "language_info": {
   "codemirror_mode": {
    "name": "ipython",
    "version": 3
   },
   "file_extension": ".py",
   "mimetype": "text/x-python",
   "name": "python",
   "nbconvert_exporter": "python",
   "pygments_lexer": "ipython3",
   "version": "3.10.12"
  },
  "orig_nbformat": 4
 },
 "nbformat": 4,
 "nbformat_minor": 2
}
