{
 "cells": [
  {
   "cell_type": "markdown",
   "metadata": {},
   "source": [
    "Install Required Packages"
   ]
  },
  {
   "cell_type": "code",
   "execution_count": 1,
   "metadata": {},
   "outputs": [
    {
     "name": "stdout",
     "output_type": "stream",
     "text": [
      "Looking in indexes: https://test.pypi.org/simple/, https://pypi.org/simple\n",
      "Collecting pureml-evaluate\n",
      "  Using cached https://test-files.pythonhosted.org/packages/02/cc/f703b69d72606d5df6ed6339b9d3d0503cb3f0aacd7e9b4087c440310cd8/pureml_evaluate-0.1.6.1-py3-none-any.whl (264 kB)\n",
      "Collecting daisy<2.0,>=1.0\n",
      "  Using cached daisy-1.0-py3-none-any.whl (45 kB)\n",
      "Collecting PyPDF2<4.0.0,>=3.0.1\n",
      "  Using cached pypdf2-3.0.1-py3-none-any.whl (232 kB)\n",
      "Collecting scikit-learn<2.0.0,>=1.2.2\n",
      "  Using cached scikit_learn-1.4.0-1-cp310-cp310-manylinux_2_17_x86_64.manylinux2014_x86_64.whl (12.1 MB)\n",
      "Collecting reportlab<5.0.0,>=4.0.4\n",
      "  Using cached reportlab-4.0.9-py3-none-any.whl (1.9 MB)\n",
      "Collecting seaborn<0.13.0,>=0.12.2\n",
      "  Using cached seaborn-0.12.2-py3-none-any.whl (293 kB)\n",
      "Collecting joblib<2.0.0,>=1.2.0\n",
      "  Using cached joblib-1.3.2-py3-none-any.whl (302 kB)\n",
      "Collecting pandas<2.0.0,>=1.4.3\n",
      "  Using cached pandas-1.5.3-cp310-cp310-manylinux_2_17_x86_64.manylinux2014_x86_64.whl (12.1 MB)\n",
      "Collecting fairlearn<0.9.0,>=0.8.0\n",
      "  Using cached fairlearn-0.8.0-py3-none-any.whl (235 kB)\n",
      "Collecting pydantic<3.0.0,>=2.5.3\n",
      "  Using cached pydantic-2.5.3-py3-none-any.whl (381 kB)\n",
      "Collecting scipy<2.0.0,>=1.9.1\n",
      "  Using cached scipy-1.12.0-cp310-cp310-manylinux_2_17_x86_64.manylinux2014_x86_64.whl (38.4 MB)\n",
      "Collecting plotly<6.0.0,>=5.18.0\n",
      "  Using cached plotly-5.18.0-py3-none-any.whl (15.6 MB)\n",
      "Collecting funlib.math\n",
      "  Using cached funlib.math-0.1-py3-none-any.whl (4.4 kB)\n",
      "Collecting tqdm\n",
      "  Using cached tqdm-4.66.1-py3-none-any.whl (78 kB)\n",
      "Requirement already satisfied: tornado>=5 in ./pypi-tested/lib/python3.10/site-packages (from daisy<2.0,>=1.0->pureml-evaluate) (6.4)\n",
      "Collecting numpy\n",
      "  Using cached numpy-1.26.3-cp310-cp310-manylinux_2_17_x86_64.manylinux2014_x86_64.whl (18.2 MB)\n",
      "Collecting funlib.geometry\n",
      "  Using cached funlib.geometry-0.3.0-py3-none-any.whl (8.0 kB)\n",
      "Collecting pytz>=2020.1\n",
      "  Using cached pytz-2023.3.post1-py2.py3-none-any.whl (502 kB)\n",
      "Requirement already satisfied: python-dateutil>=2.8.1 in ./pypi-tested/lib/python3.10/site-packages (from pandas<2.0.0,>=1.4.3->pureml-evaluate) (2.8.2)\n",
      "Requirement already satisfied: packaging in ./pypi-tested/lib/python3.10/site-packages (from plotly<6.0.0,>=5.18.0->pureml-evaluate) (23.2)\n",
      "Collecting tenacity>=6.2.0\n",
      "  Using cached tenacity-8.2.3-py3-none-any.whl (24 kB)\n",
      "Collecting typing-extensions>=4.6.1\n",
      "  Using cached typing_extensions-4.9.0-py3-none-any.whl (32 kB)\n",
      "Collecting pydantic-core==2.14.6\n",
      "  Using cached pydantic_core-2.14.6-cp310-cp310-manylinux_2_17_x86_64.manylinux2014_x86_64.whl (2.1 MB)\n",
      "Collecting annotated-types>=0.4.0\n",
      "  Using cached annotated_types-0.6.0-py3-none-any.whl (12 kB)\n",
      "Collecting chardet\n",
      "  Using cached chardet-5.2.0-py3-none-any.whl (199 kB)\n",
      "Collecting pillow>=9.0.0\n",
      "  Using cached pillow-10.2.0-cp310-cp310-manylinux_2_28_x86_64.whl (4.5 MB)\n",
      "Collecting threadpoolctl>=2.0.0\n",
      "  Using cached threadpoolctl-3.2.0-py3-none-any.whl (15 kB)\n",
      "Collecting matplotlib!=3.6.1,>=3.1\n",
      "  Using cached matplotlib-3.8.2-cp310-cp310-manylinux_2_17_x86_64.manylinux2014_x86_64.whl (11.6 MB)\n",
      "Collecting pyparsing>=2.3.1\n",
      "  Using cached pyparsing-3.1.1-py3-none-any.whl (103 kB)\n",
      "Collecting kiwisolver>=1.3.1\n",
      "  Using cached kiwisolver-1.4.5-cp310-cp310-manylinux_2_12_x86_64.manylinux2010_x86_64.whl (1.6 MB)\n",
      "Collecting fonttools>=4.22.0\n",
      "  Using cached fonttools-4.47.2-cp310-cp310-manylinux_2_17_x86_64.manylinux2014_x86_64.whl (4.6 MB)\n",
      "Collecting cycler>=0.10\n",
      "  Using cached cycler-0.12.1-py3-none-any.whl (8.3 kB)\n",
      "Collecting contourpy>=1.0.1\n",
      "  Using cached contourpy-1.2.0-cp310-cp310-manylinux_2_17_x86_64.manylinux2014_x86_64.whl (310 kB)\n",
      "Requirement already satisfied: six>=1.5 in ./pypi-tested/lib/python3.10/site-packages (from python-dateutil>=2.8.1->pandas<2.0.0,>=1.4.3->pureml-evaluate) (1.16.0)\n",
      "Installing collected packages: pytz, typing-extensions, tqdm, threadpoolctl, tenacity, PyPDF2, pyparsing, pillow, numpy, kiwisolver, joblib, funlib.geometry, fonttools, cycler, chardet, annotated-types, scipy, reportlab, pydantic-core, plotly, pandas, funlib.math, contourpy, scikit-learn, pydantic, matplotlib, daisy, seaborn, fairlearn, pureml-evaluate\n",
      "Successfully installed PyPDF2-3.0.1 annotated-types-0.6.0 chardet-5.2.0 contourpy-1.2.0 cycler-0.12.1 daisy-1.0 fairlearn-0.8.0 fonttools-4.47.2 funlib.geometry-0.3.0 funlib.math-0.1 joblib-1.3.2 kiwisolver-1.4.5 matplotlib-3.8.2 numpy-1.26.3 pandas-1.5.3 pillow-10.2.0 plotly-5.18.0 pureml-evaluate-0.1.6.1 pydantic-2.5.3 pydantic-core-2.14.6 pyparsing-3.1.1 pytz-2023.3.post1 reportlab-4.0.9 scikit-learn-1.4.0 scipy-1.12.0 seaborn-0.12.2 tenacity-8.2.3 threadpoolctl-3.2.0 tqdm-4.66.1 typing-extensions-4.9.0\n",
      "Note: you may need to restart the kernel to use updated packages.\n",
      "Looking in indexes: https://test.pypi.org/simple/, https://pypi.org/simple\n",
      "Collecting pureml\n",
      "  Using cached https://test-files.pythonhosted.org/packages/2d/1a/0ca479dbe140ac391c40288e5926ac092acb550cc15acac86fc74178f7a6/pureml-0.4.5.1-py3-none-any.whl (94 kB)\n",
      "Requirement already satisfied: matplotlib<4.0.0,>=3.6.2 in ./pypi-tested/lib/python3.10/site-packages (from pureml) (3.8.2)\n",
      "Requirement already satisfied: plotly<6.0.0,>=5.18.0 in ./pypi-tested/lib/python3.10/site-packages (from pureml) (5.18.0)\n",
      "Collecting fastapi<0.109.0,>=0.108.0\n",
      "  Using cached fastapi-0.108.0-py3-none-any.whl (92 kB)\n",
      "Collecting PyYAML<7.0,>=6.0\n",
      "  Using cached PyYAML-6.0.1-cp310-cp310-manylinux_2_17_x86_64.manylinux2014_x86_64.whl (705 kB)\n",
      "Requirement already satisfied: numpy<2.0.0,>=1.23.1 in ./pypi-tested/lib/python3.10/site-packages (from pureml) (1.26.3)\n",
      "Requirement already satisfied: pandas<2.0.0,>=1.4.3 in ./pypi-tested/lib/python3.10/site-packages (from pureml) (1.5.3)\n",
      "Requirement already satisfied: pydantic<3.0.0,>=2.5.3 in ./pypi-tested/lib/python3.10/site-packages (from pureml) (2.5.3)\n",
      "Collecting httpx<0.26.0,>=0.25.0\n",
      "  Using cached httpx-0.25.2-py3-none-any.whl (74 kB)\n",
      "Collecting uvicorn<0.21.0,>=0.20.0\n",
      "  Using cached uvicorn-0.20.0-py3-none-any.whl (56 kB)\n",
      "Collecting python-multipart<0.0.6,>=0.0.5\n",
      "  Using cached python_multipart-0.0.5-py3-none-any.whl\n",
      "Requirement already satisfied: joblib<2.0.0,>=1.2.0 in ./pypi-tested/lib/python3.10/site-packages (from pureml) (1.3.2)\n",
      "Collecting PyJWT<3.0.0,>=2.4.0\n",
      "  Using cached PyJWT-2.8.0-py3-none-any.whl (22 kB)\n",
      "Requirement already satisfied: nest-asyncio<2.0.0,>=1.5.6 in ./pypi-tested/lib/python3.10/site-packages (from pureml) (1.5.9)\n",
      "Collecting ipapi<2.0.0,>=1.0.4\n",
      "  Using cached ipapi-1.0.4-py3-none-any.whl\n",
      "Collecting pyarrow<9.0.0,>=8.0.0\n",
      "  Using cached pyarrow-8.0.0-cp310-cp310-manylinux_2_17_x86_64.manylinux2014_x86_64.whl (29.4 MB)\n",
      "Requirement already satisfied: scikit-learn<2.0.0,>=1.2.2 in ./pypi-tested/lib/python3.10/site-packages (from pureml) (1.4.0)\n",
      "Collecting pyngrok<6.0.0,>=5.2.1\n",
      "  Using cached pyngrok-5.2.3-py3-none-any.whl\n",
      "Collecting boto3<2.0.0,>=1.26.114\n",
      "  Using cached boto3-1.34.23-py3-none-any.whl (139 kB)\n",
      "Collecting Pillow<10.0.0,>=9.3.0\n",
      "  Using cached Pillow-9.5.0-cp310-cp310-manylinux_2_28_x86_64.whl (3.4 MB)\n",
      "Collecting requests<3.0.0,>=2.28.1\n",
      "  Using cached requests-2.31.0-py3-none-any.whl (62 kB)\n",
      "Collecting docker<7.0.0,>=6.0.1\n",
      "  Using cached docker-6.1.3-py3-none-any.whl (148 kB)\n",
      "Collecting python-dotenv<0.21.0,>=0.20.0\n",
      "  Using cached python_dotenv-0.20.0-py3-none-any.whl (17 kB)\n",
      "Collecting typer[all]<0.7.0,>=0.6.1\n",
      "  Using cached typer-0.6.1-py3-none-any.whl (38 kB)\n",
      "Requirement already satisfied: pureml_evaluate==0.1.6.1 in ./pypi-tested/lib/python3.10/site-packages (from pureml) (0.1.6.1)\n",
      "Requirement already satisfied: daisy<2.0,>=1.0 in ./pypi-tested/lib/python3.10/site-packages (from pureml_evaluate==0.1.6.1->pureml) (1.0)\n",
      "Requirement already satisfied: fairlearn<0.9.0,>=0.8.0 in ./pypi-tested/lib/python3.10/site-packages (from pureml_evaluate==0.1.6.1->pureml) (0.8.0)\n",
      "Requirement already satisfied: reportlab<5.0.0,>=4.0.4 in ./pypi-tested/lib/python3.10/site-packages (from pureml_evaluate==0.1.6.1->pureml) (4.0.9)\n",
      "Requirement already satisfied: PyPDF2<4.0.0,>=3.0.1 in ./pypi-tested/lib/python3.10/site-packages (from pureml_evaluate==0.1.6.1->pureml) (3.0.1)\n",
      "Requirement already satisfied: seaborn<0.13.0,>=0.12.2 in ./pypi-tested/lib/python3.10/site-packages (from pureml_evaluate==0.1.6.1->pureml) (0.12.2)\n",
      "Requirement already satisfied: scipy<2.0.0,>=1.9.1 in ./pypi-tested/lib/python3.10/site-packages (from pureml_evaluate==0.1.6.1->pureml) (1.12.0)\n",
      "Collecting s3transfer<0.11.0,>=0.10.0\n",
      "  Using cached s3transfer-0.10.0-py3-none-any.whl (82 kB)\n",
      "Collecting jmespath<2.0.0,>=0.7.1\n",
      "  Using cached jmespath-1.0.1-py3-none-any.whl (20 kB)\n",
      "Collecting botocore<1.35.0,>=1.34.23\n",
      "  Using cached botocore-1.34.23-py3-none-any.whl (11.9 MB)\n",
      "Requirement already satisfied: packaging>=14.0 in ./pypi-tested/lib/python3.10/site-packages (from docker<7.0.0,>=6.0.1->pureml) (23.2)\n",
      "Collecting urllib3>=1.26.0\n",
      "  Using cached urllib3-2.1.0-py3-none-any.whl (104 kB)\n",
      "Collecting websocket-client>=0.32.0\n",
      "  Using cached websocket_client-1.7.0-py3-none-any.whl (58 kB)\n",
      "Requirement already satisfied: typing-extensions>=4.8.0 in ./pypi-tested/lib/python3.10/site-packages (from fastapi<0.109.0,>=0.108.0->pureml) (4.9.0)\n",
      "Collecting starlette<0.33.0,>=0.29.0\n",
      "  Using cached starlette-0.32.0.post1-py3-none-any.whl (70 kB)\n",
      "Collecting idna\n",
      "  Using cached idna-3.6-py3-none-any.whl (61 kB)\n",
      "Collecting sniffio\n",
      "  Using cached sniffio-1.3.0-py3-none-any.whl (10 kB)\n",
      "Collecting anyio\n",
      "  Using cached anyio-4.2.0-py3-none-any.whl (85 kB)\n",
      "Collecting certifi\n",
      "  Using cached certifi-2023.11.17-py3-none-any.whl (162 kB)\n",
      "Collecting httpcore==1.*\n",
      "  Using cached httpcore-1.0.2-py3-none-any.whl (76 kB)\n",
      "Collecting h11<0.15,>=0.13\n",
      "  Using cached h11-0.14.0-py3-none-any.whl (58 kB)\n",
      "Requirement already satisfied: python-dateutil>=2.7 in ./pypi-tested/lib/python3.10/site-packages (from matplotlib<4.0.0,>=3.6.2->pureml) (2.8.2)\n",
      "Requirement already satisfied: fonttools>=4.22.0 in ./pypi-tested/lib/python3.10/site-packages (from matplotlib<4.0.0,>=3.6.2->pureml) (4.47.2)\n",
      "Requirement already satisfied: kiwisolver>=1.3.1 in ./pypi-tested/lib/python3.10/site-packages (from matplotlib<4.0.0,>=3.6.2->pureml) (1.4.5)\n",
      "Requirement already satisfied: cycler>=0.10 in ./pypi-tested/lib/python3.10/site-packages (from matplotlib<4.0.0,>=3.6.2->pureml) (0.12.1)\n",
      "Requirement already satisfied: pyparsing>=2.3.1 in ./pypi-tested/lib/python3.10/site-packages (from matplotlib<4.0.0,>=3.6.2->pureml) (3.1.1)\n",
      "Requirement already satisfied: contourpy>=1.0.1 in ./pypi-tested/lib/python3.10/site-packages (from matplotlib<4.0.0,>=3.6.2->pureml) (1.2.0)\n",
      "Requirement already satisfied: pytz>=2020.1 in ./pypi-tested/lib/python3.10/site-packages (from pandas<2.0.0,>=1.4.3->pureml) (2023.3.post1)\n",
      "Requirement already satisfied: tenacity>=6.2.0 in ./pypi-tested/lib/python3.10/site-packages (from plotly<6.0.0,>=5.18.0->pureml) (8.2.3)\n",
      "Requirement already satisfied: annotated-types>=0.4.0 in ./pypi-tested/lib/python3.10/site-packages (from pydantic<3.0.0,>=2.5.3->pureml) (0.6.0)\n",
      "Requirement already satisfied: pydantic-core==2.14.6 in ./pypi-tested/lib/python3.10/site-packages (from pydantic<3.0.0,>=2.5.3->pureml) (2.14.6)\n",
      "Requirement already satisfied: six>=1.4.0 in ./pypi-tested/lib/python3.10/site-packages (from python-multipart<0.0.6,>=0.0.5->pureml) (1.16.0)\n",
      "Collecting charset-normalizer<4,>=2\n",
      "  Using cached charset_normalizer-3.3.2-cp310-cp310-manylinux_2_17_x86_64.manylinux2014_x86_64.whl (142 kB)\n",
      "Requirement already satisfied: threadpoolctl>=2.0.0 in ./pypi-tested/lib/python3.10/site-packages (from scikit-learn<2.0.0,>=1.2.2->pureml) (3.2.0)\n",
      "Collecting click<9.0.0,>=7.1.1\n",
      "  Using cached click-8.1.7-py3-none-any.whl (97 kB)\n",
      "Collecting shellingham<2.0.0,>=1.3.0\n",
      "  Using cached shellingham-1.5.4-py2.py3-none-any.whl (9.8 kB)\n",
      "Collecting rich<13.0.0,>=10.11.0\n",
      "  Using cached rich-12.6.0-py3-none-any.whl (237 kB)\n",
      "Collecting colorama<0.5.0,>=0.4.3\n",
      "  Using cached colorama-0.4.6-py2.py3-none-any.whl (25 kB)\n",
      "Collecting urllib3>=1.26.0\n",
      "  Using cached urllib3-2.0.7-py3-none-any.whl (124 kB)\n",
      "Requirement already satisfied: funlib.geometry in ./pypi-tested/lib/python3.10/site-packages (from daisy<2.0,>=1.0->pureml_evaluate==0.1.6.1->pureml) (0.3.0)\n",
      "Requirement already satisfied: tqdm in ./pypi-tested/lib/python3.10/site-packages (from daisy<2.0,>=1.0->pureml_evaluate==0.1.6.1->pureml) (4.66.1)\n",
      "Requirement already satisfied: tornado>=5 in ./pypi-tested/lib/python3.10/site-packages (from daisy<2.0,>=1.0->pureml_evaluate==0.1.6.1->pureml) (6.4)\n",
      "Requirement already satisfied: funlib.math in ./pypi-tested/lib/python3.10/site-packages (from daisy<2.0,>=1.0->pureml_evaluate==0.1.6.1->pureml) (0.1)\n",
      "Requirement already satisfied: chardet in ./pypi-tested/lib/python3.10/site-packages (from reportlab<5.0.0,>=4.0.4->pureml_evaluate==0.1.6.1->pureml) (5.2.0)\n",
      "Requirement already satisfied: pygments<3.0.0,>=2.6.0 in ./pypi-tested/lib/python3.10/site-packages (from rich<13.0.0,>=10.11.0->typer[all]<0.7.0,>=0.6.1->pureml) (2.17.2)\n",
      "Collecting commonmark<0.10.0,>=0.9.0\n",
      "  Using cached commonmark-0.9.1-py2.py3-none-any.whl (51 kB)\n",
      "Requirement already satisfied: exceptiongroup>=1.0.2 in ./pypi-tested/lib/python3.10/site-packages (from anyio->httpx<0.26.0,>=0.25.0->pureml) (1.2.0)\n",
      "Installing collected packages: commonmark, websocket-client, urllib3, sniffio, shellingham, rich, PyYAML, python-multipart, python-dotenv, PyJWT, pyarrow, Pillow, jmespath, idna, h11, colorama, click, charset-normalizer, certifi, uvicorn, typer, requests, pyngrok, httpcore, botocore, anyio, starlette, s3transfer, ipapi, httpx, docker, fastapi, boto3, pureml\n",
      "  Attempting uninstall: Pillow\n",
      "    Found existing installation: pillow 10.2.0\n",
      "    Uninstalling pillow-10.2.0:\n",
      "      Successfully uninstalled pillow-10.2.0\n",
      "Successfully installed Pillow-9.5.0 PyJWT-2.8.0 PyYAML-6.0.1 anyio-4.2.0 boto3-1.34.23 botocore-1.34.23 certifi-2023.11.17 charset-normalizer-3.3.2 click-8.1.7 colorama-0.4.6 commonmark-0.9.1 docker-6.1.3 fastapi-0.108.0 h11-0.14.0 httpcore-1.0.2 httpx-0.25.2 idna-3.6 ipapi-1.0.4 jmespath-1.0.1 pureml-0.4.5.1 pyarrow-8.0.0 pyngrok-5.2.3 python-dotenv-0.20.0 python-multipart-0.0.5 requests-2.31.0 rich-12.6.0 s3transfer-0.10.0 shellingham-1.5.4 sniffio-1.3.0 starlette-0.32.0.post1 typer-0.6.1 urllib3-2.0.7 uvicorn-0.20.0 websocket-client-1.7.0\n",
      "Note: you may need to restart the kernel to use updated packages.\n",
      "Looking in indexes: https://test.pypi.org/simple/, https://pypi.org/simple\n",
      "Collecting pureml-policy\n",
      "  Using cached https://test-files.pythonhosted.org/packages/64/3e/031d0593daa4ec227aebf029106417dd963b5b4fb2a3779997bb4ec5aaef/pureml_policy-0.2.2.2-py3-none-any.whl (13 kB)\n",
      "Requirement already satisfied: pureml-evaluate==0.1.6.1 in ./pypi-tested/lib/python3.10/site-packages (from pureml-policy) (0.1.6.1)\n",
      "Requirement already satisfied: scipy<2.0.0,>=1.9.1 in ./pypi-tested/lib/python3.10/site-packages (from pureml-policy) (1.12.0)\n",
      "Requirement already satisfied: plotly<6.0.0,>=5.18.0 in ./pypi-tested/lib/python3.10/site-packages (from pureml-policy) (5.18.0)\n",
      "Requirement already satisfied: pandas<2.0.0,>=1.4.3 in ./pypi-tested/lib/python3.10/site-packages (from pureml-policy) (1.5.3)\n",
      "Requirement already satisfied: pureml==0.4.5.1 in ./pypi-tested/lib/python3.10/site-packages (from pureml-policy) (0.4.5.1)\n",
      "Collecting requests_toolbelt<2.0.0,>=1.0.0\n",
      "  Using cached requests_toolbelt-1.0.0-py2.py3-none-any.whl (54 kB)\n",
      "Requirement already satisfied: seaborn<0.13.0,>=0.12.2 in ./pypi-tested/lib/python3.10/site-packages (from pureml-policy) (0.12.2)\n",
      "Requirement already satisfied: scikit-learn<2.0.0,>=1.2.2 in ./pypi-tested/lib/python3.10/site-packages (from pureml-policy) (1.4.0)\n",
      "Requirement already satisfied: joblib<2.0.0,>=1.2.0 in ./pypi-tested/lib/python3.10/site-packages (from pureml-policy) (1.3.2)\n",
      "Requirement already satisfied: daisy<2.0,>=1.0 in ./pypi-tested/lib/python3.10/site-packages (from pureml-policy) (1.0)\n",
      "Requirement already satisfied: reportlab<5.0.0,>=4.0.4 in ./pypi-tested/lib/python3.10/site-packages (from pureml-policy) (4.0.9)\n",
      "Requirement already satisfied: pydantic<3.0.0,>=2.5.3 in ./pypi-tested/lib/python3.10/site-packages (from pureml-policy) (2.5.3)\n",
      "Requirement already satisfied: fairlearn<0.9.0,>=0.8.0 in ./pypi-tested/lib/python3.10/site-packages (from pureml-policy) (0.8.0)\n",
      "Requirement already satisfied: PyPDF2<4.0.0,>=3.0.1 in ./pypi-tested/lib/python3.10/site-packages (from pureml-policy) (3.0.1)\n",
      "Requirement already satisfied: nest-asyncio<2.0.0,>=1.5.6 in ./pypi-tested/lib/python3.10/site-packages (from pureml==0.4.5.1->pureml-policy) (1.5.9)\n",
      "Requirement already satisfied: fastapi<0.109.0,>=0.108.0 in ./pypi-tested/lib/python3.10/site-packages (from pureml==0.4.5.1->pureml-policy) (0.108.0)\n",
      "Requirement already satisfied: requests<3.0.0,>=2.28.1 in ./pypi-tested/lib/python3.10/site-packages (from pureml==0.4.5.1->pureml-policy) (2.31.0)\n",
      "Requirement already satisfied: python-multipart<0.0.6,>=0.0.5 in ./pypi-tested/lib/python3.10/site-packages (from pureml==0.4.5.1->pureml-policy) (0.0.5)\n",
      "Requirement already satisfied: typer[all]<0.7.0,>=0.6.1 in ./pypi-tested/lib/python3.10/site-packages (from pureml==0.4.5.1->pureml-policy) (0.6.1)\n",
      "Requirement already satisfied: pyarrow<9.0.0,>=8.0.0 in ./pypi-tested/lib/python3.10/site-packages (from pureml==0.4.5.1->pureml-policy) (8.0.0)\n",
      "Requirement already satisfied: PyJWT<3.0.0,>=2.4.0 in ./pypi-tested/lib/python3.10/site-packages (from pureml==0.4.5.1->pureml-policy) (2.8.0)\n",
      "Requirement already satisfied: pyngrok<6.0.0,>=5.2.1 in ./pypi-tested/lib/python3.10/site-packages (from pureml==0.4.5.1->pureml-policy) (5.2.3)\n",
      "Requirement already satisfied: numpy<2.0.0,>=1.23.1 in ./pypi-tested/lib/python3.10/site-packages (from pureml==0.4.5.1->pureml-policy) (1.26.3)\n",
      "Requirement already satisfied: httpx<0.26.0,>=0.25.0 in ./pypi-tested/lib/python3.10/site-packages (from pureml==0.4.5.1->pureml-policy) (0.25.2)\n",
      "Requirement already satisfied: docker<7.0.0,>=6.0.1 in ./pypi-tested/lib/python3.10/site-packages (from pureml==0.4.5.1->pureml-policy) (6.1.3)\n",
      "Requirement already satisfied: PyYAML<7.0,>=6.0 in ./pypi-tested/lib/python3.10/site-packages (from pureml==0.4.5.1->pureml-policy) (6.0.1)\n",
      "Requirement already satisfied: uvicorn<0.21.0,>=0.20.0 in ./pypi-tested/lib/python3.10/site-packages (from pureml==0.4.5.1->pureml-policy) (0.20.0)\n",
      "Requirement already satisfied: python-dotenv<0.21.0,>=0.20.0 in ./pypi-tested/lib/python3.10/site-packages (from pureml==0.4.5.1->pureml-policy) (0.20.0)\n",
      "Requirement already satisfied: boto3<2.0.0,>=1.26.114 in ./pypi-tested/lib/python3.10/site-packages (from pureml==0.4.5.1->pureml-policy) (1.34.23)\n",
      "Requirement already satisfied: ipapi<2.0.0,>=1.0.4 in ./pypi-tested/lib/python3.10/site-packages (from pureml==0.4.5.1->pureml-policy) (1.0.4)\n",
      "Requirement already satisfied: matplotlib<4.0.0,>=3.6.2 in ./pypi-tested/lib/python3.10/site-packages (from pureml==0.4.5.1->pureml-policy) (3.8.2)\n",
      "Requirement already satisfied: Pillow<10.0.0,>=9.3.0 in ./pypi-tested/lib/python3.10/site-packages (from pureml==0.4.5.1->pureml-policy) (9.5.0)\n",
      "Requirement already satisfied: funlib.math in ./pypi-tested/lib/python3.10/site-packages (from daisy<2.0,>=1.0->pureml-policy) (0.1)\n",
      "Requirement already satisfied: tornado>=5 in ./pypi-tested/lib/python3.10/site-packages (from daisy<2.0,>=1.0->pureml-policy) (6.4)\n",
      "Requirement already satisfied: tqdm in ./pypi-tested/lib/python3.10/site-packages (from daisy<2.0,>=1.0->pureml-policy) (4.66.1)\n",
      "Requirement already satisfied: funlib.geometry in ./pypi-tested/lib/python3.10/site-packages (from daisy<2.0,>=1.0->pureml-policy) (0.3.0)\n",
      "Requirement already satisfied: pytz>=2020.1 in ./pypi-tested/lib/python3.10/site-packages (from pandas<2.0.0,>=1.4.3->pureml-policy) (2023.3.post1)\n",
      "Requirement already satisfied: python-dateutil>=2.8.1 in ./pypi-tested/lib/python3.10/site-packages (from pandas<2.0.0,>=1.4.3->pureml-policy) (2.8.2)\n",
      "Requirement already satisfied: tenacity>=6.2.0 in ./pypi-tested/lib/python3.10/site-packages (from plotly<6.0.0,>=5.18.0->pureml-policy) (8.2.3)\n",
      "Requirement already satisfied: packaging in ./pypi-tested/lib/python3.10/site-packages (from plotly<6.0.0,>=5.18.0->pureml-policy) (23.2)\n",
      "Requirement already satisfied: annotated-types>=0.4.0 in ./pypi-tested/lib/python3.10/site-packages (from pydantic<3.0.0,>=2.5.3->pureml-policy) (0.6.0)\n",
      "Requirement already satisfied: pydantic-core==2.14.6 in ./pypi-tested/lib/python3.10/site-packages (from pydantic<3.0.0,>=2.5.3->pureml-policy) (2.14.6)\n",
      "Requirement already satisfied: typing-extensions>=4.6.1 in ./pypi-tested/lib/python3.10/site-packages (from pydantic<3.0.0,>=2.5.3->pureml-policy) (4.9.0)\n",
      "Requirement already satisfied: chardet in ./pypi-tested/lib/python3.10/site-packages (from reportlab<5.0.0,>=4.0.4->pureml-policy) (5.2.0)\n",
      "Requirement already satisfied: threadpoolctl>=2.0.0 in ./pypi-tested/lib/python3.10/site-packages (from scikit-learn<2.0.0,>=1.2.2->pureml-policy) (3.2.0)\n",
      "Requirement already satisfied: botocore<1.35.0,>=1.34.23 in ./pypi-tested/lib/python3.10/site-packages (from boto3<2.0.0,>=1.26.114->pureml==0.4.5.1->pureml-policy) (1.34.23)\n",
      "Requirement already satisfied: jmespath<2.0.0,>=0.7.1 in ./pypi-tested/lib/python3.10/site-packages (from boto3<2.0.0,>=1.26.114->pureml==0.4.5.1->pureml-policy) (1.0.1)\n",
      "Requirement already satisfied: s3transfer<0.11.0,>=0.10.0 in ./pypi-tested/lib/python3.10/site-packages (from boto3<2.0.0,>=1.26.114->pureml==0.4.5.1->pureml-policy) (0.10.0)\n",
      "Requirement already satisfied: websocket-client>=0.32.0 in ./pypi-tested/lib/python3.10/site-packages (from docker<7.0.0,>=6.0.1->pureml==0.4.5.1->pureml-policy) (1.7.0)\n",
      "Requirement already satisfied: urllib3>=1.26.0 in ./pypi-tested/lib/python3.10/site-packages (from docker<7.0.0,>=6.0.1->pureml==0.4.5.1->pureml-policy) (2.0.7)\n",
      "Requirement already satisfied: starlette<0.33.0,>=0.29.0 in ./pypi-tested/lib/python3.10/site-packages (from fastapi<0.109.0,>=0.108.0->pureml==0.4.5.1->pureml-policy) (0.32.0.post1)\n",
      "Requirement already satisfied: httpcore==1.* in ./pypi-tested/lib/python3.10/site-packages (from httpx<0.26.0,>=0.25.0->pureml==0.4.5.1->pureml-policy) (1.0.2)\n",
      "Requirement already satisfied: anyio in ./pypi-tested/lib/python3.10/site-packages (from httpx<0.26.0,>=0.25.0->pureml==0.4.5.1->pureml-policy) (4.2.0)\n",
      "Requirement already satisfied: certifi in ./pypi-tested/lib/python3.10/site-packages (from httpx<0.26.0,>=0.25.0->pureml==0.4.5.1->pureml-policy) (2023.11.17)\n",
      "Requirement already satisfied: sniffio in ./pypi-tested/lib/python3.10/site-packages (from httpx<0.26.0,>=0.25.0->pureml==0.4.5.1->pureml-policy) (1.3.0)\n",
      "Requirement already satisfied: idna in ./pypi-tested/lib/python3.10/site-packages (from httpx<0.26.0,>=0.25.0->pureml==0.4.5.1->pureml-policy) (3.6)\n",
      "Requirement already satisfied: h11<0.15,>=0.13 in ./pypi-tested/lib/python3.10/site-packages (from httpcore==1.*->httpx<0.26.0,>=0.25.0->pureml==0.4.5.1->pureml-policy) (0.14.0)\n",
      "Requirement already satisfied: kiwisolver>=1.3.1 in ./pypi-tested/lib/python3.10/site-packages (from matplotlib<4.0.0,>=3.6.2->pureml==0.4.5.1->pureml-policy) (1.4.5)\n",
      "Requirement already satisfied: cycler>=0.10 in ./pypi-tested/lib/python3.10/site-packages (from matplotlib<4.0.0,>=3.6.2->pureml==0.4.5.1->pureml-policy) (0.12.1)\n",
      "Requirement already satisfied: contourpy>=1.0.1 in ./pypi-tested/lib/python3.10/site-packages (from matplotlib<4.0.0,>=3.6.2->pureml==0.4.5.1->pureml-policy) (1.2.0)\n",
      "Requirement already satisfied: pyparsing>=2.3.1 in ./pypi-tested/lib/python3.10/site-packages (from matplotlib<4.0.0,>=3.6.2->pureml==0.4.5.1->pureml-policy) (3.1.1)\n",
      "Requirement already satisfied: fonttools>=4.22.0 in ./pypi-tested/lib/python3.10/site-packages (from matplotlib<4.0.0,>=3.6.2->pureml==0.4.5.1->pureml-policy) (4.47.2)\n",
      "Requirement already satisfied: six>=1.5 in ./pypi-tested/lib/python3.10/site-packages (from python-dateutil>=2.8.1->pandas<2.0.0,>=1.4.3->pureml-policy) (1.16.0)\n",
      "Requirement already satisfied: charset-normalizer<4,>=2 in ./pypi-tested/lib/python3.10/site-packages (from requests<3.0.0,>=2.28.1->pureml==0.4.5.1->pureml-policy) (3.3.2)\n",
      "Requirement already satisfied: click<9.0.0,>=7.1.1 in ./pypi-tested/lib/python3.10/site-packages (from typer[all]<0.7.0,>=0.6.1->pureml==0.4.5.1->pureml-policy) (8.1.7)\n",
      "Requirement already satisfied: shellingham<2.0.0,>=1.3.0 in ./pypi-tested/lib/python3.10/site-packages (from typer[all]<0.7.0,>=0.6.1->pureml==0.4.5.1->pureml-policy) (1.5.4)\n",
      "Requirement already satisfied: colorama<0.5.0,>=0.4.3 in ./pypi-tested/lib/python3.10/site-packages (from typer[all]<0.7.0,>=0.6.1->pureml==0.4.5.1->pureml-policy) (0.4.6)\n",
      "Requirement already satisfied: rich<13.0.0,>=10.11.0 in ./pypi-tested/lib/python3.10/site-packages (from typer[all]<0.7.0,>=0.6.1->pureml==0.4.5.1->pureml-policy) (12.6.0)\n",
      "Requirement already satisfied: pygments<3.0.0,>=2.6.0 in ./pypi-tested/lib/python3.10/site-packages (from rich<13.0.0,>=10.11.0->typer[all]<0.7.0,>=0.6.1->pureml==0.4.5.1->pureml-policy) (2.17.2)\n",
      "Requirement already satisfied: commonmark<0.10.0,>=0.9.0 in ./pypi-tested/lib/python3.10/site-packages (from rich<13.0.0,>=10.11.0->typer[all]<0.7.0,>=0.6.1->pureml==0.4.5.1->pureml-policy) (0.9.1)\n",
      "Requirement already satisfied: exceptiongroup>=1.0.2 in ./pypi-tested/lib/python3.10/site-packages (from anyio->httpx<0.26.0,>=0.25.0->pureml==0.4.5.1->pureml-policy) (1.2.0)\n",
      "Installing collected packages: requests_toolbelt, pureml-policy\n",
      "Successfully installed pureml-policy-0.2.2.2 requests_toolbelt-1.0.0\n",
      "Note: you may need to restart the kernel to use updated packages.\n",
      "Collecting xlrd\n",
      "  Using cached xlrd-2.0.1-py2.py3-none-any.whl (96 kB)\n",
      "Installing collected packages: xlrd\n",
      "Successfully installed xlrd-2.0.1\n",
      "Note: you may need to restart the kernel to use updated packages.\n",
      "Collecting lightgbm\n",
      "  Using cached lightgbm-4.2.0-py3-none-manylinux_2_28_x86_64.whl (3.1 MB)\n",
      "Requirement already satisfied: scipy in ./pypi-tested/lib/python3.10/site-packages (from lightgbm) (1.12.0)\n",
      "Requirement already satisfied: numpy in ./pypi-tested/lib/python3.10/site-packages (from lightgbm) (1.26.3)\n",
      "Installing collected packages: lightgbm\n",
      "Successfully installed lightgbm-4.2.0\n",
      "Note: you may need to restart the kernel to use updated packages.\n"
     ]
    }
   ],
   "source": [
    "%pip install --index-url https://test.pypi.org/simple/ --extra-index-url https://pypi.org/simple pureml-evaluate\n",
    "%pip install --index-url https://test.pypi.org/simple/ --extra-index-url https://pypi.org/simple pureml\n",
    "%pip install --index-url https://test.pypi.org/simple/ --extra-index-url https://pypi.org/simple pureml-policy\n",
    "%pip install xlrd\n",
    "%pip install lightgbm"
   ]
  },
  {
   "cell_type": "code",
   "execution_count": null,
   "metadata": {},
   "outputs": [],
   "source": [
    "# use 'pureml auth login' to login to your account\n",
    "# pureml init -- Need to Run this in command line\n",
    "# puremlconfig.yaml file will be created in the current directory\n",
    "# Make sure to restart the kernel after running the above commands for the changes to take effect"
   ]
  },
  {
   "cell_type": "code",
   "execution_count": 1,
   "metadata": {},
   "outputs": [
    {
     "data": {
      "text/plain": [
       "'0.4.5.1'"
      ]
     },
     "execution_count": 1,
     "metadata": {},
     "output_type": "execute_result"
    }
   ],
   "source": [
    "import pureml\n",
    "\n",
    "pureml.__version__"
   ]
  },
  {
   "cell_type": "code",
   "execution_count": 2,
   "metadata": {},
   "outputs": [
    {
     "data": {
      "text/plain": [
       "'0.1.6.1'"
      ]
     },
     "execution_count": 2,
     "metadata": {},
     "output_type": "execute_result"
    }
   ],
   "source": [
    "import pureml_evaluate \n",
    "\n",
    "pureml_evaluate.__version__"
   ]
  },
  {
   "cell_type": "code",
   "execution_count": 3,
   "metadata": {},
   "outputs": [
    {
     "data": {
      "text/plain": [
       "'0.2.2.2'"
      ]
     },
     "execution_count": 3,
     "metadata": {},
     "output_type": "execute_result"
    }
   ],
   "source": [
    "import pureml_policy\n",
    "\n",
    "pureml_policy.__version__"
   ]
  },
  {
   "cell_type": "markdown",
   "metadata": {},
   "source": [
    "Import all the Required Pacakges"
   ]
  },
  {
   "cell_type": "code",
   "execution_count": 4,
   "metadata": {},
   "outputs": [],
   "source": [
    "# Import all the required files\n",
    "import pureml\n",
    "from pureml.decorators import load_data,transformer,dataset,model\n",
    "import numpy as np\n",
    "import pandas as pd\n",
    "import lightgbm as lgb\n",
    "from sklearn.pipeline import Pipeline\n",
    "from sklearn.preprocessing import StandardScaler\n",
    "from sklearn.model_selection import train_test_split\n",
    "import warnings\n",
    "\n",
    "warnings.simplefilter(\"ignore\")\n",
    "rand_seed = 1234\n",
    "np.random.seed(rand_seed)"
   ]
  },
  {
   "cell_type": "code",
   "execution_count": 5,
   "metadata": {},
   "outputs": [],
   "source": [
    "@load_data()\n",
    "def load_dataset():\n",
    "    df = pd.read_excel(io='default of credit card clients.xls',header  = 1)\n",
    "\n",
    "    return df"
   ]
  },
  {
   "cell_type": "code",
   "execution_count": 6,
   "metadata": {},
   "outputs": [],
   "source": [
    "@transformer()\n",
    "def remove_columns(df):\n",
    "    return df.drop(['ID'],axis =1)"
   ]
  },
  {
   "cell_type": "code",
   "execution_count": 7,
   "metadata": {},
   "outputs": [],
   "source": [
    "@transformer()\n",
    "def rename_columns(df):\n",
    "    return df.rename(columns={\"PAY_0\": \"PAY_1\",\"default payment next month\":\"default\"})    "
   ]
  },
  {
   "cell_type": "code",
   "execution_count": 8,
   "metadata": {},
   "outputs": [],
   "source": [
    "@transformer()\n",
    "def dataset_imbalances(df):\n",
    "    categorical_features = [\"SEX\", \"EDUCATION\", \"MARRIAGE\"]\n",
    "\n",
    "    for col_name in categorical_features:\n",
    "        df[col_name] = df[col_name].astype(\"category\")\n",
    "\n",
    "    Y, A_str = df.loc[:, \"default\"], df.loc[:, \"SEX\"]\n",
    "    X = pd.get_dummies(df.drop(columns=[\"default\", \"SEX\"]))\n",
    "\n",
    "    #A_str = A.map({1: \"male\", 2: \"female\"})\n",
    "\n",
    "    A_str.value_counts(normalize=True)\n",
    "    Y.value_counts(normalize=True)\n",
    "    \n",
    "    # Generate \"Interest\" column as a DataFrame_str\n",
    "    interest_values = np.random.normal(loc=2 * Y, scale=A_str)\n",
    "    interest_column = pd.DataFrame(interest_values, columns=[\"Interest\"])\n",
    "\n",
    "    # Concatenate \"Interest\" column with X DataFrame\n",
    "    X = pd.concat([X, interest_column], axis=1)\n",
    "\n",
    "    return {'X':X,'Y':Y,'A_str':A_str}\n"
   ]
  },
  {
   "cell_type": "code",
   "execution_count": 9,
   "metadata": {},
   "outputs": [],
   "source": [
    "@transformer()\n",
    "def resample_training_data(X_train, Y_train, A_train):\n",
    "   \n",
    "    negative_ids = Y_train[Y_train == 0].index\n",
    "    positive_ids = Y_train[Y_train == 1].index\n",
    "    balanced_ids = positive_ids.union(\n",
    "        np.random.choice(a=negative_ids, size=len(positive_ids)))\n",
    "\n",
    "    X_train = X_train.loc[balanced_ids, :]\n",
    "    Y_train = Y_train.loc[balanced_ids]\n",
    "    A_train = A_train.loc[balanced_ids]\n",
    "    return  {\"X_train\": X_train, \"Y_train\":Y_train, \"A_train\": A_train}"
   ]
  },
  {
   "cell_type": "code",
   "execution_count": 10,
   "metadata": {},
   "outputs": [
    {
     "data": {
      "text/html": [
       "<pre style=\"white-space:pre;overflow-x:auto;line-height:normal;font-family:Menlo,'DejaVu Sans Mono',consolas,'Courier New',monospace\"><span style=\"color: #808000; text-decoration-color: #808000\">Dataset details have not been found</span>\n",
       "</pre>\n"
      ],
      "text/plain": [
       "\u001b[33mDataset details have not been found\u001b[0m\n"
      ]
     },
     "metadata": {},
     "output_type": "display_data"
    },
    {
     "name": "stdout",
     "output_type": "stream",
     "text": [
      "ReadME file does not exist.\n",
      "Creating an Empty ReadME file\n"
     ]
    },
    {
     "data": {
      "text/html": [
       "<pre style=\"white-space:pre;overflow-x:auto;line-height:normal;font-family:Menlo,'DejaVu Sans Mono',consolas,'Courier New',monospace\"><span style=\"color: #008000; text-decoration-color: #008000\">Dataset has been created!</span>\n",
       "</pre>\n"
      ],
      "text/plain": [
       "\u001b[32mDataset has been created!\u001b[0m\n"
      ]
     },
     "metadata": {},
     "output_type": "display_data"
    },
    {
     "data": {
      "text/html": [
       "<pre style=\"white-space:pre;overflow-x:auto;line-height:normal;font-family:Menlo,'DejaVu Sans Mono',consolas,'Courier New',monospace\">Dataset version:  v1\n",
       "</pre>\n"
      ],
      "text/plain": [
       "Dataset version:  v1\n"
      ]
     },
     "metadata": {},
     "output_type": "display_data"
    },
    {
     "data": {
      "text/html": [
       "<pre style=\"white-space:pre;overflow-x:auto;line-height:normal;font-family:Menlo,'DejaVu Sans Mono',consolas,'Courier New',monospace\">Dataset label:  credit_example_dataset_demo3:v1\n",
       "</pre>\n"
      ],
      "text/plain": [
       "Dataset label:  credit_example_dataset_demo3:v1\n"
      ]
     },
     "metadata": {},
     "output_type": "display_data"
    },
    {
     "data": {
      "text/html": [
       "<pre style=\"white-space:pre;overflow-x:auto;line-height:normal;font-family:Menlo,'DejaVu Sans Mono',consolas,'Courier New',monospace\"><span style=\"color: #008000; text-decoration-color: #008000\">Dataset and lineage have been registered!</span>\n",
       "</pre>\n"
      ],
      "text/plain": [
       "\u001b[32mDataset and lineage have been registered!\u001b[0m\n"
      ]
     },
     "metadata": {},
     "output_type": "display_data"
    },
    {
     "data": {
      "text/plain": [
       "{'x_train':        LIMIT_BAL  AGE  PAY_1  PAY_2  PAY_3  PAY_4  PAY_5  PAY_6  BILL_AMT1  \\\n",
       " 0          20000   24      2      2     -1     -1     -2     -2       3913   \n",
       " 1         120000   26     -1      2      0      0      0      2       2682   \n",
       " 3          50000   37      0      0      0      0      0      0      46990   \n",
       " 4          50000   57     -1      0     -1      0      0      0       8617   \n",
       " 8         140000   28      0      0      2      0      0      0      11285   \n",
       " ...          ...  ...    ...    ...    ...    ...    ...    ...        ...   \n",
       " 29973     230000   35      1     -2     -2     -2     -2     -2          0   \n",
       " 29976      40000   47      2      2      3      2      2      2      52358   \n",
       " 29981      50000   44      1      2      2      2      0      0      38671   \n",
       " 29981      50000   44      1      2      2      2      0      0      38671   \n",
       " 29982      90000   36      0      0      0      0      0      0       7752   \n",
       " \n",
       "        BILL_AMT2  ...  EDUCATION_2  EDUCATION_3  EDUCATION_4  EDUCATION_5  \\\n",
       " 0           3102  ...            1            0            0            0   \n",
       " 1           1725  ...            1            0            0            0   \n",
       " 3          48233  ...            1            0            0            0   \n",
       " 4           5670  ...            1            0            0            0   \n",
       " 8          14096  ...            0            1            0            0   \n",
       " ...          ...  ...          ...          ...          ...          ...   \n",
       " 29973          0  ...            1            0            0            0   \n",
       " 29976      54892  ...            1            0            0            0   \n",
       " 29981      36772  ...            1            0            0            0   \n",
       " 29981      36772  ...            1            0            0            0   \n",
       " 29982       9112  ...            1            0            0            0   \n",
       " \n",
       "        EDUCATION_6  MARRIAGE_0  MARRIAGE_1  MARRIAGE_2  MARRIAGE_3  Interest  \n",
       " 0                0           0           1           0           0  2.942870  \n",
       " 1                0           0           0           1           0 -0.381951  \n",
       " 3                0           0           1           0           0 -0.625304  \n",
       " 4                0           0           1           0           0 -0.720589  \n",
       " 8                0           0           1           0           0  0.031393  \n",
       " ...            ...         ...         ...         ...         ...       ...  \n",
       " 29973            0           0           1           0           0  0.946851  \n",
       " 29976            0           0           0           1           0  3.185992  \n",
       " 29981            0           0           1           0           0  0.285098  \n",
       " 29981            0           0           1           0           0  0.285098  \n",
       " 29982            0           0           1           0           0  1.480223  \n",
       " \n",
       " [8626 rows x 32 columns],\n",
       " 'y_train': 0        1\n",
       " 1        1\n",
       " 3        0\n",
       " 4        0\n",
       " 8        0\n",
       "         ..\n",
       " 29973    1\n",
       " 29976    1\n",
       " 29981    0\n",
       " 29981    0\n",
       " 29982    1\n",
       " Name: default, Length: 8626, dtype: int64,\n",
       " 'x_test':        LIMIT_BAL  AGE  PAY_1  PAY_2  PAY_3  PAY_4  PAY_5  PAY_6  BILL_AMT1  \\\n",
       " 9407      160000   28     -2     -2     -2     -2     -2     -2          0   \n",
       " 2311      180000   26      0      0      0      0      0      0      93169   \n",
       " 22633     230000   43     -1     -1     -1     -1     -1     -2        390   \n",
       " 9255      110000   28      1     -1     -1     -1      0      0       -100   \n",
       " 8901      250000   40     -1     -1     -1     -1     -1     -1       3264   \n",
       " ...          ...  ...    ...    ...    ...    ...    ...    ...        ...   \n",
       " 26220     210000   40     -1     -1     -1     -1     -1     -1        316   \n",
       " 18170     250000   47     -2     -2     -2     -2     -2     -2          0   \n",
       " 25486     600000   31     -2     -2     -2     -2     -2     -2        -84   \n",
       " 3113      220000   44     -1      0      0      0      0      0     208858   \n",
       " 27486      30000   57      0      0      0      0      0      0      24911   \n",
       " \n",
       "        BILL_AMT2  ...  EDUCATION_2  EDUCATION_3  EDUCATION_4  EDUCATION_5  \\\n",
       " 9407           0  ...            1            0            0            0   \n",
       " 2311       58983  ...            1            0            0            0   \n",
       " 22633        390  ...            0            0            0            0   \n",
       " 9255         200  ...            0            0            0            0   \n",
       " 8901        2395  ...            0            0            0            0   \n",
       " ...          ...  ...          ...          ...          ...          ...   \n",
       " 26220        316  ...            0            0            0            0   \n",
       " 18170          0  ...            0            0            0            0   \n",
       " 25486        115  ...            0            0            0            0   \n",
       " 3113      212640  ...            0            0            0            0   \n",
       " 27486      26241  ...            1            0            0            0   \n",
       " \n",
       "        EDUCATION_6  MARRIAGE_0  MARRIAGE_1  MARRIAGE_2  MARRIAGE_3  Interest  \n",
       " 9407             0           0           0           1           0 -1.328418  \n",
       " 2311             0           0           0           1           0  0.499167  \n",
       " 22633            0           0           1           0           0  2.233946  \n",
       " 9255             0           0           0           1           0 -0.045508  \n",
       " 8901             0           0           0           1           0 -1.821064  \n",
       " ...            ...         ...         ...         ...         ...       ...  \n",
       " 26220            0           0           1           0           0  2.221083  \n",
       " 18170            0           0           1           0           0 -2.297302  \n",
       " 25486            0           0           0           1           0  0.521262  \n",
       " 3113             0           0           1           0           0 -3.482351  \n",
       " 27486            0           0           1           0           0  2.534986  \n",
       " \n",
       " [10500 rows x 32 columns],\n",
       " 'y_test': array([0, 0, 1, ..., 0, 0, 1]),\n",
       " 'sensitive_features': array([1, 1, 2, ..., 2, 2, 1])}"
      ]
     },
     "execution_count": 10,
     "metadata": {},
     "output_type": "execute_result"
    }
   ],
   "source": [
    "from pureml.decorators import dataset\n",
    "\n",
    "@dataset(label='credit_example_dataset_demo3',upload=True)\n",
    "def create_dataset():\n",
    "    df = load_dataset()\n",
    "    df = remove_columns(df)\n",
    "    df = rename_columns(df)\n",
    "    data  = dataset_imbalances(df)\n",
    "    X,Y,A_str = data['X'],data['Y'],data['A_str']\n",
    "    X_train, X_test, y_train, y_test, A_train, A_test = train_test_split(X, Y, A_str, test_size=0.35, stratify=Y)\n",
    "    data = resample_training_data(X_train, y_train, A_train)\n",
    "    X_train, y_train, A_train = data['X_train'],data['Y_train'],data['A_train']\n",
    "    A_test = A_test.to_numpy()\n",
    "    y_test = y_test.to_numpy()\n",
    "    return {\"x_train\":X_train,\"y_train\":y_train,\"x_test\":X_test,\"y_test\":y_test,\"sensitive_features\" : A_test}\n",
    "    \n",
    "\n",
    "create_dataset()"
   ]
  },
  {
   "cell_type": "code",
   "execution_count": 11,
   "metadata": {},
   "outputs": [],
   "source": [
    "data = pureml.dataset.fetch('credit_example_dataset_demo3:v1')\n",
    "x_test = data['x_test']\n",
    "y_test = data['y_test']\n"
   ]
  },
  {
   "cell_type": "code",
   "execution_count": 12,
   "metadata": {},
   "outputs": [
    {
     "name": "stdout",
     "output_type": "stream",
     "text": [
      "[LightGBM] [Info] Number of positive: 4313, number of negative: 4313\n",
      "[LightGBM] [Info] Auto-choosing row-wise multi-threading, the overhead of testing was 0.002686 seconds.\n",
      "You can set `force_row_wise=true` to remove the overhead.\n",
      "And if memory is not enough, you can set `force_col_wise=true`.\n",
      "[LightGBM] [Info] Total Bins 3523\n",
      "[LightGBM] [Info] Number of data points in the train set: 8626, number of used features: 29\n",
      "[LightGBM] [Info] [binary:BoostFromScore]: pavg=0.500000 -> initscore=0.000000\n"
     ]
    },
    {
     "data": {
      "text/html": [
       "<pre style=\"white-space:pre;overflow-x:auto;line-height:normal;font-family:Menlo,'DejaVu Sans Mono',consolas,'Courier New',monospace\">Model details have not been found\n",
       "</pre>\n"
      ],
      "text/plain": [
       "Model details have not been found\n"
      ]
     },
     "metadata": {},
     "output_type": "display_data"
    },
    {
     "name": "stdout",
     "output_type": "stream",
     "text": [
      "ReadME file does not exist.\n",
      "Creating an Empty ReadME file\n"
     ]
    },
    {
     "data": {
      "text/html": [
       "<pre style=\"white-space:pre;overflow-x:auto;line-height:normal;font-family:Menlo,'DejaVu Sans Mono',consolas,'Courier New',monospace\"><span style=\"color: #008000; text-decoration-color: #008000\">Model has been created!</span>\n",
       "</pre>\n"
      ],
      "text/plain": [
       "\u001b[32mModel has been created!\u001b[0m\n"
      ]
     },
     "metadata": {},
     "output_type": "display_data"
    },
    {
     "data": {
      "text/html": [
       "<pre style=\"white-space:pre;overflow-x:auto;line-height:normal;font-family:Menlo,'DejaVu Sans Mono',consolas,'Courier New',monospace\"><span style=\"color: #008000; text-decoration-color: #008000\">Model has been registered!</span>\n",
       "</pre>\n"
      ],
      "text/plain": [
       "\u001b[32mModel has been registered!\u001b[0m\n"
      ]
     },
     "metadata": {},
     "output_type": "display_data"
    },
    {
     "data": {
      "text/html": [
       "<pre style=\"white-space:pre;overflow-x:auto;line-height:normal;font-family:Menlo,'DejaVu Sans Mono',consolas,'Courier New',monospace\">Model version:  v1\n",
       "</pre>\n"
      ],
      "text/plain": [
       "Model version:  v1\n"
      ]
     },
     "metadata": {},
     "output_type": "display_data"
    },
    {
     "data": {
      "text/html": [
       "<pre style=\"white-space:pre;overflow-x:auto;line-height:normal;font-family:Menlo,'DejaVu Sans Mono',consolas,'Courier New',monospace\">Model label:  credit_example_model_demo3:v1\n",
       "</pre>\n"
      ],
      "text/plain": [
       "Model label:  credit_example_model_demo3:v1\n"
      ]
     },
     "metadata": {},
     "output_type": "display_data"
    },
    {
     "name": "stdout",
     "output_type": "stream",
     "text": [
      "No metrics are found in config\n",
      "No params are found in config\n",
      "No figures are found in config\n"
     ]
    },
    {
     "data": {
      "text/html": [
       "<style>#sk-container-id-1 {\n",
       "  /* Definition of color scheme common for light and dark mode */\n",
       "  --sklearn-color-text: black;\n",
       "  --sklearn-color-line: gray;\n",
       "  /* Definition of color scheme for unfitted estimators */\n",
       "  --sklearn-color-unfitted-level-0: #fff5e6;\n",
       "  --sklearn-color-unfitted-level-1: #f6e4d2;\n",
       "  --sklearn-color-unfitted-level-2: #ffe0b3;\n",
       "  --sklearn-color-unfitted-level-3: chocolate;\n",
       "  /* Definition of color scheme for fitted estimators */\n",
       "  --sklearn-color-fitted-level-0: #f0f8ff;\n",
       "  --sklearn-color-fitted-level-1: #d4ebff;\n",
       "  --sklearn-color-fitted-level-2: #b3dbfd;\n",
       "  --sklearn-color-fitted-level-3: cornflowerblue;\n",
       "\n",
       "  /* Specific color for light theme */\n",
       "  --sklearn-color-text-on-default-background: var(--sg-text-color, var(--theme-code-foreground, var(--jp-content-font-color1, black)));\n",
       "  --sklearn-color-background: var(--sg-background-color, var(--theme-background, var(--jp-layout-color0, white)));\n",
       "  --sklearn-color-border-box: var(--sg-text-color, var(--theme-code-foreground, var(--jp-content-font-color1, black)));\n",
       "  --sklearn-color-icon: #696969;\n",
       "\n",
       "  @media (prefers-color-scheme: dark) {\n",
       "    /* Redefinition of color scheme for dark theme */\n",
       "    --sklearn-color-text-on-default-background: var(--sg-text-color, var(--theme-code-foreground, var(--jp-content-font-color1, white)));\n",
       "    --sklearn-color-background: var(--sg-background-color, var(--theme-background, var(--jp-layout-color0, #111)));\n",
       "    --sklearn-color-border-box: var(--sg-text-color, var(--theme-code-foreground, var(--jp-content-font-color1, white)));\n",
       "    --sklearn-color-icon: #878787;\n",
       "  }\n",
       "}\n",
       "\n",
       "#sk-container-id-1 {\n",
       "  color: var(--sklearn-color-text);\n",
       "}\n",
       "\n",
       "#sk-container-id-1 pre {\n",
       "  padding: 0;\n",
       "}\n",
       "\n",
       "#sk-container-id-1 input.sk-hidden--visually {\n",
       "  border: 0;\n",
       "  clip: rect(1px 1px 1px 1px);\n",
       "  clip: rect(1px, 1px, 1px, 1px);\n",
       "  height: 1px;\n",
       "  margin: -1px;\n",
       "  overflow: hidden;\n",
       "  padding: 0;\n",
       "  position: absolute;\n",
       "  width: 1px;\n",
       "}\n",
       "\n",
       "#sk-container-id-1 div.sk-dashed-wrapped {\n",
       "  border: 1px dashed var(--sklearn-color-line);\n",
       "  margin: 0 0.4em 0.5em 0.4em;\n",
       "  box-sizing: border-box;\n",
       "  padding-bottom: 0.4em;\n",
       "  background-color: var(--sklearn-color-background);\n",
       "}\n",
       "\n",
       "#sk-container-id-1 div.sk-container {\n",
       "  /* jupyter's `normalize.less` sets `[hidden] { display: none; }`\n",
       "     but bootstrap.min.css set `[hidden] { display: none !important; }`\n",
       "     so we also need the `!important` here to be able to override the\n",
       "     default hidden behavior on the sphinx rendered scikit-learn.org.\n",
       "     See: https://github.com/scikit-learn/scikit-learn/issues/21755 */\n",
       "  display: inline-block !important;\n",
       "  position: relative;\n",
       "}\n",
       "\n",
       "#sk-container-id-1 div.sk-text-repr-fallback {\n",
       "  display: none;\n",
       "}\n",
       "\n",
       "div.sk-parallel-item,\n",
       "div.sk-serial,\n",
       "div.sk-item {\n",
       "  /* draw centered vertical line to link estimators */\n",
       "  background-image: linear-gradient(var(--sklearn-color-text-on-default-background), var(--sklearn-color-text-on-default-background));\n",
       "  background-size: 2px 100%;\n",
       "  background-repeat: no-repeat;\n",
       "  background-position: center center;\n",
       "}\n",
       "\n",
       "/* Parallel-specific style estimator block */\n",
       "\n",
       "#sk-container-id-1 div.sk-parallel-item::after {\n",
       "  content: \"\";\n",
       "  width: 100%;\n",
       "  border-bottom: 2px solid var(--sklearn-color-text-on-default-background);\n",
       "  flex-grow: 1;\n",
       "}\n",
       "\n",
       "#sk-container-id-1 div.sk-parallel {\n",
       "  display: flex;\n",
       "  align-items: stretch;\n",
       "  justify-content: center;\n",
       "  background-color: var(--sklearn-color-background);\n",
       "  position: relative;\n",
       "}\n",
       "\n",
       "#sk-container-id-1 div.sk-parallel-item {\n",
       "  display: flex;\n",
       "  flex-direction: column;\n",
       "}\n",
       "\n",
       "#sk-container-id-1 div.sk-parallel-item:first-child::after {\n",
       "  align-self: flex-end;\n",
       "  width: 50%;\n",
       "}\n",
       "\n",
       "#sk-container-id-1 div.sk-parallel-item:last-child::after {\n",
       "  align-self: flex-start;\n",
       "  width: 50%;\n",
       "}\n",
       "\n",
       "#sk-container-id-1 div.sk-parallel-item:only-child::after {\n",
       "  width: 0;\n",
       "}\n",
       "\n",
       "/* Serial-specific style estimator block */\n",
       "\n",
       "#sk-container-id-1 div.sk-serial {\n",
       "  display: flex;\n",
       "  flex-direction: column;\n",
       "  align-items: center;\n",
       "  background-color: var(--sklearn-color-background);\n",
       "  padding-right: 1em;\n",
       "  padding-left: 1em;\n",
       "}\n",
       "\n",
       "\n",
       "/* Toggleable style: style used for estimator/Pipeline/ColumnTransformer box that is\n",
       "clickable and can be expanded/collapsed.\n",
       "- Pipeline and ColumnTransformer use this feature and define the default style\n",
       "- Estimators will overwrite some part of the style using the `sk-estimator` class\n",
       "*/\n",
       "\n",
       "/* Pipeline and ColumnTransformer style (default) */\n",
       "\n",
       "#sk-container-id-1 div.sk-toggleable {\n",
       "  /* Default theme specific background. It is overwritten whether we have a\n",
       "  specific estimator or a Pipeline/ColumnTransformer */\n",
       "  background-color: var(--sklearn-color-background);\n",
       "}\n",
       "\n",
       "/* Toggleable label */\n",
       "#sk-container-id-1 label.sk-toggleable__label {\n",
       "  cursor: pointer;\n",
       "  display: block;\n",
       "  width: 100%;\n",
       "  margin-bottom: 0;\n",
       "  padding: 0.5em;\n",
       "  box-sizing: border-box;\n",
       "  text-align: center;\n",
       "}\n",
       "\n",
       "#sk-container-id-1 label.sk-toggleable__label-arrow:before {\n",
       "  /* Arrow on the left of the label */\n",
       "  content: \"▸\";\n",
       "  float: left;\n",
       "  margin-right: 0.25em;\n",
       "  color: var(--sklearn-color-icon);\n",
       "}\n",
       "\n",
       "#sk-container-id-1 label.sk-toggleable__label-arrow:hover:before {\n",
       "  color: var(--sklearn-color-text);\n",
       "}\n",
       "\n",
       "/* Toggleable content - dropdown */\n",
       "\n",
       "#sk-container-id-1 div.sk-toggleable__content {\n",
       "  max-height: 0;\n",
       "  max-width: 0;\n",
       "  overflow: hidden;\n",
       "  text-align: left;\n",
       "  /* unfitted */\n",
       "  background-color: var(--sklearn-color-unfitted-level-0);\n",
       "}\n",
       "\n",
       "#sk-container-id-1 div.sk-toggleable__content.fitted {\n",
       "  /* fitted */\n",
       "  background-color: var(--sklearn-color-fitted-level-0);\n",
       "}\n",
       "\n",
       "#sk-container-id-1 div.sk-toggleable__content pre {\n",
       "  margin: 0.2em;\n",
       "  border-radius: 0.25em;\n",
       "  color: var(--sklearn-color-text);\n",
       "  /* unfitted */\n",
       "  background-color: var(--sklearn-color-unfitted-level-0);\n",
       "}\n",
       "\n",
       "#sk-container-id-1 div.sk-toggleable__content.fitted pre {\n",
       "  /* unfitted */\n",
       "  background-color: var(--sklearn-color-fitted-level-0);\n",
       "}\n",
       "\n",
       "#sk-container-id-1 input.sk-toggleable__control:checked~div.sk-toggleable__content {\n",
       "  /* Expand drop-down */\n",
       "  max-height: 200px;\n",
       "  max-width: 100%;\n",
       "  overflow: auto;\n",
       "}\n",
       "\n",
       "#sk-container-id-1 input.sk-toggleable__control:checked~label.sk-toggleable__label-arrow:before {\n",
       "  content: \"▾\";\n",
       "}\n",
       "\n",
       "/* Pipeline/ColumnTransformer-specific style */\n",
       "\n",
       "#sk-container-id-1 div.sk-label input.sk-toggleable__control:checked~label.sk-toggleable__label {\n",
       "  color: var(--sklearn-color-text);\n",
       "  background-color: var(--sklearn-color-unfitted-level-2);\n",
       "}\n",
       "\n",
       "#sk-container-id-1 div.sk-label.fitted input.sk-toggleable__control:checked~label.sk-toggleable__label {\n",
       "  background-color: var(--sklearn-color-fitted-level-2);\n",
       "}\n",
       "\n",
       "/* Estimator-specific style */\n",
       "\n",
       "/* Colorize estimator box */\n",
       "#sk-container-id-1 div.sk-estimator input.sk-toggleable__control:checked~label.sk-toggleable__label {\n",
       "  /* unfitted */\n",
       "  background-color: var(--sklearn-color-unfitted-level-2);\n",
       "}\n",
       "\n",
       "#sk-container-id-1 div.sk-estimator.fitted input.sk-toggleable__control:checked~label.sk-toggleable__label {\n",
       "  /* fitted */\n",
       "  background-color: var(--sklearn-color-fitted-level-2);\n",
       "}\n",
       "\n",
       "#sk-container-id-1 div.sk-label label.sk-toggleable__label,\n",
       "#sk-container-id-1 div.sk-label label {\n",
       "  /* The background is the default theme color */\n",
       "  color: var(--sklearn-color-text-on-default-background);\n",
       "}\n",
       "\n",
       "/* On hover, darken the color of the background */\n",
       "#sk-container-id-1 div.sk-label:hover label.sk-toggleable__label {\n",
       "  color: var(--sklearn-color-text);\n",
       "  background-color: var(--sklearn-color-unfitted-level-2);\n",
       "}\n",
       "\n",
       "/* Label box, darken color on hover, fitted */\n",
       "#sk-container-id-1 div.sk-label.fitted:hover label.sk-toggleable__label.fitted {\n",
       "  color: var(--sklearn-color-text);\n",
       "  background-color: var(--sklearn-color-fitted-level-2);\n",
       "}\n",
       "\n",
       "/* Estimator label */\n",
       "\n",
       "#sk-container-id-1 div.sk-label label {\n",
       "  font-family: monospace;\n",
       "  font-weight: bold;\n",
       "  display: inline-block;\n",
       "  line-height: 1.2em;\n",
       "}\n",
       "\n",
       "#sk-container-id-1 div.sk-label-container {\n",
       "  text-align: center;\n",
       "}\n",
       "\n",
       "/* Estimator-specific */\n",
       "#sk-container-id-1 div.sk-estimator {\n",
       "  font-family: monospace;\n",
       "  border: 1px dotted var(--sklearn-color-border-box);\n",
       "  border-radius: 0.25em;\n",
       "  box-sizing: border-box;\n",
       "  margin-bottom: 0.5em;\n",
       "  /* unfitted */\n",
       "  background-color: var(--sklearn-color-unfitted-level-0);\n",
       "}\n",
       "\n",
       "#sk-container-id-1 div.sk-estimator.fitted {\n",
       "  /* fitted */\n",
       "  background-color: var(--sklearn-color-fitted-level-0);\n",
       "}\n",
       "\n",
       "/* on hover */\n",
       "#sk-container-id-1 div.sk-estimator:hover {\n",
       "  /* unfitted */\n",
       "  background-color: var(--sklearn-color-unfitted-level-2);\n",
       "}\n",
       "\n",
       "#sk-container-id-1 div.sk-estimator.fitted:hover {\n",
       "  /* fitted */\n",
       "  background-color: var(--sklearn-color-fitted-level-2);\n",
       "}\n",
       "\n",
       "/* Specification for estimator info (e.g. \"i\" and \"?\") */\n",
       "\n",
       "/* Common style for \"i\" and \"?\" */\n",
       "\n",
       ".sk-estimator-doc-link,\n",
       "a:link.sk-estimator-doc-link,\n",
       "a:visited.sk-estimator-doc-link {\n",
       "  float: right;\n",
       "  font-size: smaller;\n",
       "  line-height: 1em;\n",
       "  font-family: monospace;\n",
       "  background-color: var(--sklearn-color-background);\n",
       "  border-radius: 1em;\n",
       "  height: 1em;\n",
       "  width: 1em;\n",
       "  text-decoration: none !important;\n",
       "  margin-left: 1ex;\n",
       "  /* unfitted */\n",
       "  border: var(--sklearn-color-unfitted-level-1) 1pt solid;\n",
       "  color: var(--sklearn-color-unfitted-level-1);\n",
       "}\n",
       "\n",
       ".sk-estimator-doc-link.fitted,\n",
       "a:link.sk-estimator-doc-link.fitted,\n",
       "a:visited.sk-estimator-doc-link.fitted {\n",
       "  /* fitted */\n",
       "  border: var(--sklearn-color-fitted-level-1) 1pt solid;\n",
       "  color: var(--sklearn-color-fitted-level-1);\n",
       "}\n",
       "\n",
       "/* On hover */\n",
       "div.sk-estimator:hover .sk-estimator-doc-link:hover,\n",
       ".sk-estimator-doc-link:hover,\n",
       "div.sk-label-container:hover .sk-estimator-doc-link:hover,\n",
       ".sk-estimator-doc-link:hover {\n",
       "  /* unfitted */\n",
       "  background-color: var(--sklearn-color-unfitted-level-3);\n",
       "  color: var(--sklearn-color-background);\n",
       "  text-decoration: none;\n",
       "}\n",
       "\n",
       "div.sk-estimator.fitted:hover .sk-estimator-doc-link.fitted:hover,\n",
       ".sk-estimator-doc-link.fitted:hover,\n",
       "div.sk-label-container:hover .sk-estimator-doc-link.fitted:hover,\n",
       ".sk-estimator-doc-link.fitted:hover {\n",
       "  /* fitted */\n",
       "  background-color: var(--sklearn-color-fitted-level-3);\n",
       "  color: var(--sklearn-color-background);\n",
       "  text-decoration: none;\n",
       "}\n",
       "\n",
       "/* Span, style for the box shown on hovering the info icon */\n",
       ".sk-estimator-doc-link span {\n",
       "  display: none;\n",
       "  z-index: 9999;\n",
       "  position: relative;\n",
       "  font-weight: normal;\n",
       "  right: .2ex;\n",
       "  padding: .5ex;\n",
       "  margin: .5ex;\n",
       "  width: min-content;\n",
       "  min-width: 20ex;\n",
       "  max-width: 50ex;\n",
       "  color: var(--sklearn-color-text);\n",
       "  box-shadow: 2pt 2pt 4pt #999;\n",
       "  /* unfitted */\n",
       "  background: var(--sklearn-color-unfitted-level-0);\n",
       "  border: .5pt solid var(--sklearn-color-unfitted-level-3);\n",
       "}\n",
       "\n",
       ".sk-estimator-doc-link.fitted span {\n",
       "  /* fitted */\n",
       "  background: var(--sklearn-color-fitted-level-0);\n",
       "  border: var(--sklearn-color-fitted-level-3);\n",
       "}\n",
       "\n",
       ".sk-estimator-doc-link:hover span {\n",
       "  display: block;\n",
       "}\n",
       "\n",
       "/* \"?\"-specific style due to the `<a>` HTML tag */\n",
       "\n",
       "#sk-container-id-1 a.estimator_doc_link {\n",
       "  float: right;\n",
       "  font-size: 1rem;\n",
       "  line-height: 1em;\n",
       "  font-family: monospace;\n",
       "  background-color: var(--sklearn-color-background);\n",
       "  border-radius: 1rem;\n",
       "  height: 1rem;\n",
       "  width: 1rem;\n",
       "  text-decoration: none;\n",
       "  /* unfitted */\n",
       "  color: var(--sklearn-color-unfitted-level-1);\n",
       "  border: var(--sklearn-color-unfitted-level-1) 1pt solid;\n",
       "}\n",
       "\n",
       "#sk-container-id-1 a.estimator_doc_link.fitted {\n",
       "  /* fitted */\n",
       "  border: var(--sklearn-color-fitted-level-1) 1pt solid;\n",
       "  color: var(--sklearn-color-fitted-level-1);\n",
       "}\n",
       "\n",
       "/* On hover */\n",
       "#sk-container-id-1 a.estimator_doc_link:hover {\n",
       "  /* unfitted */\n",
       "  background-color: var(--sklearn-color-unfitted-level-3);\n",
       "  color: var(--sklearn-color-background);\n",
       "  text-decoration: none;\n",
       "}\n",
       "\n",
       "#sk-container-id-1 a.estimator_doc_link.fitted:hover {\n",
       "  /* fitted */\n",
       "  background-color: var(--sklearn-color-fitted-level-3);\n",
       "}\n",
       "</style><div id=\"sk-container-id-1\" class=\"sk-top-container\"><div class=\"sk-text-repr-fallback\"><pre>Pipeline(steps=[(&#x27;preprocessing&#x27;, StandardScaler()),\n",
       "                (&#x27;classifier&#x27;,\n",
       "                 LGBMClassifier(learning_rate=0.03, max_depth=3, metric=&#x27;auc&#x27;,\n",
       "                                n_jobs=1, num_leaves=10, random_state=1234))])</pre><b>In a Jupyter environment, please rerun this cell to show the HTML representation or trust the notebook. <br />On GitHub, the HTML representation is unable to render, please try loading this page with nbviewer.org.</b></div><div class=\"sk-container\" hidden><div class=\"sk-item sk-dashed-wrapped\"><div class=\"sk-label-container\"><div class=\"sk-label fitted sk-toggleable\"><input class=\"sk-toggleable__control sk-hidden--visually\" id=\"sk-estimator-id-1\" type=\"checkbox\" ><label for=\"sk-estimator-id-1\" class=\"sk-toggleable__label fitted sk-toggleable__label-arrow fitted\">&nbsp;&nbsp;Pipeline<a class=\"sk-estimator-doc-link fitted\" rel=\"noreferrer\" target=\"_blank\" href=\"https://scikit-learn.org/1.4/modules/generated/sklearn.pipeline.Pipeline.html\">?<span>Documentation for Pipeline</span></a><span class=\"sk-estimator-doc-link fitted\">i<span>Fitted</span></span></label><div class=\"sk-toggleable__content fitted\"><pre>Pipeline(steps=[(&#x27;preprocessing&#x27;, StandardScaler()),\n",
       "                (&#x27;classifier&#x27;,\n",
       "                 LGBMClassifier(learning_rate=0.03, max_depth=3, metric=&#x27;auc&#x27;,\n",
       "                                n_jobs=1, num_leaves=10, random_state=1234))])</pre></div> </div></div><div class=\"sk-serial\"><div class=\"sk-item\"><div class=\"sk-estimator fitted sk-toggleable\"><input class=\"sk-toggleable__control sk-hidden--visually\" id=\"sk-estimator-id-2\" type=\"checkbox\" ><label for=\"sk-estimator-id-2\" class=\"sk-toggleable__label fitted sk-toggleable__label-arrow fitted\">&nbsp;StandardScaler<a class=\"sk-estimator-doc-link fitted\" rel=\"noreferrer\" target=\"_blank\" href=\"https://scikit-learn.org/1.4/modules/generated/sklearn.preprocessing.StandardScaler.html\">?<span>Documentation for StandardScaler</span></a></label><div class=\"sk-toggleable__content fitted\"><pre>StandardScaler()</pre></div> </div></div><div class=\"sk-item\"><div class=\"sk-estimator fitted sk-toggleable\"><input class=\"sk-toggleable__control sk-hidden--visually\" id=\"sk-estimator-id-3\" type=\"checkbox\" ><label for=\"sk-estimator-id-3\" class=\"sk-toggleable__label fitted sk-toggleable__label-arrow fitted\">LGBMClassifier</label><div class=\"sk-toggleable__content fitted\"><pre>LGBMClassifier(learning_rate=0.03, max_depth=3, metric=&#x27;auc&#x27;, n_jobs=1,\n",
       "               num_leaves=10, random_state=1234)</pre></div> </div></div></div></div></div></div>"
      ],
      "text/plain": [
       "Pipeline(steps=[('preprocessing', StandardScaler()),\n",
       "                ('classifier',\n",
       "                 LGBMClassifier(learning_rate=0.03, max_depth=3, metric='auc',\n",
       "                                n_jobs=1, num_leaves=10, random_state=1234))])"
      ]
     },
     "execution_count": 12,
     "metadata": {},
     "output_type": "execute_result"
    }
   ],
   "source": [
    "from pureml.decorators import model\n",
    "import pureml\n",
    "\n",
    "@model(label='credit_example_model_demo3')\n",
    "def create_model():\n",
    "    data = pureml.dataset.fetch('credit_example_dataset_demo3:v1')\n",
    "    x_train = data['x_train']\n",
    "    y_train = data['y_train']\n",
    "    lgb_params = {\n",
    "    \"metric\": \"auc\",\n",
    "    \"learning_rate\": 0.03,\n",
    "    \"num_leaves\": 10,\n",
    "    \"max_depth\": 3,\n",
    "    \"random_state\": rand_seed,\n",
    "    \"n_jobs\": 1}\n",
    "\n",
    "    #pureml.log(params=lgb_params)\n",
    "    estimator = Pipeline(\n",
    "        steps=[\n",
    "            (\"preprocessing\", StandardScaler()),\n",
    "            (\"classifier\", lgb.LGBMClassifier(**lgb_params)),\n",
    "        ]\n",
    "    )\n",
    "\n",
    "    estimator.fit(x_train, y_train)\n",
    "    return estimator\n",
    "\n",
    "create_model()"
   ]
  },
  {
   "cell_type": "code",
   "execution_count": 13,
   "metadata": {},
   "outputs": [
    {
     "data": {
      "text/html": [
       "<style>#sk-container-id-2 {\n",
       "  /* Definition of color scheme common for light and dark mode */\n",
       "  --sklearn-color-text: black;\n",
       "  --sklearn-color-line: gray;\n",
       "  /* Definition of color scheme for unfitted estimators */\n",
       "  --sklearn-color-unfitted-level-0: #fff5e6;\n",
       "  --sklearn-color-unfitted-level-1: #f6e4d2;\n",
       "  --sklearn-color-unfitted-level-2: #ffe0b3;\n",
       "  --sklearn-color-unfitted-level-3: chocolate;\n",
       "  /* Definition of color scheme for fitted estimators */\n",
       "  --sklearn-color-fitted-level-0: #f0f8ff;\n",
       "  --sklearn-color-fitted-level-1: #d4ebff;\n",
       "  --sklearn-color-fitted-level-2: #b3dbfd;\n",
       "  --sklearn-color-fitted-level-3: cornflowerblue;\n",
       "\n",
       "  /* Specific color for light theme */\n",
       "  --sklearn-color-text-on-default-background: var(--sg-text-color, var(--theme-code-foreground, var(--jp-content-font-color1, black)));\n",
       "  --sklearn-color-background: var(--sg-background-color, var(--theme-background, var(--jp-layout-color0, white)));\n",
       "  --sklearn-color-border-box: var(--sg-text-color, var(--theme-code-foreground, var(--jp-content-font-color1, black)));\n",
       "  --sklearn-color-icon: #696969;\n",
       "\n",
       "  @media (prefers-color-scheme: dark) {\n",
       "    /* Redefinition of color scheme for dark theme */\n",
       "    --sklearn-color-text-on-default-background: var(--sg-text-color, var(--theme-code-foreground, var(--jp-content-font-color1, white)));\n",
       "    --sklearn-color-background: var(--sg-background-color, var(--theme-background, var(--jp-layout-color0, #111)));\n",
       "    --sklearn-color-border-box: var(--sg-text-color, var(--theme-code-foreground, var(--jp-content-font-color1, white)));\n",
       "    --sklearn-color-icon: #878787;\n",
       "  }\n",
       "}\n",
       "\n",
       "#sk-container-id-2 {\n",
       "  color: var(--sklearn-color-text);\n",
       "}\n",
       "\n",
       "#sk-container-id-2 pre {\n",
       "  padding: 0;\n",
       "}\n",
       "\n",
       "#sk-container-id-2 input.sk-hidden--visually {\n",
       "  border: 0;\n",
       "  clip: rect(1px 1px 1px 1px);\n",
       "  clip: rect(1px, 1px, 1px, 1px);\n",
       "  height: 1px;\n",
       "  margin: -1px;\n",
       "  overflow: hidden;\n",
       "  padding: 0;\n",
       "  position: absolute;\n",
       "  width: 1px;\n",
       "}\n",
       "\n",
       "#sk-container-id-2 div.sk-dashed-wrapped {\n",
       "  border: 1px dashed var(--sklearn-color-line);\n",
       "  margin: 0 0.4em 0.5em 0.4em;\n",
       "  box-sizing: border-box;\n",
       "  padding-bottom: 0.4em;\n",
       "  background-color: var(--sklearn-color-background);\n",
       "}\n",
       "\n",
       "#sk-container-id-2 div.sk-container {\n",
       "  /* jupyter's `normalize.less` sets `[hidden] { display: none; }`\n",
       "     but bootstrap.min.css set `[hidden] { display: none !important; }`\n",
       "     so we also need the `!important` here to be able to override the\n",
       "     default hidden behavior on the sphinx rendered scikit-learn.org.\n",
       "     See: https://github.com/scikit-learn/scikit-learn/issues/21755 */\n",
       "  display: inline-block !important;\n",
       "  position: relative;\n",
       "}\n",
       "\n",
       "#sk-container-id-2 div.sk-text-repr-fallback {\n",
       "  display: none;\n",
       "}\n",
       "\n",
       "div.sk-parallel-item,\n",
       "div.sk-serial,\n",
       "div.sk-item {\n",
       "  /* draw centered vertical line to link estimators */\n",
       "  background-image: linear-gradient(var(--sklearn-color-text-on-default-background), var(--sklearn-color-text-on-default-background));\n",
       "  background-size: 2px 100%;\n",
       "  background-repeat: no-repeat;\n",
       "  background-position: center center;\n",
       "}\n",
       "\n",
       "/* Parallel-specific style estimator block */\n",
       "\n",
       "#sk-container-id-2 div.sk-parallel-item::after {\n",
       "  content: \"\";\n",
       "  width: 100%;\n",
       "  border-bottom: 2px solid var(--sklearn-color-text-on-default-background);\n",
       "  flex-grow: 1;\n",
       "}\n",
       "\n",
       "#sk-container-id-2 div.sk-parallel {\n",
       "  display: flex;\n",
       "  align-items: stretch;\n",
       "  justify-content: center;\n",
       "  background-color: var(--sklearn-color-background);\n",
       "  position: relative;\n",
       "}\n",
       "\n",
       "#sk-container-id-2 div.sk-parallel-item {\n",
       "  display: flex;\n",
       "  flex-direction: column;\n",
       "}\n",
       "\n",
       "#sk-container-id-2 div.sk-parallel-item:first-child::after {\n",
       "  align-self: flex-end;\n",
       "  width: 50%;\n",
       "}\n",
       "\n",
       "#sk-container-id-2 div.sk-parallel-item:last-child::after {\n",
       "  align-self: flex-start;\n",
       "  width: 50%;\n",
       "}\n",
       "\n",
       "#sk-container-id-2 div.sk-parallel-item:only-child::after {\n",
       "  width: 0;\n",
       "}\n",
       "\n",
       "/* Serial-specific style estimator block */\n",
       "\n",
       "#sk-container-id-2 div.sk-serial {\n",
       "  display: flex;\n",
       "  flex-direction: column;\n",
       "  align-items: center;\n",
       "  background-color: var(--sklearn-color-background);\n",
       "  padding-right: 1em;\n",
       "  padding-left: 1em;\n",
       "}\n",
       "\n",
       "\n",
       "/* Toggleable style: style used for estimator/Pipeline/ColumnTransformer box that is\n",
       "clickable and can be expanded/collapsed.\n",
       "- Pipeline and ColumnTransformer use this feature and define the default style\n",
       "- Estimators will overwrite some part of the style using the `sk-estimator` class\n",
       "*/\n",
       "\n",
       "/* Pipeline and ColumnTransformer style (default) */\n",
       "\n",
       "#sk-container-id-2 div.sk-toggleable {\n",
       "  /* Default theme specific background. It is overwritten whether we have a\n",
       "  specific estimator or a Pipeline/ColumnTransformer */\n",
       "  background-color: var(--sklearn-color-background);\n",
       "}\n",
       "\n",
       "/* Toggleable label */\n",
       "#sk-container-id-2 label.sk-toggleable__label {\n",
       "  cursor: pointer;\n",
       "  display: block;\n",
       "  width: 100%;\n",
       "  margin-bottom: 0;\n",
       "  padding: 0.5em;\n",
       "  box-sizing: border-box;\n",
       "  text-align: center;\n",
       "}\n",
       "\n",
       "#sk-container-id-2 label.sk-toggleable__label-arrow:before {\n",
       "  /* Arrow on the left of the label */\n",
       "  content: \"▸\";\n",
       "  float: left;\n",
       "  margin-right: 0.25em;\n",
       "  color: var(--sklearn-color-icon);\n",
       "}\n",
       "\n",
       "#sk-container-id-2 label.sk-toggleable__label-arrow:hover:before {\n",
       "  color: var(--sklearn-color-text);\n",
       "}\n",
       "\n",
       "/* Toggleable content - dropdown */\n",
       "\n",
       "#sk-container-id-2 div.sk-toggleable__content {\n",
       "  max-height: 0;\n",
       "  max-width: 0;\n",
       "  overflow: hidden;\n",
       "  text-align: left;\n",
       "  /* unfitted */\n",
       "  background-color: var(--sklearn-color-unfitted-level-0);\n",
       "}\n",
       "\n",
       "#sk-container-id-2 div.sk-toggleable__content.fitted {\n",
       "  /* fitted */\n",
       "  background-color: var(--sklearn-color-fitted-level-0);\n",
       "}\n",
       "\n",
       "#sk-container-id-2 div.sk-toggleable__content pre {\n",
       "  margin: 0.2em;\n",
       "  border-radius: 0.25em;\n",
       "  color: var(--sklearn-color-text);\n",
       "  /* unfitted */\n",
       "  background-color: var(--sklearn-color-unfitted-level-0);\n",
       "}\n",
       "\n",
       "#sk-container-id-2 div.sk-toggleable__content.fitted pre {\n",
       "  /* unfitted */\n",
       "  background-color: var(--sklearn-color-fitted-level-0);\n",
       "}\n",
       "\n",
       "#sk-container-id-2 input.sk-toggleable__control:checked~div.sk-toggleable__content {\n",
       "  /* Expand drop-down */\n",
       "  max-height: 200px;\n",
       "  max-width: 100%;\n",
       "  overflow: auto;\n",
       "}\n",
       "\n",
       "#sk-container-id-2 input.sk-toggleable__control:checked~label.sk-toggleable__label-arrow:before {\n",
       "  content: \"▾\";\n",
       "}\n",
       "\n",
       "/* Pipeline/ColumnTransformer-specific style */\n",
       "\n",
       "#sk-container-id-2 div.sk-label input.sk-toggleable__control:checked~label.sk-toggleable__label {\n",
       "  color: var(--sklearn-color-text);\n",
       "  background-color: var(--sklearn-color-unfitted-level-2);\n",
       "}\n",
       "\n",
       "#sk-container-id-2 div.sk-label.fitted input.sk-toggleable__control:checked~label.sk-toggleable__label {\n",
       "  background-color: var(--sklearn-color-fitted-level-2);\n",
       "}\n",
       "\n",
       "/* Estimator-specific style */\n",
       "\n",
       "/* Colorize estimator box */\n",
       "#sk-container-id-2 div.sk-estimator input.sk-toggleable__control:checked~label.sk-toggleable__label {\n",
       "  /* unfitted */\n",
       "  background-color: var(--sklearn-color-unfitted-level-2);\n",
       "}\n",
       "\n",
       "#sk-container-id-2 div.sk-estimator.fitted input.sk-toggleable__control:checked~label.sk-toggleable__label {\n",
       "  /* fitted */\n",
       "  background-color: var(--sklearn-color-fitted-level-2);\n",
       "}\n",
       "\n",
       "#sk-container-id-2 div.sk-label label.sk-toggleable__label,\n",
       "#sk-container-id-2 div.sk-label label {\n",
       "  /* The background is the default theme color */\n",
       "  color: var(--sklearn-color-text-on-default-background);\n",
       "}\n",
       "\n",
       "/* On hover, darken the color of the background */\n",
       "#sk-container-id-2 div.sk-label:hover label.sk-toggleable__label {\n",
       "  color: var(--sklearn-color-text);\n",
       "  background-color: var(--sklearn-color-unfitted-level-2);\n",
       "}\n",
       "\n",
       "/* Label box, darken color on hover, fitted */\n",
       "#sk-container-id-2 div.sk-label.fitted:hover label.sk-toggleable__label.fitted {\n",
       "  color: var(--sklearn-color-text);\n",
       "  background-color: var(--sklearn-color-fitted-level-2);\n",
       "}\n",
       "\n",
       "/* Estimator label */\n",
       "\n",
       "#sk-container-id-2 div.sk-label label {\n",
       "  font-family: monospace;\n",
       "  font-weight: bold;\n",
       "  display: inline-block;\n",
       "  line-height: 1.2em;\n",
       "}\n",
       "\n",
       "#sk-container-id-2 div.sk-label-container {\n",
       "  text-align: center;\n",
       "}\n",
       "\n",
       "/* Estimator-specific */\n",
       "#sk-container-id-2 div.sk-estimator {\n",
       "  font-family: monospace;\n",
       "  border: 1px dotted var(--sklearn-color-border-box);\n",
       "  border-radius: 0.25em;\n",
       "  box-sizing: border-box;\n",
       "  margin-bottom: 0.5em;\n",
       "  /* unfitted */\n",
       "  background-color: var(--sklearn-color-unfitted-level-0);\n",
       "}\n",
       "\n",
       "#sk-container-id-2 div.sk-estimator.fitted {\n",
       "  /* fitted */\n",
       "  background-color: var(--sklearn-color-fitted-level-0);\n",
       "}\n",
       "\n",
       "/* on hover */\n",
       "#sk-container-id-2 div.sk-estimator:hover {\n",
       "  /* unfitted */\n",
       "  background-color: var(--sklearn-color-unfitted-level-2);\n",
       "}\n",
       "\n",
       "#sk-container-id-2 div.sk-estimator.fitted:hover {\n",
       "  /* fitted */\n",
       "  background-color: var(--sklearn-color-fitted-level-2);\n",
       "}\n",
       "\n",
       "/* Specification for estimator info (e.g. \"i\" and \"?\") */\n",
       "\n",
       "/* Common style for \"i\" and \"?\" */\n",
       "\n",
       ".sk-estimator-doc-link,\n",
       "a:link.sk-estimator-doc-link,\n",
       "a:visited.sk-estimator-doc-link {\n",
       "  float: right;\n",
       "  font-size: smaller;\n",
       "  line-height: 1em;\n",
       "  font-family: monospace;\n",
       "  background-color: var(--sklearn-color-background);\n",
       "  border-radius: 1em;\n",
       "  height: 1em;\n",
       "  width: 1em;\n",
       "  text-decoration: none !important;\n",
       "  margin-left: 1ex;\n",
       "  /* unfitted */\n",
       "  border: var(--sklearn-color-unfitted-level-1) 1pt solid;\n",
       "  color: var(--sklearn-color-unfitted-level-1);\n",
       "}\n",
       "\n",
       ".sk-estimator-doc-link.fitted,\n",
       "a:link.sk-estimator-doc-link.fitted,\n",
       "a:visited.sk-estimator-doc-link.fitted {\n",
       "  /* fitted */\n",
       "  border: var(--sklearn-color-fitted-level-1) 1pt solid;\n",
       "  color: var(--sklearn-color-fitted-level-1);\n",
       "}\n",
       "\n",
       "/* On hover */\n",
       "div.sk-estimator:hover .sk-estimator-doc-link:hover,\n",
       ".sk-estimator-doc-link:hover,\n",
       "div.sk-label-container:hover .sk-estimator-doc-link:hover,\n",
       ".sk-estimator-doc-link:hover {\n",
       "  /* unfitted */\n",
       "  background-color: var(--sklearn-color-unfitted-level-3);\n",
       "  color: var(--sklearn-color-background);\n",
       "  text-decoration: none;\n",
       "}\n",
       "\n",
       "div.sk-estimator.fitted:hover .sk-estimator-doc-link.fitted:hover,\n",
       ".sk-estimator-doc-link.fitted:hover,\n",
       "div.sk-label-container:hover .sk-estimator-doc-link.fitted:hover,\n",
       ".sk-estimator-doc-link.fitted:hover {\n",
       "  /* fitted */\n",
       "  background-color: var(--sklearn-color-fitted-level-3);\n",
       "  color: var(--sklearn-color-background);\n",
       "  text-decoration: none;\n",
       "}\n",
       "\n",
       "/* Span, style for the box shown on hovering the info icon */\n",
       ".sk-estimator-doc-link span {\n",
       "  display: none;\n",
       "  z-index: 9999;\n",
       "  position: relative;\n",
       "  font-weight: normal;\n",
       "  right: .2ex;\n",
       "  padding: .5ex;\n",
       "  margin: .5ex;\n",
       "  width: min-content;\n",
       "  min-width: 20ex;\n",
       "  max-width: 50ex;\n",
       "  color: var(--sklearn-color-text);\n",
       "  box-shadow: 2pt 2pt 4pt #999;\n",
       "  /* unfitted */\n",
       "  background: var(--sklearn-color-unfitted-level-0);\n",
       "  border: .5pt solid var(--sklearn-color-unfitted-level-3);\n",
       "}\n",
       "\n",
       ".sk-estimator-doc-link.fitted span {\n",
       "  /* fitted */\n",
       "  background: var(--sklearn-color-fitted-level-0);\n",
       "  border: var(--sklearn-color-fitted-level-3);\n",
       "}\n",
       "\n",
       ".sk-estimator-doc-link:hover span {\n",
       "  display: block;\n",
       "}\n",
       "\n",
       "/* \"?\"-specific style due to the `<a>` HTML tag */\n",
       "\n",
       "#sk-container-id-2 a.estimator_doc_link {\n",
       "  float: right;\n",
       "  font-size: 1rem;\n",
       "  line-height: 1em;\n",
       "  font-family: monospace;\n",
       "  background-color: var(--sklearn-color-background);\n",
       "  border-radius: 1rem;\n",
       "  height: 1rem;\n",
       "  width: 1rem;\n",
       "  text-decoration: none;\n",
       "  /* unfitted */\n",
       "  color: var(--sklearn-color-unfitted-level-1);\n",
       "  border: var(--sklearn-color-unfitted-level-1) 1pt solid;\n",
       "}\n",
       "\n",
       "#sk-container-id-2 a.estimator_doc_link.fitted {\n",
       "  /* fitted */\n",
       "  border: var(--sklearn-color-fitted-level-1) 1pt solid;\n",
       "  color: var(--sklearn-color-fitted-level-1);\n",
       "}\n",
       "\n",
       "/* On hover */\n",
       "#sk-container-id-2 a.estimator_doc_link:hover {\n",
       "  /* unfitted */\n",
       "  background-color: var(--sklearn-color-unfitted-level-3);\n",
       "  color: var(--sklearn-color-background);\n",
       "  text-decoration: none;\n",
       "}\n",
       "\n",
       "#sk-container-id-2 a.estimator_doc_link.fitted:hover {\n",
       "  /* fitted */\n",
       "  background-color: var(--sklearn-color-fitted-level-3);\n",
       "}\n",
       "</style><div id=\"sk-container-id-2\" class=\"sk-top-container\"><div class=\"sk-text-repr-fallback\"><pre>Pipeline(steps=[(&#x27;preprocessing&#x27;, StandardScaler()),\n",
       "                (&#x27;classifier&#x27;,\n",
       "                 LGBMClassifier(learning_rate=0.03, max_depth=3, metric=&#x27;auc&#x27;,\n",
       "                                n_jobs=1, num_leaves=10, random_state=1234))])</pre><b>In a Jupyter environment, please rerun this cell to show the HTML representation or trust the notebook. <br />On GitHub, the HTML representation is unable to render, please try loading this page with nbviewer.org.</b></div><div class=\"sk-container\" hidden><div class=\"sk-item sk-dashed-wrapped\"><div class=\"sk-label-container\"><div class=\"sk-label fitted sk-toggleable\"><input class=\"sk-toggleable__control sk-hidden--visually\" id=\"sk-estimator-id-4\" type=\"checkbox\" ><label for=\"sk-estimator-id-4\" class=\"sk-toggleable__label fitted sk-toggleable__label-arrow fitted\">&nbsp;&nbsp;Pipeline<a class=\"sk-estimator-doc-link fitted\" rel=\"noreferrer\" target=\"_blank\" href=\"https://scikit-learn.org/1.4/modules/generated/sklearn.pipeline.Pipeline.html\">?<span>Documentation for Pipeline</span></a><span class=\"sk-estimator-doc-link fitted\">i<span>Fitted</span></span></label><div class=\"sk-toggleable__content fitted\"><pre>Pipeline(steps=[(&#x27;preprocessing&#x27;, StandardScaler()),\n",
       "                (&#x27;classifier&#x27;,\n",
       "                 LGBMClassifier(learning_rate=0.03, max_depth=3, metric=&#x27;auc&#x27;,\n",
       "                                n_jobs=1, num_leaves=10, random_state=1234))])</pre></div> </div></div><div class=\"sk-serial\"><div class=\"sk-item\"><div class=\"sk-estimator fitted sk-toggleable\"><input class=\"sk-toggleable__control sk-hidden--visually\" id=\"sk-estimator-id-5\" type=\"checkbox\" ><label for=\"sk-estimator-id-5\" class=\"sk-toggleable__label fitted sk-toggleable__label-arrow fitted\">&nbsp;StandardScaler<a class=\"sk-estimator-doc-link fitted\" rel=\"noreferrer\" target=\"_blank\" href=\"https://scikit-learn.org/1.4/modules/generated/sklearn.preprocessing.StandardScaler.html\">?<span>Documentation for StandardScaler</span></a></label><div class=\"sk-toggleable__content fitted\"><pre>StandardScaler()</pre></div> </div></div><div class=\"sk-item\"><div class=\"sk-estimator fitted sk-toggleable\"><input class=\"sk-toggleable__control sk-hidden--visually\" id=\"sk-estimator-id-6\" type=\"checkbox\" ><label for=\"sk-estimator-id-6\" class=\"sk-toggleable__label fitted sk-toggleable__label-arrow fitted\">LGBMClassifier</label><div class=\"sk-toggleable__content fitted\"><pre>LGBMClassifier(learning_rate=0.03, max_depth=3, metric=&#x27;auc&#x27;, n_jobs=1,\n",
       "               num_leaves=10, random_state=1234)</pre></div> </div></div></div></div></div></div>"
      ],
      "text/plain": [
       "Pipeline(steps=[('preprocessing', StandardScaler()),\n",
       "                ('classifier',\n",
       "                 LGBMClassifier(learning_rate=0.03, max_depth=3, metric='auc',\n",
       "                                n_jobs=1, num_leaves=10, random_state=1234))])"
      ]
     },
     "execution_count": 13,
     "metadata": {},
     "output_type": "execute_result"
    }
   ],
   "source": [
    "import pureml\n",
    "\n",
    "\n",
    "pureml.model.fetch(label='credit_example_model_demo3:v1')"
   ]
  },
  {
   "cell_type": "code",
   "execution_count": 14,
   "metadata": {},
   "outputs": [
    {
     "data": {
      "text/html": [
       "<pre style=\"white-space:pre;overflow-x:auto;line-height:normal;font-family:Menlo,'DejaVu Sans Mono',consolas,'Courier New',monospace\"><span style=\"color: #008000; text-decoration-color: #008000\">Predict Function has been registered!</span>\n",
       "</pre>\n"
      ],
      "text/plain": [
       "\u001b[32mPredict Function has been registered!\u001b[0m\n"
      ]
     },
     "metadata": {},
     "output_type": "display_data"
    }
   ],
   "source": [
    "import pureml\n",
    "\n",
    "pureml.predict.add(label ='credit_example_model_demo3:v1',paths={'predict':'predict.py'})"
   ]
  },
  {
   "cell_type": "code",
   "execution_count": 15,
   "metadata": {},
   "outputs": [
    {
     "data": {
      "text/html": [
       "<pre style=\"white-space:pre;overflow-x:auto;line-height:normal;font-family:Menlo,'DejaVu Sans Mono',consolas,'Courier New',monospace\"><span style=\"color: #008000; text-decoration-color: #008000\"> predict file predict.py has been fetched</span>\n",
       "</pre>\n"
      ],
      "text/plain": [
       "\u001b[32m predict file predict.py has been fetched\u001b[0m\n"
      ]
     },
     "metadata": {},
     "output_type": "display_data"
    }
   ],
   "source": [
    "import pureml\n",
    "\n",
    "pureml.predict.fetch(label='credit_example_model_demo3:v1')"
   ]
  },
  {
   "cell_type": "markdown",
   "metadata": {},
   "source": [
    "NYC 144"
   ]
  },
  {
   "cell_type": "code",
   "execution_count": 17,
   "metadata": {},
   "outputs": [
    {
     "data": {
      "text/html": [
       "<pre style=\"white-space:pre;overflow-x:auto;line-height:normal;font-family:Menlo,'DejaVu Sans Mono',consolas,'Courier New',monospace\"><span style=\"color: #008000; text-decoration-color: #008000; font-weight: bold\"> Succesfully fetched the dataset</span>\n",
       "</pre>\n"
      ],
      "text/plain": [
       "\u001b[1;32m Succesfully fetched the dataset\u001b[0m\n"
      ]
     },
     "metadata": {},
     "output_type": "display_data"
    },
    {
     "data": {
      "text/html": [
       "<pre style=\"white-space:pre;overflow-x:auto;line-height:normal;font-family:Menlo,'DejaVu Sans Mono',consolas,'Courier New',monospace\"><span style=\"color: #008000; text-decoration-color: #008000; font-weight: bold\"> Succesfully fetched the predictor</span>\n",
       "</pre>\n"
      ],
      "text/plain": [
       "\u001b[1;32m Succesfully fetched the predictor\u001b[0m\n"
      ]
     },
     "metadata": {},
     "output_type": "display_data"
    },
    {
     "data": {
      "text/html": [
       "<pre style=\"white-space:pre;overflow-x:auto;line-height:normal;font-family:Menlo,'DejaVu Sans Mono',consolas,'Courier New',monospace\"><span style=\"color: #008000; text-decoration-color: #008000; font-weight: bold\"> Succesfully fetched the model</span>\n",
       "</pre>\n"
      ],
      "text/plain": [
       "\u001b[1;32m Succesfully fetched the model\u001b[0m\n"
      ]
     },
     "metadata": {},
     "output_type": "display_data"
    },
    {
     "data": {
      "text/html": [
       "<pre style=\"white-space:pre;overflow-x:auto;line-height:normal;font-family:Menlo,'DejaVu Sans Mono',consolas,'Courier New',monospace\"><span style=\"color: #008000; text-decoration-color: #008000\">Succesfully fetched the framework details</span>\n",
       "</pre>\n"
      ],
      "text/plain": [
       "\u001b[32mSuccesfully fetched the framework details\u001b[0m\n"
      ]
     },
     "metadata": {},
     "output_type": "display_data"
    },
    {
     "data": {
      "text/html": [
       "<pre style=\"white-space:pre;overflow-x:auto;line-height:normal;font-family:Menlo,'DejaVu Sans Mono',consolas,'Courier New',monospace\">Framework assigned to model\n",
       "</pre>\n"
      ],
      "text/plain": [
       "Framework assigned to model\n"
      ]
     },
     "metadata": {},
     "output_type": "display_data"
    },
    {
     "data": {
      "text/html": [
       "<pre style=\"white-space:pre;overflow-x:auto;line-height:normal;font-family:Menlo,'DejaVu Sans Mono',consolas,'Courier New',monospace\">Fetched the assignments\n",
       "</pre>\n"
      ],
      "text/plain": [
       "Fetched the assignments\n"
      ]
     },
     "metadata": {},
     "output_type": "display_data"
    },
    {
     "data": {
      "text/html": [
       "<pre style=\"white-space:pre;overflow-x:auto;line-height:normal;font-family:Menlo,'DejaVu Sans Mono',consolas,'Courier New',monospace\"><span style=\"color: #008000; text-decoration-color: #008000\">Succesfully fetched the framework details</span>\n",
       "</pre>\n"
      ],
      "text/plain": [
       "\u001b[32mSuccesfully fetched the framework details\u001b[0m\n"
      ]
     },
     "metadata": {},
     "output_type": "display_data"
    },
    {
     "name": "stdout",
     "output_type": "stream",
     "text": [
      "'disparate_impact'\n",
      "argument of type 'NoneType' is not iterable\n",
      "'balanced_accuracy'\n",
      "argument of type 'NoneType' is not iterable\n",
      "Unable to compute balanced_accuracy\n",
      "got an unexpected keyword argument 'sensitive_features'\n",
      "Exception : list indices must be integers or slices, not str\n",
      "'demographic_parity_difference'\n",
      "argument of type 'NoneType' is not iterable\n",
      "'balanced_acc_error'\n",
      "argument of type 'NoneType' is not iterable\n"
     ]
    },
    {
     "data": {
      "text/html": [
       "<pre style=\"white-space:pre;overflow-x:auto;line-height:normal;font-family:Menlo,'DejaVu Sans Mono',consolas,'Courier New',monospace\"><span style=\"color: #008000; text-decoration-color: #008000\">Succesfully fetched the framework details</span>\n",
       "</pre>\n"
      ],
      "text/plain": [
       "\u001b[32mSuccesfully fetched the framework details\u001b[0m\n"
      ]
     },
     "metadata": {},
     "output_type": "display_data"
    },
    {
     "name": "stdout",
     "output_type": "stream",
     "text": [
      "'disparate_impact'\n",
      "argument of type 'NoneType' is not iterable\n",
      "'balanced_accuracy'\n",
      "argument of type 'NoneType' is not iterable\n",
      "Unable to compute balanced_accuracy\n",
      "got an unexpected keyword argument 'sensitive_features'\n",
      "Exception : list indices must be integers or slices, not str\n",
      "'demographic_parity_difference'\n",
      "argument of type 'NoneType' is not iterable\n",
      "'balanced_acc_error'\n",
      "argument of type 'NoneType' is not iterable\n"
     ]
    },
    {
     "data": {
      "text/html": [
       "<pre style=\"white-space:pre;overflow-x:auto;line-height:normal;font-family:Menlo,'DejaVu Sans Mono',consolas,'Courier New',monospace\"><span style=\"color: #008000; text-decoration-color: #008000\">Succesfully fetched the framework details</span>\n",
       "</pre>\n"
      ],
      "text/plain": [
       "\u001b[32mSuccesfully fetched the framework details\u001b[0m\n"
      ]
     },
     "metadata": {},
     "output_type": "display_data"
    },
    {
     "name": "stdout",
     "output_type": "stream",
     "text": [
      "'disparate_impact'\n",
      "argument of type 'NoneType' is not iterable\n",
      "'balanced_accuracy'\n",
      "argument of type 'NoneType' is not iterable\n",
      "Unable to compute balanced_accuracy\n",
      "got an unexpected keyword argument 'sensitive_features'\n",
      "Exception : list indices must be integers or slices, not str\n",
      "'demographic_parity_difference'\n",
      "argument of type 'NoneType' is not iterable\n",
      "'balanced_acc_error'\n",
      "argument of type 'NoneType' is not iterable\n"
     ]
    },
    {
     "data": {
      "text/html": [
       "<pre style=\"white-space:pre;overflow-x:auto;line-height:normal;font-family:Menlo,'DejaVu Sans Mono',consolas,'Courier New',monospace\">Fetched the assignments\n",
       "</pre>\n"
      ],
      "text/plain": [
       "Fetched the assignments\n"
      ]
     },
     "metadata": {},
     "output_type": "display_data"
    },
    {
     "data": {
      "text/html": [
       "<pre style=\"white-space:pre;overflow-x:auto;line-height:normal;font-family:Menlo,'DejaVu Sans Mono',consolas,'Courier New',monospace\"><span style=\"color: #008080; text-decoration-color: #008080; font-weight: bold\">500</span>\n",
       "</pre>\n"
      ],
      "text/plain": [
       "\u001b[1;36m500\u001b[0m\n"
      ]
     },
     "metadata": {},
     "output_type": "display_data"
    },
    {
     "data": {
      "text/html": [
       "<pre style=\"white-space:pre;overflow-x:auto;line-height:normal;font-family:Menlo,'DejaVu Sans Mono',consolas,'Courier New',monospace\">Could not update the assignments\n",
       "</pre>\n"
      ],
      "text/plain": [
       "Could not update the assignments\n"
      ]
     },
     "metadata": {},
     "output_type": "display_data"
    },
    {
     "data": {
      "text/html": [
       "<pre style=\"white-space:pre;overflow-x:auto;line-height:normal;font-family:Menlo,'DejaVu Sans Mono',consolas,'Courier New',monospace\"><span style=\"color: #008000; text-decoration-color: #008000\">Succesfully fetched the framework details</span>\n",
       "</pre>\n"
      ],
      "text/plain": [
       "\u001b[32mSuccesfully fetched the framework details\u001b[0m\n"
      ]
     },
     "metadata": {},
     "output_type": "display_data"
    },
    {
     "data": {
      "text/html": [
       "<pre style=\"white-space:pre;overflow-x:auto;line-height:normal;font-family:Menlo,'DejaVu Sans Mono',consolas,'Courier New',monospace\">Report Generated\n",
       "</pre>\n"
      ],
      "text/plain": [
       "Report Generated\n"
      ]
     },
     "metadata": {},
     "output_type": "display_data"
    },
    {
     "data": {
      "text/html": [
       "<pre style=\"white-space:pre;overflow-x:auto;line-height:normal;font-family:Menlo,'DejaVu Sans Mono',consolas,'Courier New',monospace\">Use this URL to view Report: \n",
       "<span style=\"color: #0000ff; text-decoration-color: #0000ff; text-decoration: underline\">https://pub-cc8d623e43954c8fa75380adfd3bb762.r2.dev/reports/credit_example_model_demo3_report_8ao0dzpp.html</span>\n",
       "</pre>\n"
      ],
      "text/plain": [
       "Use this URL to view Report: \n",
       "\u001b[4;94mhttps://pub-cc8d623e43954c8fa75380adfd3bb762.r2.dev/reports/credit_example_model_demo3_report_8ao0dzpp.html\u001b[0m\n"
      ]
     },
     "metadata": {},
     "output_type": "display_data"
    },
    {
     "data": {
      "text/html": [
       "<pre style=\"white-space:pre;overflow-x:auto;line-height:normal;font-family:Menlo,'DejaVu Sans Mono',consolas,'Courier New',monospace\">Reports Fetched\n",
       "</pre>\n"
      ],
      "text/plain": [
       "Reports Fetched\n"
      ]
     },
     "metadata": {},
     "output_type": "display_data"
    }
   ],
   "source": [
    "from pureml_policy import policy_eval\n",
    "results = policy_eval.eval(framework_name  = \"nyc144\",\n",
    "            label_model='credit_example_model_demo3:v1',\n",
    "            label_dataset='credit_example_dataset_demo3:v1')"
   ]
  },
  {
   "cell_type": "code",
   "execution_count": 18,
   "metadata": {},
   "outputs": [
    {
     "data": {
      "text/plain": [
       "{'framework_details': {'name': 'nyc144'},\n",
       " 'model_details': {'name': 'credit_example_model_demo3', 'version': 'v1'},\n",
       " 'dataset_details': {'name': 'credit_example_dataset_demo3', 'version': 'v1'},\n",
       " 'sensitive_columns': ['2', '1'],\n",
       " 'policies': {'complete': [{'name': 'recall',\n",
       "    'category': 'operational',\n",
       "    'value': '0.525963149078727',\n",
       "    'status': 'fail',\n",
       "    'threshold': '0.8',\n",
       "    'columns_sensitive': None},\n",
       "   {'name': 'f1',\n",
       "    'category': 'operational',\n",
       "    'value': '0.6381033022861982',\n",
       "    'status': 'fail',\n",
       "    'threshold': '0.7',\n",
       "    'columns_sensitive': None},\n",
       "   {'name': 'accuracy',\n",
       "    'category': 'operational',\n",
       "    'value': '0.7964761904761904',\n",
       "    'status': 'pass',\n",
       "    'threshold': '0.7',\n",
       "    'columns_sensitive': None},\n",
       "   {'name': 'precision',\n",
       "    'category': 'operational',\n",
       "    'value': '0.8110202324580285',\n",
       "    'status': 'pass',\n",
       "    'threshold': '0.8',\n",
       "    'columns_sensitive': None},\n",
       "   {'name': 'disparate_impact',\n",
       "    'category': 'fairness',\n",
       "    'value': '0.8420076438848921',\n",
       "    'status': 'pass',\n",
       "    'threshold': '0.8',\n",
       "    'columns_sensitive': None},\n",
       "   {'name': 'demographic_parity_difference',\n",
       "    'category': 'fairness',\n",
       "    'value': '0.057506222510143534',\n",
       "    'status': 'fail',\n",
       "    'threshold': '0.8',\n",
       "    'columns_sensitive': None},\n",
       "   {'name': 'balanced_acc_error',\n",
       "    'category': 'fairness',\n",
       "    'value': '0.009093399225773232',\n",
       "    'status': 'fail',\n",
       "    'threshold': '0.7',\n",
       "    'columns_sensitive': None}],\n",
       "  'subsets': [{'column': [{'name': 'index', 'value': '1'}],\n",
       "    'policy': [{'name': 'recall',\n",
       "      'category': 'operational',\n",
       "      'value': '0.6674491392801252',\n",
       "      'status': 'fail',\n",
       "      'threshold': '0.8',\n",
       "      'columns_sensitive': [{'name': 'index', 'value': '1'}]},\n",
       "     {'name': 'f1',\n",
       "      'category': 'operational',\n",
       "      'value': '0.7575488454706927',\n",
       "      'status': 'pass',\n",
       "      'threshold': '0.7',\n",
       "      'columns_sensitive': [{'name': 'index', 'value': '1'}]},\n",
       "     {'name': 'accuracy',\n",
       "      'category': 'operational',\n",
       "      'value': '0.8690647482014389',\n",
       "      'status': 'pass',\n",
       "      'threshold': '0.7',\n",
       "      'columns_sensitive': [{'name': 'index', 'value': '1'}]},\n",
       "     {'name': 'precision',\n",
       "      'category': 'operational',\n",
       "      'value': '0.8757700205338809',\n",
       "      'status': 'pass',\n",
       "      'threshold': '0.8',\n",
       "      'columns_sensitive': [{'name': 'index', 'value': '1'}]},\n",
       "     {'name': 'demographic_parity_difference',\n",
       "      'category': 'fairness',\n",
       "      'value': '0.0',\n",
       "      'status': 'fail',\n",
       "      'threshold': '0.8',\n",
       "      'columns_sensitive': [{'name': 'index', 'value': '1'}]},\n",
       "     {'name': 'balanced_acc_error',\n",
       "      'category': 'fairness',\n",
       "      'value': '0.011913189792152125',\n",
       "      'status': 'fail',\n",
       "      'threshold': '0.7',\n",
       "      'columns_sensitive': [{'name': 'index', 'value': '1'}]},\n",
       "     {'name': 'disparate_impact',\n",
       "      'category': 'fairness',\n",
       "      'value': '0.8420076438848921',\n",
       "      'status': 'pass',\n",
       "      'threshold': '0.8',\n",
       "      'columns_sensitive': [{'name': 'index', 'value': '1'}]}]},\n",
       "   {'column': [{'name': 'index', 'value': '2'}],\n",
       "    'policy': [{'name': 'recall',\n",
       "      'category': 'operational',\n",
       "      'value': '0.4474826388888889',\n",
       "      'status': 'fail',\n",
       "      'threshold': '0.8',\n",
       "      'columns_sensitive': [{'name': 'index', 'value': '2'}]},\n",
       "     {'name': 'f1',\n",
       "      'category': 'operational',\n",
       "      'value': '0.5644675609088421',\n",
       "      'status': 'fail',\n",
       "      'threshold': '0.7',\n",
       "      'columns_sensitive': [{'name': 'index', 'value': '2'}]},\n",
       "     {'name': 'accuracy',\n",
       "      'category': 'operational',\n",
       "      'value': '0.7486571879936809',\n",
       "      'status': 'pass',\n",
       "      'threshold': '0.7',\n",
       "      'columns_sensitive': [{'name': 'index', 'value': '2'}]},\n",
       "     {'name': 'precision',\n",
       "      'category': 'operational',\n",
       "      'value': '0.7642698295033358',\n",
       "      'status': 'fail',\n",
       "      'threshold': '0.8',\n",
       "      'columns_sensitive': [{'name': 'index', 'value': '2'}]},\n",
       "     {'name': 'demographic_parity_difference',\n",
       "      'category': 'fairness',\n",
       "      'value': '0.0',\n",
       "      'status': 'fail',\n",
       "      'threshold': '0.8',\n",
       "      'columns_sensitive': [{'name': 'index', 'value': '2'}]},\n",
       "     {'name': 'balanced_acc_error',\n",
       "      'category': 'fairness',\n",
       "      'value': '0.012843157543219253',\n",
       "      'status': 'fail',\n",
       "      'threshold': '0.7',\n",
       "      'columns_sensitive': [{'name': 'index', 'value': '2'}]},\n",
       "     {'name': 'disparate_impact',\n",
       "      'category': 'fairness',\n",
       "      'value': '1.0',\n",
       "      'status': 'pass',\n",
       "      'threshold': '0.8',\n",
       "      'columns_sensitive': [{'name': 'index', 'value': '2'}]}]}]},\n",
       " 'ethical_considerations': ' ',\n",
       " 'Caveats_and_recommendations': ' '}"
      ]
     },
     "execution_count": 18,
     "metadata": {},
     "output_type": "execute_result"
    }
   ],
   "source": [
    "results"
   ]
  },
  {
   "cell_type": "markdown",
   "metadata": {},
   "source": [
    "NIST"
   ]
  },
  {
   "cell_type": "code",
   "execution_count": 19,
   "metadata": {},
   "outputs": [
    {
     "data": {
      "text/html": [
       "<pre style=\"white-space:pre;overflow-x:auto;line-height:normal;font-family:Menlo,'DejaVu Sans Mono',consolas,'Courier New',monospace\"><span style=\"color: #008000; text-decoration-color: #008000; font-weight: bold\"> Succesfully fetched the dataset</span>\n",
       "</pre>\n"
      ],
      "text/plain": [
       "\u001b[1;32m Succesfully fetched the dataset\u001b[0m\n"
      ]
     },
     "metadata": {},
     "output_type": "display_data"
    },
    {
     "data": {
      "text/html": [
       "<pre style=\"white-space:pre;overflow-x:auto;line-height:normal;font-family:Menlo,'DejaVu Sans Mono',consolas,'Courier New',monospace\"><span style=\"color: #008000; text-decoration-color: #008000; font-weight: bold\"> Succesfully fetched the predictor</span>\n",
       "</pre>\n"
      ],
      "text/plain": [
       "\u001b[1;32m Succesfully fetched the predictor\u001b[0m\n"
      ]
     },
     "metadata": {},
     "output_type": "display_data"
    },
    {
     "data": {
      "text/html": [
       "<pre style=\"white-space:pre;overflow-x:auto;line-height:normal;font-family:Menlo,'DejaVu Sans Mono',consolas,'Courier New',monospace\"><span style=\"color: #008000; text-decoration-color: #008000; font-weight: bold\"> Succesfully fetched the model</span>\n",
       "</pre>\n"
      ],
      "text/plain": [
       "\u001b[1;32m Succesfully fetched the model\u001b[0m\n"
      ]
     },
     "metadata": {},
     "output_type": "display_data"
    },
    {
     "data": {
      "text/html": [
       "<pre style=\"white-space:pre;overflow-x:auto;line-height:normal;font-family:Menlo,'DejaVu Sans Mono',consolas,'Courier New',monospace\"><span style=\"color: #008000; text-decoration-color: #008000\">Succesfully fetched the framework details</span>\n",
       "</pre>\n"
      ],
      "text/plain": [
       "\u001b[32mSuccesfully fetched the framework details\u001b[0m\n"
      ]
     },
     "metadata": {},
     "output_type": "display_data"
    },
    {
     "data": {
      "text/html": [
       "<pre style=\"white-space:pre;overflow-x:auto;line-height:normal;font-family:Menlo,'DejaVu Sans Mono',consolas,'Courier New',monospace\">Framework assigned to model\n",
       "</pre>\n"
      ],
      "text/plain": [
       "Framework assigned to model\n"
      ]
     },
     "metadata": {},
     "output_type": "display_data"
    },
    {
     "data": {
      "text/html": [
       "<pre style=\"white-space:pre;overflow-x:auto;line-height:normal;font-family:Menlo,'DejaVu Sans Mono',consolas,'Courier New',monospace\">Fetched the assignments\n",
       "</pre>\n"
      ],
      "text/plain": [
       "Fetched the assignments\n"
      ]
     },
     "metadata": {},
     "output_type": "display_data"
    },
    {
     "data": {
      "text/html": [
       "<pre style=\"white-space:pre;overflow-x:auto;line-height:normal;font-family:Menlo,'DejaVu Sans Mono',consolas,'Courier New',monospace\"><span style=\"color: #008000; text-decoration-color: #008000\">Succesfully fetched the framework details</span>\n",
       "</pre>\n"
      ],
      "text/plain": [
       "\u001b[32mSuccesfully fetched the framework details\u001b[0m\n"
      ]
     },
     "metadata": {},
     "output_type": "display_data"
    },
    {
     "name": "stdout",
     "output_type": "stream",
     "text": [
      "'predictive_value_parity'\n",
      "argument of type 'NoneType' is not iterable\n",
      "'false_positive_parity'\n",
      "argument of type 'NoneType' is not iterable\n",
      "'equal_opportunity'\n",
      "argument of type 'NoneType' is not iterable\n",
      "'true_positive_parity'\n",
      "argument of type 'NoneType' is not iterable\n"
     ]
    },
    {
     "data": {
      "text/html": [
       "<pre style=\"white-space:pre;overflow-x:auto;line-height:normal;font-family:Menlo,'DejaVu Sans Mono',consolas,'Courier New',monospace\"><span style=\"color: #008000; text-decoration-color: #008000\">Succesfully fetched the framework details</span>\n",
       "</pre>\n"
      ],
      "text/plain": [
       "\u001b[32mSuccesfully fetched the framework details\u001b[0m\n"
      ]
     },
     "metadata": {},
     "output_type": "display_data"
    },
    {
     "name": "stdout",
     "output_type": "stream",
     "text": [
      "'predictive_value_parity'\n",
      "argument of type 'NoneType' is not iterable\n",
      "'false_positive_parity'\n",
      "argument of type 'NoneType' is not iterable\n",
      "'equal_opportunity'\n",
      "argument of type 'NoneType' is not iterable\n",
      "'true_positive_parity'\n",
      "argument of type 'NoneType' is not iterable\n"
     ]
    },
    {
     "data": {
      "text/html": [
       "<pre style=\"white-space:pre;overflow-x:auto;line-height:normal;font-family:Menlo,'DejaVu Sans Mono',consolas,'Courier New',monospace\"><span style=\"color: #008000; text-decoration-color: #008000\">Succesfully fetched the framework details</span>\n",
       "</pre>\n"
      ],
      "text/plain": [
       "\u001b[32mSuccesfully fetched the framework details\u001b[0m\n"
      ]
     },
     "metadata": {},
     "output_type": "display_data"
    },
    {
     "name": "stdout",
     "output_type": "stream",
     "text": [
      "'predictive_value_parity'\n",
      "argument of type 'NoneType' is not iterable\n",
      "'false_positive_parity'\n",
      "argument of type 'NoneType' is not iterable\n",
      "'equal_opportunity'\n",
      "argument of type 'NoneType' is not iterable\n",
      "'true_positive_parity'\n",
      "argument of type 'NoneType' is not iterable\n"
     ]
    },
    {
     "data": {
      "text/html": [
       "<pre style=\"white-space:pre;overflow-x:auto;line-height:normal;font-family:Menlo,'DejaVu Sans Mono',consolas,'Courier New',monospace\">Fetched the assignments\n",
       "</pre>\n"
      ],
      "text/plain": [
       "Fetched the assignments\n"
      ]
     },
     "metadata": {},
     "output_type": "display_data"
    },
    {
     "data": {
      "text/html": [
       "<pre style=\"white-space:pre;overflow-x:auto;line-height:normal;font-family:Menlo,'DejaVu Sans Mono',consolas,'Courier New',monospace\"><span style=\"color: #008080; text-decoration-color: #008080; font-weight: bold\">200</span>\n",
       "</pre>\n"
      ],
      "text/plain": [
       "\u001b[1;36m200\u001b[0m\n"
      ]
     },
     "metadata": {},
     "output_type": "display_data"
    },
    {
     "data": {
      "text/html": [
       "<pre style=\"white-space:pre;overflow-x:auto;line-height:normal;font-family:Menlo,'DejaVu Sans Mono',consolas,'Courier New',monospace\">Updated the assignments\n",
       "</pre>\n"
      ],
      "text/plain": [
       "Updated the assignments\n"
      ]
     },
     "metadata": {},
     "output_type": "display_data"
    },
    {
     "data": {
      "text/html": [
       "<pre style=\"white-space:pre;overflow-x:auto;line-height:normal;font-family:Menlo,'DejaVu Sans Mono',consolas,'Courier New',monospace\">Updated the Assignments\n",
       "</pre>\n"
      ],
      "text/plain": [
       "Updated the Assignments\n"
      ]
     },
     "metadata": {},
     "output_type": "display_data"
    },
    {
     "data": {
      "text/html": [
       "<pre style=\"white-space:pre;overflow-x:auto;line-height:normal;font-family:Menlo,'DejaVu Sans Mono',consolas,'Courier New',monospace\"><span style=\"color: #008000; text-decoration-color: #008000\">Succesfully fetched the framework details</span>\n",
       "</pre>\n"
      ],
      "text/plain": [
       "\u001b[32mSuccesfully fetched the framework details\u001b[0m\n"
      ]
     },
     "metadata": {},
     "output_type": "display_data"
    },
    {
     "data": {
      "text/html": [
       "<pre style=\"white-space:pre;overflow-x:auto;line-height:normal;font-family:Menlo,'DejaVu Sans Mono',consolas,'Courier New',monospace\">Report Generated\n",
       "</pre>\n"
      ],
      "text/plain": [
       "Report Generated\n"
      ]
     },
     "metadata": {},
     "output_type": "display_data"
    },
    {
     "data": {
      "text/html": [
       "<pre style=\"white-space:pre;overflow-x:auto;line-height:normal;font-family:Menlo,'DejaVu Sans Mono',consolas,'Courier New',monospace\">Use this URL to view Report: \n",
       "<span style=\"color: #0000ff; text-decoration-color: #0000ff; text-decoration: underline\">https://pub-cc8d623e43954c8fa75380adfd3bb762.r2.dev/reports/credit_example_model_demo3_report_i2a2cilx.html</span>\n",
       "</pre>\n"
      ],
      "text/plain": [
       "Use this URL to view Report: \n",
       "\u001b[4;94mhttps://pub-cc8d623e43954c8fa75380adfd3bb762.r2.dev/reports/credit_example_model_demo3_report_i2a2cilx.html\u001b[0m\n"
      ]
     },
     "metadata": {},
     "output_type": "display_data"
    },
    {
     "data": {
      "text/html": [
       "<pre style=\"white-space:pre;overflow-x:auto;line-height:normal;font-family:Menlo,'DejaVu Sans Mono',consolas,'Courier New',monospace\">Reports Fetched\n",
       "</pre>\n"
      ],
      "text/plain": [
       "Reports Fetched\n"
      ]
     },
     "metadata": {},
     "output_type": "display_data"
    }
   ],
   "source": [
    "from pureml_policy import policy_eval\n",
    "results = policy_eval.eval(framework_name  = \"NIST\",\n",
    "            label_model='credit_example_model_demo3:v1',\n",
    "            label_dataset='credit_example_dataset_demo3:v1')"
   ]
  },
  {
   "cell_type": "code",
   "execution_count": null,
   "metadata": {},
   "outputs": [],
   "source": [
    "results"
   ]
  },
  {
   "cell_type": "code",
   "execution_count": null,
   "metadata": {},
   "outputs": [],
   "source": []
  }
 ],
 "metadata": {
  "kernelspec": {
   "display_name": "test-pypi2",
   "language": "python",
   "name": "python3"
  },
  "language_info": {
   "codemirror_mode": {
    "name": "ipython",
    "version": 3
   },
   "file_extension": ".py",
   "mimetype": "text/x-python",
   "name": "python",
   "nbconvert_exporter": "python",
   "pygments_lexer": "ipython3",
   "version": "3.10.12"
  },
  "orig_nbformat": 4
 },
 "nbformat": 4,
 "nbformat_minor": 2
}
